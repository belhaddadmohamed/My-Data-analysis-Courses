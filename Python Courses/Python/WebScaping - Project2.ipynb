{
 "cells": [
  {
   "cell_type": "code",
   "execution_count": 1,
   "id": "280b7d0f",
   "metadata": {},
   "outputs": [],
   "source": [
    "from selenium import webdriver\n",
    "from bs4 import BeautifulSoup\n",
    "import requests\n",
    "import pandas as pd"
   ]
  },
  {
   "cell_type": "code",
   "execution_count": 19,
   "id": "0c94921b",
   "metadata": {},
   "outputs": [],
   "source": [
    "page = requests.get('https://search.certifications.sba.gov/advanced?page=1')\n",
    "soup = BeautifulSoup(page.text, 'html')\n",
    "# print(soup.prettify())"
   ]
  },
  {
   "cell_type": "markdown",
   "id": "9a1685f9",
   "metadata": {},
   "source": [
    "### What's Going On\n",
    "The page at https://search.certifications.sba.gov/advanced?page=1 relies on JavaScript to load its content after the initial HTML is served, which is why static fetches only return an empty body."
   ]
  },
  {
   "cell_type": "markdown",
   "id": "88536a08",
   "metadata": {},
   "source": [
    "* 1- Upgrade pip\n",
    "* 2- install necessary libraries\n",
    "* 3- install webdriver for the Edge() \"[https://learn.microsoft.com/fr-fr/microsoft-edge/webdriver/?tabs=python&form=MA13LH#choose-a-webdriver-testing-framework](https://learn.microsoft.com/fr-fr/microsoft-edge/webdriver/?tabs=python&form=MA13LH#choose-a-webdriver-testing-framework)\""
   ]
  },
  {
   "cell_type": "markdown",
   "id": "2d211c46",
   "metadata": {},
   "source": [
    "## 2- Dynamic Content Scraping \"Selenuim\""
   ]
  },
  {
   "cell_type": "code",
   "execution_count": 20,
   "id": "2b0f47af",
   "metadata": {},
   "outputs": [],
   "source": [
    "# from requests_html import AsyncHTMLSession\n",
    "# from requests_html import HTMLSession\n",
    "# from bs4 import BeautifulSoup\n",
    "\n",
    "# url = 'https://react-amazon-bestsellers-books-dy.netlify.app/'\n",
    "\n",
    "# from requests_html import HTMLSession\n",
    "\n",
    "# session = HTMLSession()\n",
    "# response = session.get(url)\n",
    "# response.html.render()\n",
    "# resp=response.html.raw_html\n",
    "\n",
    "# print(response.status_code)\n",
    "# # print(response.html.html)\n",
    "# # print(response.html.find('article.book'))\n",
    "\n",
    "# soup = BeautifulSoup(response.html.html, 'html.parser')\n",
    "# books = soup.find_all('article', class_= 'book')\n",
    "\n",
    "# for book in books:\n",
    "#   print(book.find('h2').text)"
   ]
  },
  {
   "cell_type": "code",
   "execution_count": 23,
   "id": "37bb3194",
   "metadata": {},
   "outputs": [
    {
     "data": {
      "text/plain": [
       "'<html lang=\"en\"><head>\\n    <meta charset=\"UTF-8\">\\n    <meta developer=\"Belhaddad Mohamed Islem\">\\n    <link rel=\"icon\" type=\"image/svg+xml\" href=\"/images/insoovision_logo.png\">\\n    <meta name=\"viewport\" content=\"width=device-width, initial-scale=1.0\">\\n    <title>Insoovision</title>\\n    <script type=\"module\" crossorigin=\"\" src=\"/assets/index-BjplRpQR.js\"></script>\\n    <link rel=\"stylesheet\" crossorigin=\"\" href=\"/assets/index-DU4rsLQa.css\">\\n  </head>\\n  <body>\\n    <div id=\"root\"><div class=\"text-center\"><header class=\"fixed start-0 top-0 z-20 w-full border-b bg-white text-base dark:bg-white\"><div class=\"bg-primary py-1 text-white hidden\" id=\"contact_info\"><div class=\"mx-auto flex max-w-screen-xl items-center justify-between px-4\"><div class=\"flex items-center\"><svg class=\"mr-2 size-5 text-white\" fill=\"currentColor\" viewBox=\"0 0 24 24\"><path d=\"M6.62 10.79a15.91 15.91 0 006.59 6.59l2.2-2.2a1 1 0 011.11-.27 11.72 11.72 0 003.68.61 1 1 0 011 1v3.79a1 1 0 01-1 1A17.92 17.92 0 012 4a1 1 0 011-1h3.79a1 1 0 011 1 11.72 11.72 0 00.61 3.68 1 1 0 01-.27 1.11z\"></path></svg><a href=\"tel:0660812512\" target=\"_blank\" class=\"phone1 flex items-center hover:underline\">(+213) 6 60 81 25 12</a><span class=\"mx-2\">/</span><a href=\"tel:030757660\" target=\"_blank\" class=\"phone2 flex items-center hover:underline\">(+213) 30 75 76 60</a></div><div><a href=\"https://maps.app.goo.gl/8jTPcGrQWdFb5KRv9\" target=\"_blank\" class=\"map mr-4 flex items-center hover:underline\"><svg class=\"mr-1 flex size-5 text-white dark:text-white\" aria-hidden=\"true\" xmlns=\"http:www.w3.org/2000/svg\" width=\"24\" height=\"24\" fill=\"currentColor\" viewBox=\"0 0 24 24\"><path fill-rule=\"evenodd\" d=\"M11.906 1.994a8.002 8.002 0 0 1 8.09 8.421 7.996 7.996 0 0 1-1.297 3.957.996.996 0 0 1-.133.204l-.108.129c-.178.243-.37.477-.573.699l-5.112 6.224a1 1 0 0 1-1.545 0L5.982 15.26l-.002-.002a18.146 18.146 0 0 1-.309-.38l-.133-.163a.999.999 0 0 1-.13-.202 7.995 7.995 0 0 1 6.498-12.518ZM15 9.997a3 3 0 1 1-5.999 0 3 3 0 0 1 5.999 0Z\" clip-rule=\"evenodd\"></path></svg><span>Cité YAHIAOUI Coopérative immobiliére des fréres HABECHE (52 Lots), N-12, Sétif</span></a></div></div></div><nav class=\"px-2 py-2.5 dark:border-gray-700 dark:bg-gray-800 sm:px-4 fixed z-50 w-full border-b border-gray-100 bg-white lg:px-16\"><div class=\"mx-auto flex flex-wrap items-center justify-between\"><a class=\"flex items-center ml-2 sm:ml-0\" href=\"/\"><img src=\"/images/insoovision_logo.png\" class=\"mr-1 h-6\" alt=\"Insoovision Logo\"><span class=\"self-center whitespace-nowrap text-xl font-semibold dark:text-white\">INSOOVISION</span></a><div class=\"flex md:order-2\"><div class=\"candidate-btn\"><button type=\"button\" class=\" bg-primary flex items-center rounded-lg px-4 py-2.5 text-sm font-medium text-white hover:bg-green-800 focus:outline-none focus:ring-4 focus:ring-green-300 md:flex\">Candidature <svg class=\"text-primary w-8 dark:text-white\" aria-hidden=\"true\" xmlns=\"http:www.w3.org/2000/svg\" width=\"24\" height=\"24\" fill=\"none\" viewBox=\"0 0 24 24\"><path class=\"text-white\" stroke=\"currentColor\" stroke-linecap=\"round\" stroke-linejoin=\"round\" stroke-width=\"2\" d=\"M19 12H5m14 0-4 4m4-4-4-4\"></path></svg></button></div><button data-testid=\"flowbite-navbar-toggle\" class=\"items-center rounded-lg p-2 text-sm text-gray-500 hover:bg-gray-100 focus:outline-none focus:ring-2 focus:ring-gray-200 dark:text-gray-400 dark:hover:bg-gray-700 dark:focus:ring-gray-600 md:hidden ml-1 block\"><span class=\"sr-only\">Open main menu</span><svg stroke=\"currentColor\" fill=\"currentColor\" stroke-width=\"0\" viewBox=\"0 0 448 512\" aria-hidden=\"true\" class=\"h-6 w-6 shrink-0\" height=\"1em\" width=\"1em\" xmlns=\"http://www.w3.org/2000/svg\"><path d=\"M16 132h416c8.837 0 16-7.163 16-16V76c0-8.837-7.163-16-16-16H16C7.163 60 0 67.163 0 76v40c0 8.837 7.163 16 16 16zm0 160h416c8.837 0 16-7.163 16-16v-40c0-8.837-7.163-16-16-16H16c-8.837 0-16 7.163-16 16v40c0 8.837 7.163 16 16 16zm0 160h416c8.837 0 16-7.163 16-16v-40c0-8.837-7.163-16-16-16H16c-8.837 0-16 7.163-16 16v40c0 8.837 7.163 16 16 16z\"></path></svg></button></div><div data-testid=\"flowbite-navbar-collapse\" class=\"w-full md:block md:w-auto hidden\"><ul class=\"mt-4 flex flex-col md:mt-0 md:flex-row md:space-x-8 md:text-sm md:font-medium\"><li><a class=\"block py-2 pl-3 pr-4 md:p-0 bg-cyan-700 text-white dark:text-white md:bg-transparent md:text-cyan-700\" href=\"/\">Accueil</a></li><button type=\"button\" class=\"flex items-center\" aria-expanded=\"false\" aria-haspopup=\"menu\" id=\":r1:\">Graduation<svg stroke=\"currentColor\" fill=\"none\" stroke-width=\"2\" viewBox=\"0 0 24 24\" aria-hidden=\"true\" class=\"ml-2 h-4 w-4\" height=\"1em\" width=\"1em\" xmlns=\"http://www.w3.org/2000/svg\"><path stroke-linecap=\"round\" stroke-linejoin=\"round\" d=\"M19 9l-7 7-7-7\"></path></svg></button><button type=\"button\" class=\"flex items-center\" aria-expanded=\"false\" aria-haspopup=\"menu\" id=\":r3:\">Institut<svg stroke=\"currentColor\" fill=\"none\" stroke-width=\"2\" viewBox=\"0 0 24 24\" aria-hidden=\"true\" class=\"ml-2 h-4 w-4\" height=\"1em\" width=\"1em\" xmlns=\"http://www.w3.org/2000/svg\"><path stroke-linecap=\"round\" stroke-linejoin=\"round\" d=\"M19 9l-7 7-7-7\"></path></svg></button><li><a class=\"block py-2 pl-3 pr-4 md:p-0 border-b border-gray-100 text-gray-700 hover:bg-gray-50 dark:border-gray-700 dark:text-gray-400 dark:hover:bg-gray-700 dark:hover:text-white md:border-0 md:hover:bg-transparent md:hover:text-cyan-700 md:dark:hover:bg-transparent md:dark:hover:text-white\" href=\"#\">Cours</a></li><li><a class=\"block py-2 pl-3 pr-4 md:p-0 border-b border-gray-100 text-gray-700 hover:bg-gray-50 dark:border-gray-700 dark:text-gray-400 dark:hover:bg-gray-700 dark:hover:text-white md:border-0 md:hover:bg-transparent md:hover:text-cyan-700 md:dark:hover:bg-transparent md:dark:hover:text-white\" href=\"#\">Contact</a></li></ul></div></div></nav></header><div class=\"h-[600px] carousel-margin\"><div class=\"relative h-full w-full flowbite-carousel\" data-testid=\"carousel\"><div class=\"flex h-full snap-mandatory overflow-y-hidden overflow-x-scroll scroll-smooth rounded-lg snap-x overflow-hidden !overflow-x-hidden [overflow:-moz-scrollbars-none] [scrollbar-width:none] [&amp;::-webkit-scrollbar]:[-webkit-appearance:none !important] [&amp;::-webkit-scrollbar]:!hidden [&amp;::-webkit-scrollbar]:!h-0 [&amp;::-webkit-scrollbar]:!w-0 [&amp;::-webkit-scrollbar]:!bg-transparent\"><div class=\"w-full flex-shrink-0 transform cursor-grab snap-center\" data-active=\"true\" data-testid=\"carousel-item\"><div class=\"slides flex size-full items-center justify-center\" style=\"background-image: url(&quot;/images/capture-institut2.jpeg&quot;);\"><div class=\"relative mx-auto block size-full max-w-screen-xl px-4 py-24 text-center lg:py-40\"><h1 class=\"mb-4 text-4xl font-bold leading-none tracking-tight text-white md:text-5xl lg:text-6xl\">المعهد العالي للبصريات و القياس<br> البصري سطيف</h1><p class=\"my-8 text-lg font-normal text-gray-300 sm:px-16 lg:px-48 lg:text-base\">مؤسسة تعليمية خاصة معتمدة من طرف وزارة التعليم العالي و البحث العلمي تركز على تقديم برامج تعليمية متخصصة في مجالات البصريات و القياس البصري</p><div class=\"flex flex-col space-y-4 sm:flex-row sm:justify-center sm:space-y-0\"><a href=\"https://docs.google.com/forms/d/e/1FAIpQLSfIZGVSlo-xrcNzv8S2ccJ17jZF0pG3sYhJIETj6aDbpgJENA/viewform\" class=\"inline-flex items-center justify-center rounded-lg bg-primary px-5 py-3 text-center text-base font-medium text-white hover:bg-green-800 focus:ring-4 focus:ring-green-300 dark:focus:ring-green-900\">ابدأ الآن<svg class=\"ms-2 size-3.5 rtl:rotate-180\" aria-hidden=\"true\" xmlns=\"http://www.w3.org/2000/svg\" fill=\"none\" viewBox=\"0 0 14 10\"><path stroke=\"currentColor\" stroke-linecap=\"round\" stroke-linejoin=\"round\" stroke-width=\"2\" d=\"M1 5h12m0 0L9 1m4 4L9 9\"></path></svg></a><a href=\"#pub\" class=\"inline-flex items-center justify-center rounded-lg border border-white px-5 py-3 text-center text-base font-medium text-white hover:bg-gray-100 hover:text-gray-900 focus:ring-4 focus:ring-gray-400 sm:ms-4\">تعرف على المزيد</a></div></div></div></div><div class=\"w-full flex-shrink-0 transform cursor-grab snap-center\" data-active=\"false\" data-testid=\"carousel-item\"><div class=\"slides flex size-full items-center justify-center\" style=\"background-image: url(&quot;/images/capture-institut.png&quot;);\"><div class=\"relative mx-auto block size-full max-w-screen-xl px-4 py-24 text-center lg:py-40\"><h1 class=\"mb-4 text-4xl font-bold leading-none tracking-tight text-white md:text-5xl lg:text-6xl\">Higher Institute of Optics and Optometry <br> for Vision Setif</h1><p class=\"my-8 text-lg font-normal text-gray-300 sm:px-16 lg:px-48 lg:text-base\">A private educational institution accredited by the Ministry of Higher Education and Scientific Research that focuses on providing specialized educational programs in the fields of optics and optical measurement.</p><div class=\"flex flex-col space-y-4 sm:flex-row sm:justify-center sm:space-y-0\"><a href=\"https://docs.google.com/forms/d/e/1FAIpQLSfIZGVSlo-xrcNzv8S2ccJ17jZF0pG3sYhJIETj6aDbpgJENA/viewform\" class=\"inline-flex items-center justify-center rounded-lg bg-primary px-5 py-3 text-center text-base font-medium text-white hover:bg-green-800 focus:ring-4 focus:ring-green-300 dark:focus:ring-green-900\">Get started<svg class=\"ms-2 size-3.5 rtl:rotate-180\" aria-hidden=\"true\" xmlns=\"http://www.w3.org/2000/svg\" fill=\"none\" viewBox=\"0 0 14 10\"><path stroke=\"currentColor\" stroke-linecap=\"round\" stroke-linejoin=\"round\" stroke-width=\"2\" d=\"M1 5h12m0 0L9 1m4 4L9 9\"></path></svg></a><a href=\"#pub\" class=\"inline-flex items-center justify-center rounded-lg border border-white px-5 py-3 text-center text-base font-medium text-white hover:bg-gray-100 hover:text-gray-900 focus:ring-4 focus:ring-gray-400 sm:ms-4\">Learn more</a></div></div></div></div></div><div class=\"absolute bottom-5 left-1/2 flex -translate-x-1/2 space-x-3\"><button class=\"h-3 w-3 rounded-full bg-white dark:bg-gray-800\" data-testid=\"carousel-indicator\" aria-label=\"Slide 1\"></button><button class=\"h-3 w-3 rounded-full bg-white/50 hover:bg-white dark:bg-gray-800/50 dark:hover:bg-gray-800\" data-testid=\"carousel-indicator\" aria-label=\"Slide 2\"></button></div><div class=\"absolute left-0 top-0 flex h-full items-center justify-center px-4 focus:outline-none\"><button class=\"group\" data-testid=\"carousel-left-control\" type=\"button\" aria-label=\"Previous slide\"><span class=\"inline-flex h-8 w-8 items-center justify-center rounded-full bg-white/30 group-hover:bg-white/50 group-focus:outline-none group-focus:ring-4 group-focus:ring-white dark:bg-gray-800/30 dark:group-hover:bg-gray-800/60 dark:group-focus:ring-gray-800/70 sm:h-10 sm:w-10\"><svg stroke=\"currentColor\" fill=\"none\" stroke-width=\"2\" viewBox=\"0 0 24 24\" aria-hidden=\"true\" class=\"h-5 w-5 text-white dark:text-gray-800 sm:h-6 sm:w-6\" height=\"1em\" width=\"1em\" xmlns=\"http://www.w3.org/2000/svg\"><path stroke-linecap=\"round\" stroke-linejoin=\"round\" d=\"M15 19l-7-7 7-7\"></path></svg></span></button></div><div class=\"absolute right-0 top-0 flex h-full items-center justify-center px-4 focus:outline-none\"><button class=\"group\" data-testid=\"carousel-right-control\" type=\"button\" aria-label=\"Next slide\"><span class=\"inline-flex h-8 w-8 items-center justify-center rounded-full bg-white/30 group-hover:bg-white/50 group-focus:outline-none group-focus:ring-4 group-focus:ring-white dark:bg-gray-800/30 dark:group-hover:bg-gray-800/60 dark:group-focus:ring-gray-800/70 sm:h-10 sm:w-10\"><svg stroke=\"currentColor\" fill=\"none\" stroke-width=\"2\" viewBox=\"0 0 24 24\" aria-hidden=\"true\" class=\"h-5 w-5 text-white dark:text-gray-800 sm:h-6 sm:w-6\" height=\"1em\" width=\"1em\" xmlns=\"http://www.w3.org/2000/svg\"><path stroke-linecap=\"round\" stroke-linejoin=\"round\" d=\"M9 5l7 7-7 7\"></path></svg></span></button></div></div></div><section id=\"introduction\" class=\"section bg-gray-100 py-[114px]\"><div class=\"mx-auto px-4\"><div class=\"flex flex-wrap\"><div class=\"w-full md:w-1/3 px-4 mb-8 md:mb-0\"><img class=\"rounded-lg shadow-lg mx-auto\" src=\"/images/capture-institut2.jpeg\" alt=\"Christopher Smith\" width=\"340\"><div class=\"mt-4\"><h6 class=\"text-blue-600 font-bold\"><i>INSOOVISION - SETIF, ALGERIE</i></h6><p>Institut supérieur d\\'optométrie et d\\'optique de la vision a sétif</p></div></div><div class=\"w-full md:w-2/3 px-4\"><h2 class=\"text-start text-3xl text-gray-900 sm:text-4xl font-bold\">À propos de l\\'Institut</h2><hr class=\"border-t-2 border-blue-600 w-16 my-4\"><p class=\"mb-4 text-left indent-8 text-base\">INSOOVISION (institut supérieur d\\'optométrie et d\\'optique de la vision) est un établissement agréé par le ministère de l\\'enseignement supérieur et la recherche scientifique Arrêté N° 128 du 02 février 2025, spécialisé dans les sciences de la vision.</p><p class=\"mb-4 text-left indent-8 text-base\">Nous formons des professionnels hautement qualifiés dans le domaine de l\\'optique, notamment des opticiens, des optométristes et des experts en optique médicale, capables de répondre aux besoins croissants en matière de santé visuelle et d\\'innovation technologique.</p><p class=\"text-left indent-8 text-base\">Notre établissement propose généralement des cursus alliant théorie et pratique,couvrant des domaines comme la réfraction, la contactologie, la basse vision et l\\'optométrie clinique, ils jouent un rôle essentiel dans la formation de spécialistes capables de diagnostiquer et corriger les défauts visuels, en collaboration avec des ophtalmologues.</p></div></div></div></section><div class=\"bg-secondary px-2 py-[114px]\" id=\"institute\"><div class=\"text-center mb-8 text-white max-w-screen-xl mx-auto\"><h1 class=\"text-3xl font-extrabold mb-2  sm:text-4xl\">Découvrez l\\'Institut</h1><p class=\"text-base text-gray-300 max-w-2xl mx-auto\">Découvrez des espaces conçus pour inspirer l\\'apprentissage, encourager la collaboration et offrir des moments de détente.</p></div><div class=\"flex justify-center\" id=\"pub\"><div class=\"w-full max-w-4xl aspect-video rounded-lg overflow-hidden shadow-xl\"><iframe width=\"100%\" height=\"100%\" src=\"https://www.youtube.com/embed/LLTI02uagZM?autoplay=1&amp;mute=1&amp;loop=1&amp;playlist=LLTI02uagZM\" title=\"YouTube video publicity\" frameborder=\"0\" allow=\"accelerometer; autoplay; clipboard-write; encrypted-media; gyroscope; picture-in-picture\" allowfullscreen=\"\"></iframe></div></div><div class=\"mt-12 text-center\"><a class=\"mb-0 inline-block cursor-pointer select-none whitespace-nowrap rounded-md border border-transparent bg-primary bg-none px-6 py-3 text-center align-middle text-base font-bold leading-6 text-white hover:bg-primary\" href=\"/gallery\">Voir la gallery</a></div></div><section class=\"bg-white py-20 px-4 text-gray-800\"><div class=\"text-center\"><h2 class=\"text-3xl md:text-4xl font-bold text-gray-900\">Pourquoi nous choisir ?</h2><hr class=\"mx-auto mt-4 mb-16 w-16 border-t-2 border-blue-600\"></div><div class=\"grid grid-cols-1 sm:grid-cols-2 md:grid-cols-3 gap-8 max-w-5xl mx-auto\"><div class=\"bg-gray-50 p-6 rounded-xl shadow-md hover:shadow-xl transition\"><div class=\"mb-4\"><img src=\"/images/Features/microscope.svg\" alt=\"Architecture\" class=\"w-10 h-10 mx-auto\"></div><h3 class=\"text-xl font-semibold mb-2\">Infrastructure moderne</h3><p class=\"text-gray-600 text-sm\">Des espaces d\\'apprentissage pensés pour le confort et l\\'efficacité.</p></div><div class=\"bg-gray-50 p-6 rounded-xl shadow-md hover:shadow-xl transition\"><div class=\"mb-4\"><img src=\"/images/Features/education.svg\" alt=\"Architecture\" class=\"w-10 h-10 mx-auto\"></div><h3 class=\"text-xl font-semibold mb-2\">Enseignement de qualité</h3><p class=\"text-gray-600 text-sm\">Un corps enseignant engagé et expérimenté.</p></div><div class=\"bg-gray-50 p-6 rounded-xl shadow-md hover:shadow-xl transition\"><div class=\"mb-4\"><img src=\"/images/Features/university.svg\" alt=\"Architecture\" class=\"w-10 h-10 mx-auto\"></div><h3 class=\"text-xl font-semibold mb-2\">Environnement stimulant</h3><p class=\"text-gray-600 text-sm\">Un lieu propice à la collaboration, la créativité et l’innovation.</p></div></div></section><section class=\"section bg-gray-50 py-[114px]\" id=\"events\"><div class=\"container mx-auto px-4 mb-10\"><div class=\"text-center\"><h2 class=\"text-3xl md:text-4xl font-bold text-gray-900\">Evénements</h2><hr class=\"mx-auto mt-4 mb-16 w-16 border-t-2 border-blue-600\"></div><div class=\"my-8 flex w-full flex-wrap justify-center\"><div class=\"mb-8 w-full rounded px-6 md:w-1/2 lg:px-10\"><div class=\"flex items-center justify-center rounded bg-gray-700\"><div class=\"flex w-full flex-col rounded bg-white shadow-lg\"><div class=\"h-80 w-full rounded-t bg-cover\" style=\"background-image: url(&quot;https://insoovision.dz/media/event_images/event1-2_cSLh4x8.jpg&quot;); background-position: center center;\"></div><div class=\"flex w-full flex-col md:flex-row\"><div class=\"flex flex-row justify-around bg-secondary p-4 font-bold uppercase leading-none text-white md:w-1/4 md:flex-col md:items-center md:justify-center\"><div class=\"md:text-xl\">Jul</div><div class=\"md:text-3xl\">10</div><div class=\"md:text-base\">08:00 AM</div></div><a href=\"https://www.facebook.com/photo?fbid=122176334186445880&amp;set=pcb.122176334324445880\" target=\"_blank\" class=\"cursor-pointer p-4 font-normal text-gray-800 md:w-3/4\"><h1 class=\"text-start text-xl font-bold leading-none tracking-tight text-gray-800\">Présence de notre institut au salon de l\\'ètudiant</h1><div class=\"mt-2 flex text-green-500\"><svg class=\"size-5 dark:text-white\" aria-hidden=\"true\" xmlns=\"http://www.w3.org/2000/svg\" width=\"24\" height=\"24\" fill=\"none\" viewBox=\"0 0 24 24\"><path stroke=\"currentColor\" stroke-linecap=\"round\" stroke-linejoin=\"round\" stroke-width=\"2\" d=\"M14.7141 15h4.268c.4043 0 .732-.3838.732-.8571V3.85714c0-.47338-.3277-.85714-.732-.85714H6.71411c-.55228 0-1 .44772-1 1v4m10.99999 7v-3h3v3h-3Zm-3 6H6.71411c-.55228 0-1-.4477-1-1 0-1.6569 1.34315-3 3-3h2.99999c1.6569 0 3 1.3431 3 3 0 .5523-.4477 1-1 1Zm-1-9.5c0 1.3807-1.1193 2.5-2.5 2.5s-2.49999-1.1193-2.49999-2.5S8.8334 9 10.2141 9s2.5 1.1193 2.5 2.5Z\"></path></svg><i class=\"\">Hôtel SEYBOUSS Annaba</i></div></a></div></div></div></div></div><div class=\"mt-8 text-center\"><a class=\"mb-0 inline-block cursor-pointer select-none whitespace-nowrap rounded-md border border-transparent bg-primary bg-none px-6 py-3 text-center align-middle text-base font-bold leading-6 text-white hover:bg-primary\" href=\"\">Voir le calendrier</a></div></div></section><section class=\"dark:bg-gray-900 bg-secondary py-[60px]\"><div class=\"container max-w-screen-xl px-4 py-8 mx-auto text-center lg:py-16 lg:px-6\"><figure class=\"max-w-screen-md lg:w-full mx-auto\"><svg class=\"h-12 mx-auto mb-3 text-gray-400 dark:text-gray-600\" viewBox=\"0 0 24 27\" fill=\"none\" xmlns=\"http://www.w3.org/2000/svg\"><path d=\"M14.017 18L14.017 10.609C14.017 4.905 17.748 1.039 23 0L23.995 2.151C21.563 3.068 20 5.789 20 8H24V18H14.017ZM0 18V10.609C0 4.905 3.748 1.038 9 0L9.996 2.151C7.563 3.068 6 5.789 6 8H9.983L9.983 18L0 18Z\" fill=\"currentColor\"></path></svg><blockquote><p class=\"text-3xl font-medium italic text-white dark:text-white\">\"À l’Institut Insoovision, nous créons un centre d’excellence en optique et optométrie avec des équipements de pointe pour former les futurs experts de la vision. Rejoignez-nous pour exceller dans ce domaine innovant.\"</p></blockquote><figcaption class=\"flex items-center justify-center mt-6 space-x-3\"><div class=\"flex items-center divide-x-2 divide-gray-500 dark:divide-gray-700\"><div class=\"pr-3 font-medium text-white dark:text-white\">Dr. Boudjemline</div><div class=\"pl-3 text-sm font-light text-light dark:text-gray-400\">CEO d\\'Ibnsina</div></div></figcaption></figure></div></section><section class=\"bg-gray-50 py-[114px]\" id=\"news\"><div class=\"container mx-auto px-4\"><div class=\"text-center\"><h2 class=\"text-3xl md:text-4xl font-bold text-gray-900\">Dernières Annonces</h2><hr class=\"mx-auto mt-4 mb-16 w-16 border-t-2 border-blue-600\"></div><div class=\"mt-8 flex flex-wrap justify-center\"><div class=\"mx-4 mb-8 w-full max-w-sm rounded-lg border border-gray-200 bg-white shadow-sm md:w-1/3\"><a href=\"https://www.facebook.com/photo?fbid=122145504308445880&amp;set=pcb.122145504482445880\"><img class=\"w-full rounded-t-lg\" src=\"https://insoovision.dz/media/news_images/certified.jpg\" alt=\"Accréditation de l’Institut supérieur INSOOVISION\"></a><div class=\"p-5\"><a href=\"https://www.facebook.com/photo?fbid=122145504308445880&amp;set=pcb.122145504482445880\"><h5 class=\"mb-2 text-left text-xl font-bold tracking-tight text-primary\">Accréditation de l’Institut supérieur INSOOVISION</h5></a><p class=\"mb-3 text-left text-xs text-gray-500\"><p>Grâce à Dieu, l\\'Institut Supérieur d\\'Optique et de Mesure Optique « INSOOVISION » a été accrédité par le Ministère de l\\'Enseignement Supérieur et de la Recherche Scien...</p></p><span class=\"me-2 flex items-center rounded-sm text-xs font-medium italic text-blue-500\"><svg class=\"me-1.5 size-2.5\" aria-hidden=\"true\" xmlns=\"http://www.w3.org/2000/svg\" fill=\"currentColor\" viewBox=\"0 0 20 20\"><path d=\"M10 0a10 10 0 1 0 10 10A10.011 10.011 0 0 0 10 0Zm3.982 13.982a1 1 0 0 1-1.414 0l-3.274-3.274A1.012 1.012 0 0 1 9 10V6a1 1 0 0 1 2 0v3.586l2.982 2.982a1 1 0 0 1 0 1.414Z\"></path></svg>6 months ago</span></div></div></div><div class=\"mt-8 text-center\"><a class=\"mb-0 inline-block cursor-pointer select-none whitespace-nowrap rounded-md border border-transparent bg-primary bg-none px-6 py-3 text-center align-middle text-base font-bold leading-6 text-white hover:bg-primary\" href=\"\">Voir toutes les actualités</a></div></div></section><footer class=\"bg-white\"><div class=\"container mx-auto\"><div class=\"flex flex-wrap justify-between py-10\"><div class=\"my-8 w-full text-center sm:w-1/2 md:mb-0 md:text-left lg:w-1/3\"><a href=\"/index.html\" class=\"flex justify-center\"><img src=\"/images/insoovision_logo2.png\" alt=\"Logo\" class=\" mx-auto w-[144px] md:mx-0\"></a><div class=\"mt-4\"><ul class=\"flex justify-center space-x-4\"><li><a href=\"https://www.facebook.com/share/1BCXNwVcDh/?mibextid=wwXIfr\" class=\"rounded-full text-gray-400 hover:text-white\" aria-label=\"Facebook\"><svg class=\"size-6 text-blue-900\" aria-hidden=\"true\" xmlns=\"http://www.w3.org/2000/svg\" width=\"24\" height=\"24\" fill=\"currentColor\" viewBox=\"0 0 24 24\"><path fill-rule=\"evenodd\" d=\"M13.135 6H15V3h-1.865a4.147 4.147 0 0 0-4.142 4.142V9H7v3h2v9.938h3V12h2.021l.592-3H12V6.591A.6.6 0 0 1 12.592 6h.543Z\" clip-rule=\"evenodd\"></path></svg></a></li><li><a href=\"#\" class=\"rounded-full text-gray-400 hover:text-white\"><svg class=\"size-6 text-blue-900\" aria-hidden=\"true\" xmlns=\"http://www.w3.org/2000/svg\" width=\"24\" height=\"24\" fill=\"none\" viewBox=\"0 0 24 24\"><path fill=\"currentColor\" fill-rule=\"evenodd\" d=\"M3 8a5 5 0 0 1 5-5h8a5 5 0 0 1 5 5v8a5 5 0 0 1-5 5H8a5 5 0 0 1-5-5V8Zm5-3a3 3 0 0 0-3 3v8a3 3 0 0 0 3 3h8a3 3 0 0 0 3-3V8a3 3 0 0 0-3-3H8Zm7.597 2.214a1 1 0 0 1 1-1h.01a1 1 0 1 1 0 2h-.01a1 1 0 0 1-1-1ZM12 9a3 3 0 1 0 0 6 3 3 0 0 0 0-6Zm-5 3a5 5 0 1 1 10 0 5 5 0 0 1-10 0Z\" clip-rule=\"evenodd\"></path></svg></a></li><li><a href=\"#\" class=\"rounded-full text-gray-400 hover:text-white\"><svg class=\"size-6 text-blue-900\" aria-hidden=\"true\" xmlns=\"http://www.w3.org/2000/svg\" width=\"24\" height=\"24\" fill=\"currentColor\" viewBox=\"0 0 24 24\"><path fill-rule=\"evenodd\" d=\"M21.7 8.037a4.26 4.26 0 0 0-.789-1.964 2.84 2.84 0 0 0-1.984-.839c-2.767-.2-6.926-.2-6.926-.2s-4.157 0-6.928.2a2.836 2.836 0 0 0-1.983.839 4.225 4.225 0 0 0-.79 1.965 30.146 30.146 0 0 0-.2 3.206v1.5a30.12 30.12 0 0 0 .2 3.206c.094.712.364 1.39.784 1.972.604.536 1.38.837 2.187.848 1.583.151 6.731.2 6.731.2s4.161 0 6.928-.2a2.844 2.844 0 0 0 1.985-.84 4.27 4.27 0 0 0 .787-1.965 30.12 30.12 0 0 0 .2-3.206v-1.516a30.672 30.672 0 0 0-.202-3.206Zm-11.692 6.554v-5.62l5.4 2.819-5.4 2.801Z\" clip-rule=\"evenodd\"></path></svg></a></li><li><a href=\"#\" class=\"rounded-full text-gray-400 hover:text-white\"><svg class=\"size-6 text-blue-900\" aria-hidden=\"true\" xmlns=\"http://www.w3.org/2000/svg\" width=\"24\" height=\"24\" fill=\"currentColor\" viewBox=\"0 0 24 24\"><path fill-rule=\"evenodd\" d=\"M22 5.892a8.178 8.178 0 0 1-2.355.635 4.074 4.074 0 0 0 1.8-2.235 8.343 8.343 0 0 1-2.605.981A4.13 4.13 0 0 0 15.85 4a4.068 4.068 0 0 0-4.1 4.038c0 .31.035.618.105.919A11.705 11.705 0 0 1 3.4 4.734a4.006 4.006 0 0 0 1.268 5.392 4.165 4.165 0 0 1-1.859-.5v.05A4.057 4.057 0 0 0 6.1 13.635a4.192 4.192 0 0 1-1.856.07 4.108 4.108 0 0 0 3.831 2.807A8.36 8.36 0 0 1 2 18.184 11.732 11.732 0 0 0 8.291 20 11.502 11.502 0 0 0 19.964 8.5c0-.177 0-.349-.012-.523A8.143 8.143 0 0 0 22 5.892Z\" clip-rule=\"evenodd\"></path></svg></a></li></ul></div></div><div class=\"my-8 w-full px-8 text-center sm:w-1/2 md:mb-0 md:text-left lg:w-1/3\"><div><h6 class=\"text-lg font-bold text-blue-900\">Contactez-nous</h6><hr class=\"mt-4 border-t-2 border-gray-200\"></div><ul class=\"mt-4 space-y-2 text-left\"><li class=\"flex items-center\"><svg class=\"mr-2 size-5 shrink-0 text-blue-900\" fill=\"currentColor\" viewBox=\"0 0 24 24\"><path d=\"M6.62 10.79a15.91 15.91 0 006.59 6.59l2.2-2.2a1 1 0 011.11-.27 11.72 11.72 0 003.68.61 1 1 0 011 1v3.79a1 1 0 01-1 1A17.92 17.92 0 012 4a1 1 0 011-1h3.79a1 1 0 011 1 11.72 11.72 0 00.61 3.68 1 1 0 01-.27 1.11z\"></path></svg><div class=\"flex flex-wrap\"><a href=\"tel:0660822512\" class=\"mr-1 text-gray-400 hover:text-gray-600\">(+213) 30 75 76 60, </a><a href=\"tel:030757660\" class=\"text-gray-400 hover:text-gray-600\">(+213) 6 60 81 25 12</a></div></li><li class=\"mt-[15px] flex items-center\"><svg class=\"mr-2 size-5 shrink-0 text-blue-900\" fill=\"currentColor\" viewBox=\"0 0 24 24\"><path d=\"M12 2C8.13 2 5 5.13 5 9c0 5.25 7 13 7 13s7-7.75 7-13c0-3.87-3.13-7-7-7zm0 9.5c-1.38 0-2.5-1.12-2.5-2.5S10.62 6.5 12 6.5s2.5 1.12 2.5 2.5S13.38 11.5 12 11.5z\"></path></svg><a href=\"https://maps.app.goo.gl/8jTPcGrQWdFb5KRv9\" class=\"text-gray-400 hover:text-gray-600\">Cité YAHIAOUI Coopérative immobiliére des fréres HABECHE (52 Lots), N-12, Sétif</a></li><li class=\"mt-[15px] flex items-center\"><svg class=\"mr-2 size-5 shrink-0 text-blue-900\" fill=\"currentColor\" viewBox=\"0 0 24 24\"><path d=\"M20 4H4c-1.1 0-2 .9-2 2v12c0 1.1.9 2 2 2h16c1.1 0 2-.9 2-2V6c0-1.1-.9-2-2-2zm0 4l-8 5-8-5V6l8 5 8-5v2z\"></path></svg><a href=\"mailto:info@insoovision.dz\" class=\"text-gray-400 hover:text-gray-600\">info@insoovision.dz</a></li></ul></div><div class=\"my-8 w-full px-8 text-center md:text-left lg:w-1/3\"><div><h6 class=\"text-lg font-bold text-blue-900\">Newsletter</h6><hr class=\"mt-4 border-t-2 border-gray-200\"></div><p class=\"mt-4 text-gray-400\">Entrez votre adresse e-mail pour recevoir les dernières nouvelles de l\\'Institut, directement dans votre boîte de réception.</p><form class=\"mt-4\"><div class=\"flex\"><input type=\"email\" class=\"w-full rounded-l-lg border border-gray-300 px-4 py-2 focus:outline-none\" placeholder=\"Your e-mail\"><button type=\"submit\" class=\"rounded-r-lg bg-primary px-4 py-2 text-white hover:bg-primary\">Subscribe</button></div></form></div></div></div><div class=\"bg-secondary py-4 text-center text-gray-400 sm:text-left\"><p class=\"sm:ml-16\">Insoovision © <span id=\"copyright-year\">2025</span> All Rights Reserved </p></div></footer></div></div>\\n  \\n\\n</body></html>'"
      ]
     },
     "execution_count": 23,
     "metadata": {},
     "output_type": "execute_result"
    }
   ],
   "source": [
    "import time\n",
    "\n",
    "driver = webdriver.Edge()\n",
    "# driver.get('https://quotes.toscrape.com/js')\n",
    "driver.get('https://insoovision.dz')\n",
    "time.sleep(5)\n",
    "html = driver.page_source\n",
    "driver.quit()\n",
    "html"
   ]
  },
  {
   "cell_type": "code",
   "execution_count": 65,
   "id": "897f9c57",
   "metadata": {},
   "outputs": [
    {
     "data": {
      "text/plain": [
       "[<a class=\"mb-0 inline-block cursor-pointer select-none whitespace-nowrap rounded-md border border-transparent bg-primary bg-none px-6 py-3 text-center align-middle text-base font-bold leading-6 text-white hover:bg-primary\" href=\"\">Voir toutes les actualités</a>]"
      ]
     },
     "execution_count": 65,
     "metadata": {},
     "output_type": "execute_result"
    }
   ],
   "source": [
    "soup = BeautifulSoup(html, 'html')\n",
    "section = soup.find_all('section')[4]\n",
    "new = section.find_all('div')[5]\n",
    "new.find_all(True)"
   ]
  },
  {
   "cell_type": "code",
   "execution_count": 63,
   "id": "5cd92fc7",
   "metadata": {},
   "outputs": [
    {
     "name": "stdout",
     "output_type": "stream",
     "text": [
      "see [<a class=\"mb-0 inline-block cursor-pointer select-none whitespace-nowrap rounded-md border border-transparent bg-primary bg-none px-6 py-3 text-center align-middle text-base font-bold leading-6 text-white hover:bg-primary\" href=\"\">Voir toutes les actualités</a>]\n"
     ]
    },
    {
     "ename": "AttributeError",
     "evalue": "'NoneType' object has no attribute 'text'",
     "output_type": "error",
     "traceback": [
      "\u001b[1;31m---------------------------------------------------------------------------\u001b[0m",
      "\u001b[1;31mAttributeError\u001b[0m                            Traceback (most recent call last)",
      "Cell \u001b[1;32mIn[63], line 5\u001b[0m\n\u001b[0;32m      3\u001b[0m \u001b[38;5;28mprint\u001b[39m(\u001b[38;5;124m'\u001b[39m\u001b[38;5;124msee\u001b[39m\u001b[38;5;124m'\u001b[39m, new\u001b[38;5;241m.\u001b[39mfind_all(\u001b[38;5;28;01mTrue\u001b[39;00m))\n\u001b[0;32m      4\u001b[0m \u001b[38;5;28;01mfor\u001b[39;00m n \u001b[38;5;129;01min\u001b[39;00m new\u001b[38;5;241m.\u001b[39mfind_all(\u001b[38;5;28;01mTrue\u001b[39;00m):\n\u001b[1;32m----> 5\u001b[0m   data \u001b[38;5;241m=\u001b[39m [\u001b[43mn\u001b[49m\u001b[38;5;241;43m.\u001b[39;49m\u001b[43mfind\u001b[49m\u001b[43m(\u001b[49m\u001b[38;5;124;43m'\u001b[39;49m\u001b[38;5;124;43ma\u001b[39;49m\u001b[38;5;124;43m'\u001b[39;49m\u001b[43m)\u001b[49m\u001b[38;5;241;43m.\u001b[39;49m\u001b[43mtext\u001b[49m, n\u001b[38;5;241m.\u001b[39mfind(\u001b[38;5;124m'\u001b[39m\u001b[38;5;124mp\u001b[39m\u001b[38;5;124m'\u001b[39m)\u001b[38;5;241m.\u001b[39mtext, n\u001b[38;5;241m.\u001b[39mfind(\u001b[38;5;124m'\u001b[39m\u001b[38;5;124mspan\u001b[39m\u001b[38;5;124m'\u001b[39m)\u001b[38;5;241m.\u001b[39mtext]\n\u001b[0;32m      6\u001b[0m   length \u001b[38;5;241m=\u001b[39m \u001b[38;5;28mlen\u001b[39m(events_df)\n\u001b[0;32m      7\u001b[0m   events_df[length] \u001b[38;5;241m=\u001b[39m data\n",
      "\u001b[1;31mAttributeError\u001b[0m: 'NoneType' object has no attribute 'text'"
     ]
    }
   ],
   "source": [
    "columns = ['title', 'description', 'date']\n",
    "events_df = pd.DataFrame(columns=columns)\n",
    "print('see', new.find_all(True))\n",
    "for n in new.find_all(True):\n",
    "  data = [n.find('a').text, n.find('p').text, n.find('span').text]\n",
    "  length = len(events_df)\n",
    "  events_df[length] = data\n",
    "\n",
    "# events_df"
   ]
  },
  {
   "cell_type": "code",
   "execution_count": null,
   "id": "6a4a1073",
   "metadata": {},
   "outputs": [],
   "source": []
  },
  {
   "cell_type": "markdown",
   "id": "0112883b",
   "metadata": {},
   "source": [
    "## 3- API Endpoint"
   ]
  },
  {
   "cell_type": "code",
   "execution_count": 8,
   "id": "bd791e0e",
   "metadata": {},
   "outputs": [
    {
     "data": {
      "text/plain": [
       "<bound method Response.raise_for_status of <Response [200]>>"
      ]
     },
     "execution_count": 8,
     "metadata": {},
     "output_type": "execute_result"
    }
   ],
   "source": [
    "response = requests.get('https://insoovision.dz/api/events/?format=json')\n",
    "response.raise_for_status"
   ]
  },
  {
   "cell_type": "code",
   "execution_count": 9,
   "id": "7b31b5c1",
   "metadata": {},
   "outputs": [
    {
     "data": {
      "text/plain": [
       "[{'id': 4,\n",
       "  'lecturer': {'id': 1,\n",
       "   'name': 'Hôtel SEYBOUSS Annaba',\n",
       "   'bio': 'Ecologiste de système environmental',\n",
       "   'image': 'https://insoovision.dz/media/event_lecturers/default.png',\n",
       "   'phone': None,\n",
       "   'email': None},\n",
       "  'title': \"Présence de notre institut au salon de l'ètudiant\",\n",
       "  'description': \"<p>Dans le cadre de notre engagement envers l'excellence académique et professionnelle dans le domaine de l'optique, l'École privée d'optique a participé à l'événement, une plate-forme de premier plan qui rassemble des experts d'élite, des universitaires et des professionnels du domaine pour discuter des derniers développements scientifiques et technologiques, échanger des expériences et présenter des innovations.</p>\",\n",
       "  'image': 'https://insoovision.dz/media/event_images/event1-2_cSLh4x8.jpg',\n",
       "  'date': '2025-07-10T08:00:00+01:00'}]"
      ]
     },
     "execution_count": 9,
     "metadata": {},
     "output_type": "execute_result"
    }
   ],
   "source": [
    "data = response.json()\n",
    "data"
   ]
  },
  {
   "cell_type": "code",
   "execution_count": 10,
   "id": "16c303dd",
   "metadata": {},
   "outputs": [
    {
     "data": {
      "text/plain": [
       "['id', 'lecturer', 'title', 'description', 'image', 'date']"
      ]
     },
     "execution_count": 10,
     "metadata": {},
     "output_type": "execute_result"
    }
   ],
   "source": [
    "columns = list(data[0].keys())\n",
    "columns"
   ]
  },
  {
   "cell_type": "code",
   "execution_count": 11,
   "id": "7e05b375",
   "metadata": {},
   "outputs": [],
   "source": [
    "for event in data:\n",
    "  event['lecturer'] = event['lecturer']['name']"
   ]
  },
  {
   "cell_type": "code",
   "execution_count": 12,
   "id": "88f872c1",
   "metadata": {},
   "outputs": [
    {
     "data": {
      "application/vnd.microsoft.datawrangler.viewer.v0+json": {
       "columns": [
        {
         "name": "index",
         "rawType": "int64",
         "type": "integer"
        },
        {
         "name": "id",
         "rawType": "int64",
         "type": "integer"
        },
        {
         "name": "lecturer",
         "rawType": "object",
         "type": "string"
        },
        {
         "name": "title",
         "rawType": "object",
         "type": "string"
        },
        {
         "name": "description",
         "rawType": "object",
         "type": "string"
        },
        {
         "name": "image",
         "rawType": "object",
         "type": "string"
        },
        {
         "name": "date",
         "rawType": "object",
         "type": "string"
        }
       ],
       "ref": "e7d033ef-e546-415f-826f-169582baff7e",
       "rows": [
        [
         "0",
         "4",
         "Hôtel SEYBOUSS Annaba",
         "Présence de notre institut au salon de l'ètudiant",
         "<p>Dans le cadre de notre engagement envers l'excellence académique et professionnelle dans le domaine de l'optique, l'École privée d'optique a participé à l'événement, une plate-forme de premier plan qui rassemble des experts d'élite, des universitaires et des professionnels du domaine pour discuter des derniers développements scientifiques et technologiques, échanger des expériences et présenter des innovations.</p>",
         "https://insoovision.dz/media/event_images/event1-2_cSLh4x8.jpg",
         "2025-07-10T08:00:00+01:00"
        ]
       ],
       "shape": {
        "columns": 6,
        "rows": 1
       }
      },
      "text/html": [
       "<div>\n",
       "<style scoped>\n",
       "    .dataframe tbody tr th:only-of-type {\n",
       "        vertical-align: middle;\n",
       "    }\n",
       "\n",
       "    .dataframe tbody tr th {\n",
       "        vertical-align: top;\n",
       "    }\n",
       "\n",
       "    .dataframe thead th {\n",
       "        text-align: right;\n",
       "    }\n",
       "</style>\n",
       "<table border=\"1\" class=\"dataframe\">\n",
       "  <thead>\n",
       "    <tr style=\"text-align: right;\">\n",
       "      <th></th>\n",
       "      <th>id</th>\n",
       "      <th>lecturer</th>\n",
       "      <th>title</th>\n",
       "      <th>description</th>\n",
       "      <th>image</th>\n",
       "      <th>date</th>\n",
       "    </tr>\n",
       "  </thead>\n",
       "  <tbody>\n",
       "    <tr>\n",
       "      <th>0</th>\n",
       "      <td>4</td>\n",
       "      <td>Hôtel SEYBOUSS Annaba</td>\n",
       "      <td>Présence de notre institut au salon de l'ètudiant</td>\n",
       "      <td>&lt;p&gt;Dans le cadre de notre engagement envers l'...</td>\n",
       "      <td>https://insoovision.dz/media/event_images/even...</td>\n",
       "      <td>2025-07-10T08:00:00+01:00</td>\n",
       "    </tr>\n",
       "  </tbody>\n",
       "</table>\n",
       "</div>"
      ],
      "text/plain": [
       "   id               lecturer  \\\n",
       "0   4  Hôtel SEYBOUSS Annaba   \n",
       "\n",
       "                                               title  \\\n",
       "0  Présence de notre institut au salon de l'ètudiant   \n",
       "\n",
       "                                         description  \\\n",
       "0  <p>Dans le cadre de notre engagement envers l'...   \n",
       "\n",
       "                                               image  \\\n",
       "0  https://insoovision.dz/media/event_images/even...   \n",
       "\n",
       "                        date  \n",
       "0  2025-07-10T08:00:00+01:00  "
      ]
     },
     "execution_count": 12,
     "metadata": {},
     "output_type": "execute_result"
    }
   ],
   "source": [
    "events_df = pd.DataFrame(columns=columns)\n",
    "for event in data:\n",
    "  length = len(events_df)\n",
    "  events_df.loc[length] = event.values()\n",
    "\n",
    "events_df"
   ]
  },
  {
   "cell_type": "code",
   "execution_count": null,
   "id": "ebf6fd8f",
   "metadata": {},
   "outputs": [],
   "source": []
  }
 ],
 "metadata": {
  "kernelspec": {
   "display_name": "base",
   "language": "python",
   "name": "python3"
  },
  "language_info": {
   "codemirror_mode": {
    "name": "ipython",
    "version": 3
   },
   "file_extension": ".py",
   "mimetype": "text/x-python",
   "name": "python",
   "nbconvert_exporter": "python",
   "pygments_lexer": "ipython3",
   "version": "3.12.2"
  }
 },
 "nbformat": 4,
 "nbformat_minor": 5
}
