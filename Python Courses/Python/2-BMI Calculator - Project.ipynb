{
 "cells": [
  {
   "cell_type": "code",
   "execution_count": 9,
   "id": "ba34beac",
   "metadata": {},
   "outputs": [
    {
     "data": {
      "text/plain": [
       "0.04903340840840841"
      ]
     },
     "execution_count": 9,
     "metadata": {},
     "output_type": "execute_result"
    }
   ],
   "source": [
    "name = input(\"Enter your name:\")\n",
    "weight = int(input(\"Enter you weight\"))\n",
    "height = int(input(\"Enter your height\"))\n",
    "BMI = weight * 703 / (height ** 2)\n",
    "BMI"
   ]
  },
  {
   "cell_type": "code",
   "execution_count": 11,
   "id": "fb22cb15",
   "metadata": {},
   "outputs": [
    {
     "name": "stdout",
     "output_type": "stream",
     "text": [
      "Mohamed, you are underweight.\n",
      "Enter valid input\n"
     ]
    }
   ],
   "source": [
    "if BMI>0:\n",
    "  if(BMI<18.5):\n",
    "    print(name +\", you are underweight.\")\n",
    "  elif (BMI <= 24.9):\n",
    "    print(name +\", you are normal weight.\")\n",
    "  elif (BMI<29.9):\n",
    "    print(name +\", you are overweight. You need to exercise more and stop sitting and writing so many python tutorials.\")\n",
    "  elif (BMI<34.9):\n",
    "    print(name +\", you are obese.\")\n",
    "  elif (BMI<39.9):\n",
    "    print(name +\", you are severely obese.\")\n",
    "  else:\n",
    "    print(name +\", you are morbidly obese.\")\n",
    "\n",
    "print(\"Enter valid input\")"
   ]
  },
  {
   "cell_type": "code",
   "execution_count": null,
   "id": "7182f942",
   "metadata": {},
   "outputs": [],
   "source": []
  }
 ],
 "metadata": {
  "kernelspec": {
   "display_name": "base",
   "language": "python",
   "name": "python3"
  },
  "language_info": {
   "codemirror_mode": {
    "name": "ipython",
    "version": 3
   },
   "file_extension": ".py",
   "mimetype": "text/x-python",
   "name": "python",
   "nbconvert_exporter": "python",
   "pygments_lexer": "ipython3",
   "version": "3.12.2"
  }
 },
 "nbformat": 4,
 "nbformat_minor": 5
}
