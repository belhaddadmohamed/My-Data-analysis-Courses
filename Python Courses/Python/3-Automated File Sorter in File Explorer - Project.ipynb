{
 "cells": [
  {
   "cell_type": "code",
   "execution_count": 31,
   "id": "ee002e33",
   "metadata": {},
   "outputs": [],
   "source": [
    "import os, shutil"
   ]
  },
  {
   "cell_type": "code",
   "execution_count": 32,
   "id": "4e156c0c",
   "metadata": {},
   "outputs": [
    {
     "data": {
      "text/plain": [
       "['file.txt',\n",
       " 'filesDir',\n",
       " 'imagesDir',\n",
       " 'sheet.csv',\n",
       " 'sheetsDir',\n",
       " 'VisitMyWebsite-BG-1.jpg']"
      ]
     },
     "execution_count": 32,
     "metadata": {},
     "output_type": "execute_result"
    }
   ],
   "source": [
    "path = r\"Examples\"\n",
    "files = os.listdir(path)\n",
    "files"
   ]
  },
  {
   "cell_type": "code",
   "execution_count": 33,
   "id": "b06bf6bc",
   "metadata": {},
   "outputs": [],
   "source": [
    "folderNames = ['filesDir', 'sheetsDir', 'imagesDir']\n",
    "for folder in folderNames:\n",
    "  if not os.path.exists(f'{path}/{folder}'):\n",
    "    os.makedirs(f'{path}{folder}')"
   ]
  },
  {
   "cell_type": "code",
   "execution_count": 53,
   "id": "4d73f121",
   "metadata": {},
   "outputs": [
    {
     "name": "stdout",
     "output_type": "stream",
     "text": [
      "This path (Examples/file.txt) wasn't found!!\n",
      "This path (Examples/filesDir) wasn't found!!\n",
      "This path (Examples/imagesDir) wasn't found!!\n",
      "This path (Examples/sheet.csv) wasn't found!!\n",
      "This path (Examples/sheetsDir) wasn't found!!\n",
      "This path (Examples/VisitMyWebsite-BG-1.jpg) wasn't found!!\n"
     ]
    }
   ],
   "source": [
    "mappings = {\n",
    "  '.csv': f'{path}/sheetsDir',\n",
    "  '.txt': f'{path}/filesDir',\n",
    "  '.jpg': f'{path}/imagesDir'\n",
    "}\n",
    "\n",
    "for file in files:\n",
    "  if '.csv' in file and not os.path.exists(f'{mappings['.csv']}/{file}'):\n",
    "    shutil.move(f'{path}/{file}', mappings['.csv'])\n",
    "  elif '.txt' in file and not os.path.exists(f'{mappings['.txt']}/{file}'):\n",
    "    shutil.move(f'{path}/{file}', mappings['.txt'])\n",
    "  elif '.jpg' in file and not os.path.exists(f'{mappings['.jpg']}/{file}'):\n",
    "    shutil.move(f'{path}/{file}', mappings['.jpg'])\n",
    "  else: \n",
    "    print(f'This path ({path}/{file}) wasn\\'t found!!')"
   ]
  },
  {
   "cell_type": "code",
   "execution_count": null,
   "id": "f5c90e46",
   "metadata": {},
   "outputs": [],
   "source": []
  }
 ],
 "metadata": {
  "kernelspec": {
   "display_name": "base",
   "language": "python",
   "name": "python3"
  },
  "language_info": {
   "codemirror_mode": {
    "name": "ipython",
    "version": 3
   },
   "file_extension": ".py",
   "mimetype": "text/x-python",
   "name": "python",
   "nbconvert_exporter": "python",
   "pygments_lexer": "ipython3",
   "version": "3.12.2"
  }
 },
 "nbformat": 4,
 "nbformat_minor": 5
}
