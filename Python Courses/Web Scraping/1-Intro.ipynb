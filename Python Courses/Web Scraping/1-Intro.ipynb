{
 "cells": [
  {
   "cell_type": "code",
   "execution_count": 1,
   "id": "1291931e",
   "metadata": {},
   "outputs": [
    {
     "data": {
      "text/plain": [
       "int"
      ]
     },
     "execution_count": 1,
     "metadata": {},
     "output_type": "execute_result"
    }
   ],
   "source": [
    "x = 5\n",
    "type(x)"
   ]
  },
  {
   "cell_type": "code",
   "execution_count": 6,
   "id": "ab0609bb",
   "metadata": {},
   "outputs": [
    {
     "data": {
      "text/plain": [
       "'c'"
      ]
     },
     "execution_count": 6,
     "metadata": {},
     "output_type": "execute_result"
    }
   ],
   "source": [
    "a, b, c = 'a', 'b', 'c'\n",
    "c"
   ]
  },
  {
   "cell_type": "code",
   "execution_count": 7,
   "id": "e46b839e",
   "metadata": {},
   "outputs": [
    {
     "data": {
      "text/plain": [
       "5"
      ]
     },
     "execution_count": 7,
     "metadata": {},
     "output_type": "execute_result"
    }
   ],
   "source": [
    "a = b = c = 5\n",
    "b"
   ]
  },
  {
   "cell_type": "code",
   "execution_count": 9,
   "id": "9db15674",
   "metadata": {},
   "outputs": [
    {
     "name": "stdout",
     "output_type": "stream",
     "text": [
      "1 2 4\n"
     ]
    }
   ],
   "source": [
    "listy = [1,2,4]\n",
    "x, y, z = listy\n",
    "print(x, y, z)"
   ]
  },
  {
   "cell_type": "code",
   "execution_count": 10,
   "id": "31c83926",
   "metadata": {},
   "outputs": [],
   "source": [
    "# Camel Case\n",
    "myVariableName = 'camelCase'\n",
    "# Pascal Case\n",
    "MyVariableName = 'PascalCase'\n",
    "# Snake Case\n",
    "my_variable_name = 'snake_case'"
   ]
  },
  {
   "cell_type": "code",
   "execution_count": 14,
   "id": "f9cdaaa4",
   "metadata": {},
   "outputs": [
    {
     "name": "stdout",
     "output_type": "stream",
     "text": [
      "I am 5 years old\n"
     ]
    }
   ],
   "source": [
    "x = 5\n",
    "y = \"I am\"\n",
    "print(y, x, \"years old\")"
   ]
  },
  {
   "cell_type": "markdown",
   "id": "5a350e3e",
   "metadata": {},
   "source": [
    "# Data Types"
   ]
  },
  {
   "cell_type": "code",
   "execution_count": 15,
   "id": "26fb74c2",
   "metadata": {},
   "outputs": [
    {
     "data": {
      "text/plain": [
       "complex"
      ]
     },
     "execution_count": 15,
     "metadata": {},
     "output_type": "execute_result"
    }
   ],
   "source": [
    "type(1+8j)"
   ]
  },
  {
   "cell_type": "code",
   "execution_count": 18,
   "id": "4f9f765d",
   "metadata": {},
   "outputs": [
    {
     "name": "stdout",
     "output_type": "stream",
     "text": [
      " I willl eat the ice cream\n",
      "and then I will go to the park.\n",
      "\n"
     ]
    }
   ],
   "source": [
    "multiline_string = \"\"\" I willl eat the ice cream\n",
    "and then I will go to the park.\n",
    "\"\"\"\n",
    "print(multiline_string)"
   ]
  },
  {
   "cell_type": "code",
   "execution_count": 19,
   "id": "8dfdf23a",
   "metadata": {},
   "outputs": [
    {
     "data": {
      "text/plain": [
       "' thank\\'s for w\"wa '"
      ]
     },
     "execution_count": 19,
     "metadata": {},
     "output_type": "execute_result"
    }
   ],
   "source": [
    "\"\"\" thank's for w\"wa \"\"\""
   ]
  },
  {
   "cell_type": "code",
   "execution_count": 22,
   "id": "b7002929",
   "metadata": {},
   "outputs": [
    {
     "data": {
      "text/plain": [
       "'ello'"
      ]
     },
     "execution_count": 22,
     "metadata": {},
     "output_type": "execute_result"
    }
   ],
   "source": [
    "text = 'hello, world'\n",
    "text[1:5]"
   ]
  },
  {
   "cell_type": "code",
   "execution_count": 24,
   "id": "227af0a4",
   "metadata": {},
   "outputs": [
    {
     "data": {
      "text/plain": [
       "(1, 2, 3, 3, 3, 5, 5)"
      ]
     },
     "execution_count": 24,
     "metadata": {},
     "output_type": "execute_result"
    }
   ],
   "source": [
    "# Tuples\n",
    "tup = (1,2,3,3,3,5,5)\n",
    "tup"
   ]
  },
  {
   "cell_type": "code",
   "execution_count": 25,
   "id": "cdd41c3f",
   "metadata": {},
   "outputs": [
    {
     "data": {
      "text/plain": [
       "{1, 2, 5, 6}"
      ]
     },
     "execution_count": 25,
     "metadata": {},
     "output_type": "execute_result"
    }
   ],
   "source": [
    "# Set  \n",
    "sety = {1,2,5,5,5,6}\n",
    "sety"
   ]
  },
  {
   "cell_type": "code",
   "execution_count": 26,
   "id": "dc539230",
   "metadata": {},
   "outputs": [
    {
     "ename": "TypeError",
     "evalue": "'set' object is not subscriptable",
     "output_type": "error",
     "traceback": [
      "\u001b[1;31m---------------------------------------------------------------------------\u001b[0m",
      "\u001b[1;31mTypeError\u001b[0m                                 Traceback (most recent call last)",
      "Cell \u001b[1;32mIn[26], line 1\u001b[0m\n\u001b[1;32m----> 1\u001b[0m \u001b[43msety\u001b[49m\u001b[43m[\u001b[49m\u001b[38;5;241;43m4\u001b[39;49m\u001b[43m]\u001b[49m\n",
      "\u001b[1;31mTypeError\u001b[0m: 'set' object is not subscriptable"
     ]
    }
   ],
   "source": [
    "sety[4]"
   ]
  },
  {
   "cell_type": "code",
   "execution_count": 27,
   "id": "bb64ec24",
   "metadata": {},
   "outputs": [],
   "source": [
    "set1 = {1, 2, 3}\n",
    "set2 = {3, 4, 5}"
   ]
  },
  {
   "cell_type": "code",
   "execution_count": 28,
   "id": "15e48b34",
   "metadata": {},
   "outputs": [
    {
     "name": "stdout",
     "output_type": "stream",
     "text": [
      "{3}\n"
     ]
    }
   ],
   "source": [
    "print(set1 & set2)"
   ]
  },
  {
   "cell_type": "code",
   "execution_count": 30,
   "id": "6af80fc5",
   "metadata": {},
   "outputs": [
    {
     "name": "stdout",
     "output_type": "stream",
     "text": [
      "{1, 2, 3, 4, 5}\n"
     ]
    }
   ],
   "source": [
    "print(set1 | set2)"
   ]
  },
  {
   "cell_type": "code",
   "execution_count": 31,
   "id": "571fcb7c",
   "metadata": {},
   "outputs": [
    {
     "name": "stdout",
     "output_type": "stream",
     "text": [
      "{1, 2}\n"
     ]
    }
   ],
   "source": [
    "print(set1 - set2)"
   ]
  },
  {
   "cell_type": "code",
   "execution_count": null,
   "id": "14b868c2",
   "metadata": {},
   "outputs": [
    {
     "name": "stdout",
     "output_type": "stream",
     "text": [
      "{1, 2, 4, 5}\n"
     ]
    }
   ],
   "source": [
    "# Symmetric Difference: Elements in either set, but not both\n",
    "print(set1 ^ set2)"
   ]
  },
  {
   "cell_type": "code",
   "execution_count": 35,
   "id": "c705f292",
   "metadata": {},
   "outputs": [
    {
     "data": {
      "text/plain": [
       "'mohamed'"
      ]
     },
     "execution_count": 35,
     "metadata": {},
     "output_type": "execute_result"
    }
   ],
   "source": [
    "# Dictionary\n",
    "dicty = {'name': 'mohamed', 'age': 25}\n",
    "dicty['name']"
   ]
  },
  {
   "cell_type": "code",
   "execution_count": 38,
   "id": "dda19b5b",
   "metadata": {},
   "outputs": [
    {
     "data": {
      "text/plain": [
       "dict_values(['mohamed', 25])"
      ]
     },
     "execution_count": 38,
     "metadata": {},
     "output_type": "execute_result"
    }
   ],
   "source": [
    "dicty.values()"
   ]
  },
  {
   "cell_type": "code",
   "execution_count": 39,
   "id": "5f0f8b68",
   "metadata": {},
   "outputs": [
    {
     "data": {
      "text/plain": [
       "dict_keys(['name', 'age'])"
      ]
     },
     "execution_count": 39,
     "metadata": {},
     "output_type": "execute_result"
    }
   ],
   "source": [
    "dicty.keys()"
   ]
  },
  {
   "cell_type": "code",
   "execution_count": 40,
   "id": "eb15b110",
   "metadata": {},
   "outputs": [
    {
     "data": {
      "text/plain": [
       "dict_items([('name', 'mohamed'), ('age', 25)])"
      ]
     },
     "execution_count": 40,
     "metadata": {},
     "output_type": "execute_result"
    }
   ],
   "source": [
    "dicty.items()"
   ]
  },
  {
   "cell_type": "code",
   "execution_count": 41,
   "id": "f496ef6b",
   "metadata": {},
   "outputs": [
    {
     "data": {
      "text/plain": [
       "{'name': 'mohamed', 'age': 25, 'city': 'Setif'}"
      ]
     },
     "execution_count": 41,
     "metadata": {},
     "output_type": "execute_result"
    }
   ],
   "source": [
    "dicty.update({'city': 'Setif'})\n",
    "dicty"
   ]
  },
  {
   "cell_type": "code",
   "execution_count": 42,
   "id": "c405bb92",
   "metadata": {},
   "outputs": [
    {
     "data": {
      "text/plain": [
       "{'name': 'mohamed', 'city': 'Setif'}"
      ]
     },
     "execution_count": 42,
     "metadata": {},
     "output_type": "execute_result"
    }
   ],
   "source": [
    "del dicty['age']\n",
    "dicty"
   ]
  },
  {
   "cell_type": "markdown",
   "id": "2d7eb902",
   "metadata": {},
   "source": [
    "# Comparision Operators"
   ]
  },
  {
   "cell_type": "code",
   "execution_count": 44,
   "id": "8dc9bc6b",
   "metadata": {},
   "outputs": [
    {
     "data": {
      "text/plain": [
       "False"
      ]
     },
     "execution_count": 44,
     "metadata": {},
     "output_type": "execute_result"
    }
   ],
   "source": [
    "a=5\n",
    "b=110\n",
    "a>b"
   ]
  },
  {
   "cell_type": "code",
   "execution_count": 48,
   "id": "58bd4f97",
   "metadata": {},
   "outputs": [
    {
     "data": {
      "text/plain": [
       "True"
      ]
     },
     "execution_count": 48,
     "metadata": {},
     "output_type": "execute_result"
    }
   ],
   "source": [
    "a>b or a<b"
   ]
  },
  {
   "cell_type": "code",
   "execution_count": 49,
   "id": "969c4f05",
   "metadata": {},
   "outputs": [
    {
     "data": {
      "text/plain": [
       "True"
      ]
     },
     "execution_count": 49,
     "metadata": {},
     "output_type": "execute_result"
    }
   ],
   "source": [
    "'a' in ['m', 'a', 2]"
   ]
  },
  {
   "cell_type": "code",
   "execution_count": 50,
   "id": "71ece2df",
   "metadata": {},
   "outputs": [
    {
     "data": {
      "text/plain": [
       "True"
      ]
     },
     "execution_count": 50,
     "metadata": {},
     "output_type": "execute_result"
    }
   ],
   "source": [
    "mmm = \"made me buy it\"\n",
    "\"buy\" in mmm"
   ]
  },
  {
   "cell_type": "markdown",
   "id": "c2306848",
   "metadata": {},
   "source": [
    "# IF Statement"
   ]
  },
  {
   "cell_type": "code",
   "execution_count": 52,
   "id": "d14554d9",
   "metadata": {},
   "outputs": [
    {
     "name": "stdout",
     "output_type": "stream",
     "text": [
      "no\n"
     ]
    }
   ],
   "source": [
    "print(\"yes\") if a > b else print(\"no\")"
   ]
  },
  {
   "cell_type": "markdown",
   "id": "59658132",
   "metadata": {},
   "source": [
    "# For Loops"
   ]
  },
  {
   "cell_type": "code",
   "execution_count": 1,
   "id": "288f31ba",
   "metadata": {},
   "outputs": [
    {
     "name": "stdout",
     "output_type": "stream",
     "text": [
      "name: mohamed\n",
      "age: 25\n"
     ]
    }
   ],
   "source": [
    "dicty = {'name': 'mohamed', 'age': 25}\n",
    "for key, value in dicty.items():\n",
    "    print(f'{key}: {value}')"
   ]
  },
  {
   "cell_type": "code",
   "execution_count": 2,
   "id": "18d939ec",
   "metadata": {},
   "outputs": [
    {
     "name": "stdout",
     "output_type": "stream",
     "text": [
      "name\n",
      "age\n"
     ]
    }
   ],
   "source": [
    "for key in dicty.keys():\n",
    "  print(key)"
   ]
  },
  {
   "cell_type": "code",
   "execution_count": 3,
   "id": "9968586d",
   "metadata": {},
   "outputs": [
    {
     "name": "stdout",
     "output_type": "stream",
     "text": [
      "mohamed\n",
      "25\n"
     ]
    }
   ],
   "source": [
    "for value in dicty.values():\n",
    "  print(value)"
   ]
  },
  {
   "cell_type": "code",
   "execution_count": 4,
   "id": "8c357279",
   "metadata": {},
   "outputs": [
    {
     "name": "stdout",
     "output_type": "stream",
     "text": [
      "Vanilla with Hot Fudge\n",
      "Vanilla with Oroes\n",
      "Vanilla with Peanuts\n",
      "Chocolate with Hot Fudge\n",
      "Chocolate with Oroes\n",
      "Chocolate with Peanuts\n",
      "Strawberry with Hot Fudge\n",
      "Strawberry with Oroes\n",
      "Strawberry with Peanuts\n"
     ]
    }
   ],
   "source": [
    "flavors = ['Vanilla', 'Chocolate', 'Strawberry']\n",
    "toppings = ['Hot Fudge', 'Oroes', 'Peanuts']\n",
    "for flavor in flavors:\n",
    "    for topping in toppings:\n",
    "        print(f'{flavor} with {topping}')"
   ]
  },
  {
   "cell_type": "code",
   "execution_count": 6,
   "id": "6c8d7209",
   "metadata": {},
   "outputs": [
    {
     "name": "stdout",
     "output_type": "stream",
     "text": [
      "Vanilla\n",
      "Chocolate\n",
      "Strawberry\n"
     ]
    }
   ],
   "source": [
    "i = 0\n",
    "while i < len(flavors):\n",
    "  print(flavors[i])\n",
    "  i+=1"
   ]
  },
  {
   "cell_type": "code",
   "execution_count": 9,
   "id": "509ed984",
   "metadata": {},
   "outputs": [
    {
     "name": "stdout",
     "output_type": "stream",
     "text": [
      "Vanilla\n"
     ]
    }
   ],
   "source": [
    "# break + else\n",
    "i = 0\n",
    "while i < len(flavors):\n",
    "  print(flavors[i])\n",
    "  break\n",
    "  i+=1\n",
    "else:\n",
    "  print(\"End of the loop\")"
   ]
  },
  {
   "cell_type": "code",
   "execution_count": 18,
   "id": "d9c4962c",
   "metadata": {},
   "outputs": [
    {
     "name": "stdout",
     "output_type": "stream",
     "text": [
      "Vanilla\n",
      "Strawberry\n"
     ]
    }
   ],
   "source": [
    "# continue\n",
    "# break + else\n",
    "i = 0\n",
    "while i < len(flavors):\n",
    "  if i == 1:\n",
    "    i += 1\n",
    "    continue\n",
    "  print(flavors[i])\n",
    "  i += 1"
   ]
  },
  {
   "cell_type": "markdown",
   "id": "d391b06b",
   "metadata": {},
   "source": [
    "# Functions"
   ]
  },
  {
   "cell_type": "code",
   "execution_count": 22,
   "id": "15272124",
   "metadata": {},
   "outputs": [],
   "source": [
    "def add(a, b):\n",
    "  return a + b\n",
    "\n",
    "def voice():\n",
    "  print(\"hello guys\")\n"
   ]
  },
  {
   "cell_type": "code",
   "execution_count": 23,
   "id": "c85bbc60",
   "metadata": {},
   "outputs": [
    {
     "name": "stdout",
     "output_type": "stream",
     "text": [
      "3\n"
     ]
    }
   ],
   "source": [
    "print(add(1, 2))"
   ]
  },
  {
   "cell_type": "code",
   "execution_count": 38,
   "id": "c48f8d96",
   "metadata": {},
   "outputs": [],
   "source": [
    "def add(*args):\n",
    "  return args[0] + args[2]"
   ]
  },
  {
   "cell_type": "code",
   "execution_count": 39,
   "id": "42488498",
   "metadata": {},
   "outputs": [
    {
     "data": {
      "text/plain": [
       "38"
      ]
     },
     "execution_count": 39,
     "metadata": {},
     "output_type": "execute_result"
    }
   ],
   "source": [
    "args_tpl = (5, 2, 33)\n",
    "add(*args_tpl)"
   ]
  },
  {
   "cell_type": "code",
   "execution_count": 60,
   "id": "2f6a10f2",
   "metadata": {},
   "outputs": [],
   "source": [
    "def introduce(**kwargs):\n",
    "  return print(f\"My name is {kwargs['name']} I am {kwargs['age']}\")"
   ]
  },
  {
   "cell_type": "code",
   "execution_count": 61,
   "id": "3f7e81d9",
   "metadata": {},
   "outputs": [
    {
     "name": "stdout",
     "output_type": "stream",
     "text": [
      "My name is mohamed I am 50\n",
      "My name is mohamed I am 25\n"
     ]
    }
   ],
   "source": [
    "introduce(name='mohamed', age=50, jobTitle=\"Data Scientist\")\n",
    "\n",
    "portfolio = {'name':'mohamed', 'age':25, 'JobTitle':'Data Scientis'}\n",
    "introduce(**portfolio)"
   ]
  },
  {
   "cell_type": "code",
   "execution_count": 62,
   "id": "a6b7db61",
   "metadata": {},
   "outputs": [
    {
     "name": "stdout",
     "output_type": "stream",
     "text": [
      "My name is mohamed I am 19\n",
      "My name is mohamed I am 18\n",
      "My name is mohamed I am 18\n"
     ]
    }
   ],
   "source": [
    "def profile(name, age):\n",
    "  print(f\"My name is {name} I am {age}\")\n",
    "\n",
    "profile(name=\"mohamed\", age=19)\n",
    "profile(\"mohamed\", 18)\n",
    "profile(age=18, name=\"mohamed\")"
   ]
  },
  {
   "cell_type": "code",
   "execution_count": null,
   "id": "48403f4b",
   "metadata": {},
   "outputs": [],
   "source": []
  },
  {
   "cell_type": "markdown",
   "id": "d5590b20",
   "metadata": {},
   "source": [
    "# Casting: Converting Data Types"
   ]
  },
  {
   "cell_type": "code",
   "execution_count": 63,
   "id": "f2b15cd7",
   "metadata": {},
   "outputs": [
    {
     "data": {
      "text/plain": [
       "int"
      ]
     },
     "execution_count": 63,
     "metadata": {},
     "output_type": "execute_result"
    }
   ],
   "source": [
    "num = 5\n",
    "type(num)"
   ]
  },
  {
   "cell_type": "code",
   "execution_count": 64,
   "id": "3293863e",
   "metadata": {},
   "outputs": [
    {
     "data": {
      "text/plain": [
       "list"
      ]
     },
     "execution_count": 64,
     "metadata": {},
     "output_type": "execute_result"
    }
   ],
   "source": [
    "values = [1, 2, 5, 5, 5, 6, 888, 8, 8 , 9]\n",
    "type(values)"
   ]
  },
  {
   "cell_type": "code",
   "execution_count": 65,
   "id": "dbe7fc84",
   "metadata": {},
   "outputs": [
    {
     "data": {
      "text/plain": [
       "{1, 2, 5, 6, 8, 9, 888}"
      ]
     },
     "execution_count": 65,
     "metadata": {},
     "output_type": "execute_result"
    }
   ],
   "source": [
    "set(values)"
   ]
  },
  {
   "cell_type": "code",
   "execution_count": 66,
   "id": "c3433905",
   "metadata": {},
   "outputs": [
    {
     "data": {
      "text/plain": [
       "dict"
      ]
     },
     "execution_count": 66,
     "metadata": {},
     "output_type": "execute_result"
    }
   ],
   "source": [
    "profile = {'name':'mohamed', 'age':25, 'JobTitle':'Data Scientis'}\n",
    "type(profile)"
   ]
  },
  {
   "cell_type": "code",
   "execution_count": 68,
   "id": "427dacda",
   "metadata": {},
   "outputs": [
    {
     "data": {
      "text/plain": [
       "dict_values"
      ]
     },
     "execution_count": 68,
     "metadata": {},
     "output_type": "execute_result"
    }
   ],
   "source": [
    "type(profile.values())"
   ]
  },
  {
   "cell_type": "code",
   "execution_count": 69,
   "id": "aded1934",
   "metadata": {},
   "outputs": [
    {
     "data": {
      "text/plain": [
       "['mohamed', 25, 'Data Scientis']"
      ]
     },
     "execution_count": 69,
     "metadata": {},
     "output_type": "execute_result"
    }
   ],
   "source": [
    "list(profile.values())"
   ]
  },
  {
   "cell_type": "code",
   "execution_count": 70,
   "id": "b855e209",
   "metadata": {},
   "outputs": [
    {
     "data": {
      "text/plain": [
       "['I', ' ', 'l', 'o', 'v', 'e', ' ', 'y', 'o', 'u']"
      ]
     },
     "execution_count": 70,
     "metadata": {},
     "output_type": "execute_result"
    }
   ],
   "source": [
    "phrase = \"I love you\"\n",
    "list(phrase)"
   ]
  }
 ],
 "metadata": {
  "kernelspec": {
   "display_name": "base",
   "language": "python",
   "name": "python3"
  },
  "language_info": {
   "codemirror_mode": {
    "name": "ipython",
    "version": 3
   },
   "file_extension": ".py",
   "mimetype": "text/x-python",
   "name": "python",
   "nbconvert_exporter": "python",
   "pygments_lexer": "ipython3",
   "version": "3.12.2"
  }
 },
 "nbformat": 4,
 "nbformat_minor": 5
}
