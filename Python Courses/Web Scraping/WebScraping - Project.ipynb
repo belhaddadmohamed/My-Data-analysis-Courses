{
 "cells": [
  {
   "cell_type": "markdown",
   "id": "8d7fd864",
   "metadata": {},
   "source": [
    "### Project Details:\n",
    "Url: [https://en.wikipedia.org/wiki/List_of_largest_companies_by_revenue](https://en.wikipedia.org/wiki/List_of_largest_companies_by_revenue)"
   ]
  },
  {
   "cell_type": "code",
   "execution_count": 14,
   "id": "5afeed63",
   "metadata": {},
   "outputs": [],
   "source": [
    "from bs4 import BeautifulSoup\n",
    "import requests"
   ]
  },
  {
   "cell_type": "code",
   "execution_count": 15,
   "id": "673915f3",
   "metadata": {},
   "outputs": [],
   "source": [
    "page = requests.get('https://en.wikipedia.org/wiki/List_of_largest_companies_in_the_United_States_by_revenue')"
   ]
  },
  {
   "cell_type": "code",
   "execution_count": 16,
   "id": "15d563e7",
   "metadata": {},
   "outputs": [],
   "source": [
    "soup = BeautifulSoup(page.text, 'html')"
   ]
  },
  {
   "cell_type": "code",
   "execution_count": 17,
   "id": "c4f392d8",
   "metadata": {},
   "outputs": [],
   "source": [
    "table = soup.find_all('table', attrs={\"class\": \"wikitable sortable\"})[1]"
   ]
  },
  {
   "cell_type": "code",
   "execution_count": 18,
   "id": "ce24dfd8",
   "metadata": {},
   "outputs": [],
   "source": [
    "titles = table.find_all('th')"
   ]
  },
  {
   "cell_type": "code",
   "execution_count": 19,
   "id": "ed73cfc4",
   "metadata": {},
   "outputs": [
    {
     "data": {
      "text/plain": [
       "['Rank',\n",
       " 'Name',\n",
       " 'Industry',\n",
       " 'Revenue (USD millions)',\n",
       " 'Revenue growth',\n",
       " 'Employees',\n",
       " 'Headquarters']"
      ]
     },
     "execution_count": 19,
     "metadata": {},
     "output_type": "execute_result"
    }
   ],
   "source": [
    "world_titles = [title.text.strip('\\n') for title in titles]\n",
    "world_titles"
   ]
  },
  {
   "cell_type": "markdown",
   "id": "0e77ab04",
   "metadata": {},
   "source": [
    "### Working with Series / DataFrames"
   ]
  },
  {
   "cell_type": "markdown",
   "id": "328dc80e",
   "metadata": {},
   "source": [
    "### Method1:"
   ]
  },
  {
   "cell_type": "code",
   "execution_count": 20,
   "id": "7407644d",
   "metadata": {},
   "outputs": [],
   "source": [
    "import pandas as pd"
   ]
  },
  {
   "cell_type": "code",
   "execution_count": 21,
   "id": "599704d8",
   "metadata": {},
   "outputs": [
    {
     "data": {
      "application/vnd.microsoft.datawrangler.viewer.v0+json": {
       "columns": [
        {
         "name": "index",
         "rawType": "int64",
         "type": "integer"
        },
        {
         "name": "Rank",
         "rawType": "object",
         "type": "string"
        },
        {
         "name": "Name",
         "rawType": "object",
         "type": "string"
        },
        {
         "name": "Industry",
         "rawType": "object",
         "type": "string"
        },
        {
         "name": "Revenue (USD millions)",
         "rawType": "object",
         "type": "string"
        },
        {
         "name": "Revenue growth",
         "rawType": "object",
         "type": "string"
        },
        {
         "name": "Employees",
         "rawType": "object",
         "type": "string"
        },
        {
         "name": "Headquarters",
         "rawType": "object",
         "type": "string"
        }
       ],
       "ref": "5095e761-0e15-4708-97e2-bbd27e879ff8",
       "rows": [],
       "shape": {
        "columns": 7,
        "rows": 0
       }
      },
      "text/html": [
       "<div>\n",
       "<style scoped>\n",
       "    .dataframe tbody tr th:only-of-type {\n",
       "        vertical-align: middle;\n",
       "    }\n",
       "\n",
       "    .dataframe tbody tr th {\n",
       "        vertical-align: top;\n",
       "    }\n",
       "\n",
       "    .dataframe thead th {\n",
       "        text-align: right;\n",
       "    }\n",
       "</style>\n",
       "<table border=\"1\" class=\"dataframe\">\n",
       "  <thead>\n",
       "    <tr style=\"text-align: right;\">\n",
       "      <th></th>\n",
       "      <th>Rank</th>\n",
       "      <th>Name</th>\n",
       "      <th>Industry</th>\n",
       "      <th>Revenue (USD millions)</th>\n",
       "      <th>Revenue growth</th>\n",
       "      <th>Employees</th>\n",
       "      <th>Headquarters</th>\n",
       "    </tr>\n",
       "  </thead>\n",
       "  <tbody>\n",
       "  </tbody>\n",
       "</table>\n",
       "</div>"
      ],
      "text/plain": [
       "Empty DataFrame\n",
       "Columns: [Rank, Name, Industry, Revenue (USD millions), Revenue growth, Employees, Headquarters]\n",
       "Index: []"
      ]
     },
     "execution_count": 21,
     "metadata": {},
     "output_type": "execute_result"
    }
   ],
   "source": [
    "world_df = pd.DataFrame(columns=world_titles)\n",
    "world_df"
   ]
  },
  {
   "cell_type": "code",
   "execution_count": 22,
   "id": "bec9c1e8",
   "metadata": {},
   "outputs": [],
   "source": [
    "rows = table.find_all('tr')[1:]\n",
    "for row in rows:\n",
    "  data = [td.text.strip() for td in row.find_all('td')]    # Filter the <td> tags not <th>\n",
    "  \n",
    "  length = len(world_df)\n",
    "  world_df.loc[length] = data"
   ]
  },
  {
   "cell_type": "code",
   "execution_count": 23,
   "id": "48d053ce",
   "metadata": {},
   "outputs": [
    {
     "data": {
      "application/vnd.microsoft.datawrangler.viewer.v0+json": {
       "columns": [
        {
         "name": "index",
         "rawType": "int64",
         "type": "integer"
        },
        {
         "name": "Rank",
         "rawType": "object",
         "type": "string"
        },
        {
         "name": "Name",
         "rawType": "object",
         "type": "string"
        },
        {
         "name": "Industry",
         "rawType": "object",
         "type": "string"
        },
        {
         "name": "Revenue (USD millions)",
         "rawType": "object",
         "type": "string"
        },
        {
         "name": "Revenue growth",
         "rawType": "object",
         "type": "string"
        },
        {
         "name": "Employees",
         "rawType": "object",
         "type": "string"
        },
        {
         "name": "Headquarters",
         "rawType": "object",
         "type": "string"
        }
       ],
       "ref": "3472a5e7-d7bf-4607-aca5-d7618286bd56",
       "rows": [
        [
         "0",
         "1",
         "Walmart",
         "Retail",
         "648,125",
         "6.0%",
         "2,100,000",
         "Bentonville, Arkansas"
        ],
        [
         "1",
         "2",
         "Amazon",
         "Retail and cloud computing",
         "574,785",
         "11.9%",
         "1,525,000",
         "Seattle, Washington"
        ],
        [
         "2",
         "3",
         "Apple",
         "Electronics industry",
         "383,482",
         "-2.8%",
         "161,000",
         "Cupertino, California"
        ],
        [
         "3",
         "4",
         "UnitedHealth Group",
         "Healthcare",
         "371,622",
         "14.6%",
         "440,000",
         "Minnetonka, Minnesota"
        ],
        [
         "4",
         "5",
         "Berkshire Hathaway",
         "Conglomerate",
         "364,482",
         "20.7%",
         "396,500",
         "Omaha, Nebraska"
        ],
        [
         "5",
         "6",
         "CVS Health",
         "Healthcare",
         "357,776",
         "10.9%",
         "259,500",
         "Woonsocket, Rhode Island"
        ],
        [
         "6",
         "7",
         "ExxonMobil",
         "Petroleum industry",
         "344,582",
         "-16.7%",
         "61,500",
         "Spring, Texas"
        ],
        [
         "7",
         "8",
         "Alphabet",
         "Technology and cloud computing",
         "307,394",
         "8.7%",
         "182,502",
         "Mountain View, California"
        ],
        [
         "8",
         "9",
         "McKesson Corporation",
         "Health",
         "276,711",
         "4.8%",
         "48,000",
         "Irving, Texas"
        ],
        [
         "9",
         "10",
         "Cencora",
         "Pharmacy wholesale",
         "262,173",
         "9.9%",
         "44,000",
         "Conshohocken, Pennsylvania"
        ],
        [
         "10",
         "11",
         "Costco",
         "Retail",
         "242,290",
         "6.8%",
         "316,000",
         "Issaquah, Washington"
        ],
        [
         "11",
         "12",
         "JPMorgan Chase",
         "Financial services",
         "239,425",
         "54.7%",
         "309,926",
         "New York City, New York"
        ],
        [
         "12",
         "13",
         "Microsoft",
         "Technology and cloud computing",
         "211,915",
         "6.9%",
         "221,000",
         "Redmond, Washington"
        ],
        [
         "13",
         "14",
         "Cardinal Health",
         "Healthcare",
         "205,012",
         "13.0%",
         "47,520",
         "Dublin, Ohio"
        ],
        [
         "14",
         "15",
         "Chevron Corporation",
         "Petroleum industry",
         "200,949",
         "-18.4%",
         "45,600",
         "Houston, Texas"
        ],
        [
         "15",
         "16",
         "Cigna",
         "Health insurance",
         "195,265",
         "8.2%",
         "71,413",
         "Bloomfield, Connecticut"
        ],
        [
         "16",
         "17",
         "Ford Motor Company",
         "Automotive industry",
         "176,191",
         "11.5%",
         "177,000",
         "Dearborn, Michigan"
        ],
        [
         "17",
         "18",
         "Bank of America",
         "Financials",
         "171,912",
         "49.4%",
         "212,985",
         "Charlotte, North Carolina"
        ],
        [
         "18",
         "19",
         "General Motors",
         "Automotive industry",
         "171,842",
         "9.6%",
         "163,000",
         "Detroit, Michigan"
        ],
        [
         "19",
         "20",
         "Elevance Health",
         "Healthcare",
         "171,340",
         "9.4%",
         "104,900",
         "Indianapolis, Indiana"
        ],
        [
         "20",
         "21",
         "Citigroup",
         "Financials",
         "156,820",
         "55.1%",
         "237,925",
         "New York City, New York"
        ],
        [
         "21",
         "22",
         "Centene",
         "Healthcare",
         "153,999",
         "6.5%",
         "67,700",
         "St. Louis, Missouri"
        ],
        [
         "22",
         "23",
         "The Home Depot",
         "Retail",
         "152,669",
         "-3.0%",
         "463,100",
         "Atlanta, Georgia"
        ],
        [
         "23",
         "24",
         "Marathon Petroleum",
         "Petroleum industry",
         "150,307",
         "-16.5%",
         "18,200",
         "Findlay, Ohio"
        ],
        [
         "24",
         "25",
         "Kroger",
         "Retail",
         "150,039",
         "-3.6%",
         "414,000",
         "Cincinnati, Ohio"
        ],
        [
         "25",
         "26",
         "Phillips 66",
         "Petroleum industry",
         "149,890",
         "-14.7%",
         "14,000",
         "Houston, Texas"
        ],
        [
         "26",
         "27",
         "Fannie Mae",
         "Financials",
         "141,240",
         "16.2%",
         "8,100",
         "Washington, D.C."
        ],
        [
         "27",
         "28",
         "Walgreens Boots Alliance",
         "Pharmaceutical industry",
         "139,081",
         "4.8%",
         "268,500",
         "Deerfield, Illinois"
        ],
        [
         "28",
         "29",
         "Valero Energy",
         "Petroleum industry",
         "139,001",
         "-18.8%",
         "9,987",
         "San Antonio, Texas"
        ],
        [
         "29",
         "30",
         "Meta Platforms",
         "Technology",
         "134,902",
         "15.7%",
         "67,317",
         "Menlo Park, California"
        ],
        [
         "30",
         "31",
         "Verizon Communications",
         "Telecommunications",
         "133,974",
         "-2.1%",
         "105,400",
         "New York City, New York"
        ],
        [
         "31",
         "32",
         "AT&T",
         "Conglomerate and telecommunications",
         "122,428",
         "1.4%",
         "150,470",
         "Dallas, Texas"
        ],
        [
         "32",
         "33",
         "Comcast",
         "Telecommunications",
         "121,572",
         "0.1%",
         "186,000",
         "Philadelphia, Pennsylvania"
        ],
        [
         "33",
         "34",
         "Wells Fargo",
         "Financials",
         "115,340",
         "39.2%",
         "226,000",
         "San Francisco, California"
        ],
        [
         "34",
         "35",
         "Goldman Sachs",
         "Financials",
         "108,418",
         "57.8%",
         "45,300",
         "New York City, New York"
        ],
        [
         "35",
         "36",
         "Freddie Mac",
         "Financials",
         "108,050",
         "24.6%",
         "8,020",
         "McLean, Virginia"
        ],
        [
         "36",
         "37",
         "Target Corporation",
         "Retail",
         "107,412",
         "-1.6%",
         "415,000",
         "Minneapolis, Minnesota"
        ],
        [
         "37",
         "38",
         "Humana",
         "Health insurance",
         "106,374",
         "14.5%",
         "67,600",
         "Louisville, Kentucky"
        ],
        [
         "38",
         "39",
         "State Farm",
         "Financials",
         "104,199",
         "16.6%",
         "65,054",
         "Bloomington, Illinois"
        ],
        [
         "39",
         "40",
         "Tesla",
         "Automotive and energy",
         "96,773",
         "18.8%",
         "140,473",
         "Austin, Texas"
        ],
        [
         "40",
         "41",
         "Morgan Stanley",
         "Financials",
         "96,194",
         "45.9%",
         "80,006",
         "New York City, New York"
        ],
        [
         "41",
         "42",
         "Johnson & Johnson",
         "Pharmaceutical industry",
         "95,195",
         "0.3%",
         "131,900",
         "New Brunswick, New Jersey"
        ],
        [
         "42",
         "43",
         "Archer Daniels Midland",
         "Food industry",
         "93,935",
         "-7.5%",
         "41,008",
         "Chicago, Illinois"
        ],
        [
         "43",
         "44",
         "PepsiCo",
         "Beverage",
         "91,471",
         "5.9%",
         "318,000",
         "Purchase, New York"
        ],
        [
         "44",
         "45",
         "United Parcel Service",
         "Transportation",
         "90,958",
         "-9.3%",
         "382,550",
         "Atlanta, Georgia"
        ],
        [
         "45",
         "46",
         "FedEx",
         "Transportation",
         "90,155",
         "-3.6%",
         "446,400",
         "Memphis, Tennessee"
        ],
        [
         "46",
         "47",
         "The Walt Disney Company",
         "Media",
         "88,898",
         "7.5%",
         "199,125",
         "Burbank, California"
        ],
        [
         "47",
         "48",
         "Dell Technologies",
         "Technology",
         "88,425",
         "-13.6%",
         "120,000",
         "Round Rock, Texas"
        ],
        [
         "48",
         "49",
         "Lowe's",
         "Retail",
         "86,377",
         "-11.0%",
         "226,000",
         "Mooresville, North Carolina"
        ],
        [
         "49",
         "50",
         "Procter & Gamble",
         "Consumer products manufacturing",
         "82,006",
         "2.3%",
         "107,000",
         "Cincinnati, Ohio"
        ]
       ],
       "shape": {
        "columns": 7,
        "rows": 100
       }
      },
      "text/html": [
       "<div>\n",
       "<style scoped>\n",
       "    .dataframe tbody tr th:only-of-type {\n",
       "        vertical-align: middle;\n",
       "    }\n",
       "\n",
       "    .dataframe tbody tr th {\n",
       "        vertical-align: top;\n",
       "    }\n",
       "\n",
       "    .dataframe thead th {\n",
       "        text-align: right;\n",
       "    }\n",
       "</style>\n",
       "<table border=\"1\" class=\"dataframe\">\n",
       "  <thead>\n",
       "    <tr style=\"text-align: right;\">\n",
       "      <th></th>\n",
       "      <th>Rank</th>\n",
       "      <th>Name</th>\n",
       "      <th>Industry</th>\n",
       "      <th>Revenue (USD millions)</th>\n",
       "      <th>Revenue growth</th>\n",
       "      <th>Employees</th>\n",
       "      <th>Headquarters</th>\n",
       "    </tr>\n",
       "  </thead>\n",
       "  <tbody>\n",
       "    <tr>\n",
       "      <th>0</th>\n",
       "      <td>1</td>\n",
       "      <td>Walmart</td>\n",
       "      <td>Retail</td>\n",
       "      <td>648,125</td>\n",
       "      <td>6.0%</td>\n",
       "      <td>2,100,000</td>\n",
       "      <td>Bentonville, Arkansas</td>\n",
       "    </tr>\n",
       "    <tr>\n",
       "      <th>1</th>\n",
       "      <td>2</td>\n",
       "      <td>Amazon</td>\n",
       "      <td>Retail and cloud computing</td>\n",
       "      <td>574,785</td>\n",
       "      <td>11.9%</td>\n",
       "      <td>1,525,000</td>\n",
       "      <td>Seattle, Washington</td>\n",
       "    </tr>\n",
       "    <tr>\n",
       "      <th>2</th>\n",
       "      <td>3</td>\n",
       "      <td>Apple</td>\n",
       "      <td>Electronics industry</td>\n",
       "      <td>383,482</td>\n",
       "      <td>-2.8%</td>\n",
       "      <td>161,000</td>\n",
       "      <td>Cupertino, California</td>\n",
       "    </tr>\n",
       "    <tr>\n",
       "      <th>3</th>\n",
       "      <td>4</td>\n",
       "      <td>UnitedHealth Group</td>\n",
       "      <td>Healthcare</td>\n",
       "      <td>371,622</td>\n",
       "      <td>14.6%</td>\n",
       "      <td>440,000</td>\n",
       "      <td>Minnetonka, Minnesota</td>\n",
       "    </tr>\n",
       "    <tr>\n",
       "      <th>4</th>\n",
       "      <td>5</td>\n",
       "      <td>Berkshire Hathaway</td>\n",
       "      <td>Conglomerate</td>\n",
       "      <td>364,482</td>\n",
       "      <td>20.7%</td>\n",
       "      <td>396,500</td>\n",
       "      <td>Omaha, Nebraska</td>\n",
       "    </tr>\n",
       "    <tr>\n",
       "      <th>...</th>\n",
       "      <td>...</td>\n",
       "      <td>...</td>\n",
       "      <td>...</td>\n",
       "      <td>...</td>\n",
       "      <td>...</td>\n",
       "      <td>...</td>\n",
       "      <td>...</td>\n",
       "    </tr>\n",
       "    <tr>\n",
       "      <th>95</th>\n",
       "      <td>96</td>\n",
       "      <td>TIAA</td>\n",
       "      <td>Financials</td>\n",
       "      <td>45,735</td>\n",
       "      <td>11.8%</td>\n",
       "      <td>16,023</td>\n",
       "      <td>New York City, New York</td>\n",
       "    </tr>\n",
       "    <tr>\n",
       "      <th>96</th>\n",
       "      <td>97</td>\n",
       "      <td>CHS</td>\n",
       "      <td>Agriculture cooperative</td>\n",
       "      <td>45,590</td>\n",
       "      <td>-4.6%</td>\n",
       "      <td>10,609</td>\n",
       "      <td>Inver Grove Heights, Minnesota</td>\n",
       "    </tr>\n",
       "    <tr>\n",
       "      <th>97</th>\n",
       "      <td>98</td>\n",
       "      <td>Bristol-Myers Squibb</td>\n",
       "      <td>Pharmaceutical industry</td>\n",
       "      <td>45,006</td>\n",
       "      <td>-2.5%</td>\n",
       "      <td>34,100</td>\n",
       "      <td>New York City, New York</td>\n",
       "    </tr>\n",
       "    <tr>\n",
       "      <th>98</th>\n",
       "      <td>99</td>\n",
       "      <td>Dow Chemical Company</td>\n",
       "      <td>Chemical industry</td>\n",
       "      <td>44,622</td>\n",
       "      <td>-21.6%</td>\n",
       "      <td>35,900</td>\n",
       "      <td>Midland, Michigan</td>\n",
       "    </tr>\n",
       "    <tr>\n",
       "      <th>99</th>\n",
       "      <td>100</td>\n",
       "      <td>Best Buy</td>\n",
       "      <td>Retail</td>\n",
       "      <td>43,452</td>\n",
       "      <td>-6.1%</td>\n",
       "      <td>85,000</td>\n",
       "      <td>Richfield, Minnesota</td>\n",
       "    </tr>\n",
       "  </tbody>\n",
       "</table>\n",
       "<p>100 rows × 7 columns</p>\n",
       "</div>"
      ],
      "text/plain": [
       "   Rank                  Name                    Industry  \\\n",
       "0     1               Walmart                      Retail   \n",
       "1     2                Amazon  Retail and cloud computing   \n",
       "2     3                 Apple        Electronics industry   \n",
       "3     4    UnitedHealth Group                  Healthcare   \n",
       "4     5    Berkshire Hathaway                Conglomerate   \n",
       "..  ...                   ...                         ...   \n",
       "95   96                  TIAA                  Financials   \n",
       "96   97                   CHS     Agriculture cooperative   \n",
       "97   98  Bristol-Myers Squibb     Pharmaceutical industry   \n",
       "98   99  Dow Chemical Company           Chemical industry   \n",
       "99  100              Best Buy                      Retail   \n",
       "\n",
       "   Revenue (USD millions) Revenue growth  Employees  \\\n",
       "0                 648,125           6.0%  2,100,000   \n",
       "1                 574,785          11.9%  1,525,000   \n",
       "2                 383,482          -2.8%    161,000   \n",
       "3                 371,622          14.6%    440,000   \n",
       "4                 364,482          20.7%    396,500   \n",
       "..                    ...            ...        ...   \n",
       "95                 45,735          11.8%     16,023   \n",
       "96                 45,590          -4.6%     10,609   \n",
       "97                 45,006          -2.5%     34,100   \n",
       "98                 44,622         -21.6%     35,900   \n",
       "99                 43,452          -6.1%     85,000   \n",
       "\n",
       "                      Headquarters  \n",
       "0            Bentonville, Arkansas  \n",
       "1              Seattle, Washington  \n",
       "2            Cupertino, California  \n",
       "3            Minnetonka, Minnesota  \n",
       "4                  Omaha, Nebraska  \n",
       "..                             ...  \n",
       "95         New York City, New York  \n",
       "96  Inver Grove Heights, Minnesota  \n",
       "97         New York City, New York  \n",
       "98               Midland, Michigan  \n",
       "99            Richfield, Minnesota  \n",
       "\n",
       "[100 rows x 7 columns]"
      ]
     },
     "execution_count": 23,
     "metadata": {},
     "output_type": "execute_result"
    }
   ],
   "source": [
    "world_df"
   ]
  },
  {
   "cell_type": "markdown",
   "id": "c3484602",
   "metadata": {},
   "source": [
    "### Method 2:"
   ]
  },
  {
   "cell_type": "code",
   "execution_count": 24,
   "id": "93e7de6e",
   "metadata": {},
   "outputs": [],
   "source": [
    "rows = table.find_all('tr')[1:]\n",
    "companies = []\n",
    "for row in rows:\n",
    "  companies.append([td.text.strip() for td in row.find_all('td')])    # Filter the <td> tags not <th>"
   ]
  },
  {
   "cell_type": "code",
   "execution_count": 25,
   "id": "fc1a9f94",
   "metadata": {},
   "outputs": [
    {
     "data": {
      "application/vnd.microsoft.datawrangler.viewer.v0+json": {
       "columns": [
        {
         "name": "index",
         "rawType": "int64",
         "type": "integer"
        },
        {
         "name": "Rank",
         "rawType": "object",
         "type": "string"
        },
        {
         "name": "Name",
         "rawType": "object",
         "type": "string"
        },
        {
         "name": "Industry",
         "rawType": "object",
         "type": "string"
        },
        {
         "name": "Revenue (USD millions)",
         "rawType": "object",
         "type": "string"
        },
        {
         "name": "Revenue growth",
         "rawType": "object",
         "type": "string"
        },
        {
         "name": "Employees",
         "rawType": "object",
         "type": "string"
        },
        {
         "name": "Headquarters",
         "rawType": "object",
         "type": "string"
        }
       ],
       "ref": "9be3341c-2525-4224-80aa-84d3555b3db6",
       "rows": [
        [
         "0",
         "1",
         "Walmart",
         "Retail",
         "648,125",
         "6.0%",
         "2,100,000",
         "Bentonville, Arkansas"
        ],
        [
         "1",
         "2",
         "Amazon",
         "Retail and cloud computing",
         "574,785",
         "11.9%",
         "1,525,000",
         "Seattle, Washington"
        ],
        [
         "2",
         "3",
         "Apple",
         "Electronics industry",
         "383,482",
         "-2.8%",
         "161,000",
         "Cupertino, California"
        ],
        [
         "3",
         "4",
         "UnitedHealth Group",
         "Healthcare",
         "371,622",
         "14.6%",
         "440,000",
         "Minnetonka, Minnesota"
        ],
        [
         "4",
         "5",
         "Berkshire Hathaway",
         "Conglomerate",
         "364,482",
         "20.7%",
         "396,500",
         "Omaha, Nebraska"
        ],
        [
         "5",
         "6",
         "CVS Health",
         "Healthcare",
         "357,776",
         "10.9%",
         "259,500",
         "Woonsocket, Rhode Island"
        ],
        [
         "6",
         "7",
         "ExxonMobil",
         "Petroleum industry",
         "344,582",
         "-16.7%",
         "61,500",
         "Spring, Texas"
        ],
        [
         "7",
         "8",
         "Alphabet",
         "Technology and cloud computing",
         "307,394",
         "8.7%",
         "182,502",
         "Mountain View, California"
        ],
        [
         "8",
         "9",
         "McKesson Corporation",
         "Health",
         "276,711",
         "4.8%",
         "48,000",
         "Irving, Texas"
        ],
        [
         "9",
         "10",
         "Cencora",
         "Pharmacy wholesale",
         "262,173",
         "9.9%",
         "44,000",
         "Conshohocken, Pennsylvania"
        ],
        [
         "10",
         "11",
         "Costco",
         "Retail",
         "242,290",
         "6.8%",
         "316,000",
         "Issaquah, Washington"
        ],
        [
         "11",
         "12",
         "JPMorgan Chase",
         "Financial services",
         "239,425",
         "54.7%",
         "309,926",
         "New York City, New York"
        ],
        [
         "12",
         "13",
         "Microsoft",
         "Technology and cloud computing",
         "211,915",
         "6.9%",
         "221,000",
         "Redmond, Washington"
        ],
        [
         "13",
         "14",
         "Cardinal Health",
         "Healthcare",
         "205,012",
         "13.0%",
         "47,520",
         "Dublin, Ohio"
        ],
        [
         "14",
         "15",
         "Chevron Corporation",
         "Petroleum industry",
         "200,949",
         "-18.4%",
         "45,600",
         "Houston, Texas"
        ],
        [
         "15",
         "16",
         "Cigna",
         "Health insurance",
         "195,265",
         "8.2%",
         "71,413",
         "Bloomfield, Connecticut"
        ],
        [
         "16",
         "17",
         "Ford Motor Company",
         "Automotive industry",
         "176,191",
         "11.5%",
         "177,000",
         "Dearborn, Michigan"
        ],
        [
         "17",
         "18",
         "Bank of America",
         "Financials",
         "171,912",
         "49.4%",
         "212,985",
         "Charlotte, North Carolina"
        ],
        [
         "18",
         "19",
         "General Motors",
         "Automotive industry",
         "171,842",
         "9.6%",
         "163,000",
         "Detroit, Michigan"
        ],
        [
         "19",
         "20",
         "Elevance Health",
         "Healthcare",
         "171,340",
         "9.4%",
         "104,900",
         "Indianapolis, Indiana"
        ],
        [
         "20",
         "21",
         "Citigroup",
         "Financials",
         "156,820",
         "55.1%",
         "237,925",
         "New York City, New York"
        ],
        [
         "21",
         "22",
         "Centene",
         "Healthcare",
         "153,999",
         "6.5%",
         "67,700",
         "St. Louis, Missouri"
        ],
        [
         "22",
         "23",
         "The Home Depot",
         "Retail",
         "152,669",
         "-3.0%",
         "463,100",
         "Atlanta, Georgia"
        ],
        [
         "23",
         "24",
         "Marathon Petroleum",
         "Petroleum industry",
         "150,307",
         "-16.5%",
         "18,200",
         "Findlay, Ohio"
        ],
        [
         "24",
         "25",
         "Kroger",
         "Retail",
         "150,039",
         "-3.6%",
         "414,000",
         "Cincinnati, Ohio"
        ],
        [
         "25",
         "26",
         "Phillips 66",
         "Petroleum industry",
         "149,890",
         "-14.7%",
         "14,000",
         "Houston, Texas"
        ],
        [
         "26",
         "27",
         "Fannie Mae",
         "Financials",
         "141,240",
         "16.2%",
         "8,100",
         "Washington, D.C."
        ],
        [
         "27",
         "28",
         "Walgreens Boots Alliance",
         "Pharmaceutical industry",
         "139,081",
         "4.8%",
         "268,500",
         "Deerfield, Illinois"
        ],
        [
         "28",
         "29",
         "Valero Energy",
         "Petroleum industry",
         "139,001",
         "-18.8%",
         "9,987",
         "San Antonio, Texas"
        ],
        [
         "29",
         "30",
         "Meta Platforms",
         "Technology",
         "134,902",
         "15.7%",
         "67,317",
         "Menlo Park, California"
        ],
        [
         "30",
         "31",
         "Verizon Communications",
         "Telecommunications",
         "133,974",
         "-2.1%",
         "105,400",
         "New York City, New York"
        ],
        [
         "31",
         "32",
         "AT&T",
         "Conglomerate and telecommunications",
         "122,428",
         "1.4%",
         "150,470",
         "Dallas, Texas"
        ],
        [
         "32",
         "33",
         "Comcast",
         "Telecommunications",
         "121,572",
         "0.1%",
         "186,000",
         "Philadelphia, Pennsylvania"
        ],
        [
         "33",
         "34",
         "Wells Fargo",
         "Financials",
         "115,340",
         "39.2%",
         "226,000",
         "San Francisco, California"
        ],
        [
         "34",
         "35",
         "Goldman Sachs",
         "Financials",
         "108,418",
         "57.8%",
         "45,300",
         "New York City, New York"
        ],
        [
         "35",
         "36",
         "Freddie Mac",
         "Financials",
         "108,050",
         "24.6%",
         "8,020",
         "McLean, Virginia"
        ],
        [
         "36",
         "37",
         "Target Corporation",
         "Retail",
         "107,412",
         "-1.6%",
         "415,000",
         "Minneapolis, Minnesota"
        ],
        [
         "37",
         "38",
         "Humana",
         "Health insurance",
         "106,374",
         "14.5%",
         "67,600",
         "Louisville, Kentucky"
        ],
        [
         "38",
         "39",
         "State Farm",
         "Financials",
         "104,199",
         "16.6%",
         "65,054",
         "Bloomington, Illinois"
        ],
        [
         "39",
         "40",
         "Tesla",
         "Automotive and energy",
         "96,773",
         "18.8%",
         "140,473",
         "Austin, Texas"
        ],
        [
         "40",
         "41",
         "Morgan Stanley",
         "Financials",
         "96,194",
         "45.9%",
         "80,006",
         "New York City, New York"
        ],
        [
         "41",
         "42",
         "Johnson & Johnson",
         "Pharmaceutical industry",
         "95,195",
         "0.3%",
         "131,900",
         "New Brunswick, New Jersey"
        ],
        [
         "42",
         "43",
         "Archer Daniels Midland",
         "Food industry",
         "93,935",
         "-7.5%",
         "41,008",
         "Chicago, Illinois"
        ],
        [
         "43",
         "44",
         "PepsiCo",
         "Beverage",
         "91,471",
         "5.9%",
         "318,000",
         "Purchase, New York"
        ],
        [
         "44",
         "45",
         "United Parcel Service",
         "Transportation",
         "90,958",
         "-9.3%",
         "382,550",
         "Atlanta, Georgia"
        ],
        [
         "45",
         "46",
         "FedEx",
         "Transportation",
         "90,155",
         "-3.6%",
         "446,400",
         "Memphis, Tennessee"
        ],
        [
         "46",
         "47",
         "The Walt Disney Company",
         "Media",
         "88,898",
         "7.5%",
         "199,125",
         "Burbank, California"
        ],
        [
         "47",
         "48",
         "Dell Technologies",
         "Technology",
         "88,425",
         "-13.6%",
         "120,000",
         "Round Rock, Texas"
        ],
        [
         "48",
         "49",
         "Lowe's",
         "Retail",
         "86,377",
         "-11.0%",
         "226,000",
         "Mooresville, North Carolina"
        ],
        [
         "49",
         "50",
         "Procter & Gamble",
         "Consumer products manufacturing",
         "82,006",
         "2.3%",
         "107,000",
         "Cincinnati, Ohio"
        ]
       ],
       "shape": {
        "columns": 7,
        "rows": 100
       }
      },
      "text/html": [
       "<div>\n",
       "<style scoped>\n",
       "    .dataframe tbody tr th:only-of-type {\n",
       "        vertical-align: middle;\n",
       "    }\n",
       "\n",
       "    .dataframe tbody tr th {\n",
       "        vertical-align: top;\n",
       "    }\n",
       "\n",
       "    .dataframe thead th {\n",
       "        text-align: right;\n",
       "    }\n",
       "</style>\n",
       "<table border=\"1\" class=\"dataframe\">\n",
       "  <thead>\n",
       "    <tr style=\"text-align: right;\">\n",
       "      <th></th>\n",
       "      <th>Rank</th>\n",
       "      <th>Name</th>\n",
       "      <th>Industry</th>\n",
       "      <th>Revenue (USD millions)</th>\n",
       "      <th>Revenue growth</th>\n",
       "      <th>Employees</th>\n",
       "      <th>Headquarters</th>\n",
       "    </tr>\n",
       "  </thead>\n",
       "  <tbody>\n",
       "    <tr>\n",
       "      <th>0</th>\n",
       "      <td>1</td>\n",
       "      <td>Walmart</td>\n",
       "      <td>Retail</td>\n",
       "      <td>648,125</td>\n",
       "      <td>6.0%</td>\n",
       "      <td>2,100,000</td>\n",
       "      <td>Bentonville, Arkansas</td>\n",
       "    </tr>\n",
       "    <tr>\n",
       "      <th>1</th>\n",
       "      <td>2</td>\n",
       "      <td>Amazon</td>\n",
       "      <td>Retail and cloud computing</td>\n",
       "      <td>574,785</td>\n",
       "      <td>11.9%</td>\n",
       "      <td>1,525,000</td>\n",
       "      <td>Seattle, Washington</td>\n",
       "    </tr>\n",
       "    <tr>\n",
       "      <th>2</th>\n",
       "      <td>3</td>\n",
       "      <td>Apple</td>\n",
       "      <td>Electronics industry</td>\n",
       "      <td>383,482</td>\n",
       "      <td>-2.8%</td>\n",
       "      <td>161,000</td>\n",
       "      <td>Cupertino, California</td>\n",
       "    </tr>\n",
       "    <tr>\n",
       "      <th>3</th>\n",
       "      <td>4</td>\n",
       "      <td>UnitedHealth Group</td>\n",
       "      <td>Healthcare</td>\n",
       "      <td>371,622</td>\n",
       "      <td>14.6%</td>\n",
       "      <td>440,000</td>\n",
       "      <td>Minnetonka, Minnesota</td>\n",
       "    </tr>\n",
       "    <tr>\n",
       "      <th>4</th>\n",
       "      <td>5</td>\n",
       "      <td>Berkshire Hathaway</td>\n",
       "      <td>Conglomerate</td>\n",
       "      <td>364,482</td>\n",
       "      <td>20.7%</td>\n",
       "      <td>396,500</td>\n",
       "      <td>Omaha, Nebraska</td>\n",
       "    </tr>\n",
       "    <tr>\n",
       "      <th>...</th>\n",
       "      <td>...</td>\n",
       "      <td>...</td>\n",
       "      <td>...</td>\n",
       "      <td>...</td>\n",
       "      <td>...</td>\n",
       "      <td>...</td>\n",
       "      <td>...</td>\n",
       "    </tr>\n",
       "    <tr>\n",
       "      <th>95</th>\n",
       "      <td>96</td>\n",
       "      <td>TIAA</td>\n",
       "      <td>Financials</td>\n",
       "      <td>45,735</td>\n",
       "      <td>11.8%</td>\n",
       "      <td>16,023</td>\n",
       "      <td>New York City, New York</td>\n",
       "    </tr>\n",
       "    <tr>\n",
       "      <th>96</th>\n",
       "      <td>97</td>\n",
       "      <td>CHS</td>\n",
       "      <td>Agriculture cooperative</td>\n",
       "      <td>45,590</td>\n",
       "      <td>-4.6%</td>\n",
       "      <td>10,609</td>\n",
       "      <td>Inver Grove Heights, Minnesota</td>\n",
       "    </tr>\n",
       "    <tr>\n",
       "      <th>97</th>\n",
       "      <td>98</td>\n",
       "      <td>Bristol-Myers Squibb</td>\n",
       "      <td>Pharmaceutical industry</td>\n",
       "      <td>45,006</td>\n",
       "      <td>-2.5%</td>\n",
       "      <td>34,100</td>\n",
       "      <td>New York City, New York</td>\n",
       "    </tr>\n",
       "    <tr>\n",
       "      <th>98</th>\n",
       "      <td>99</td>\n",
       "      <td>Dow Chemical Company</td>\n",
       "      <td>Chemical industry</td>\n",
       "      <td>44,622</td>\n",
       "      <td>-21.6%</td>\n",
       "      <td>35,900</td>\n",
       "      <td>Midland, Michigan</td>\n",
       "    </tr>\n",
       "    <tr>\n",
       "      <th>99</th>\n",
       "      <td>100</td>\n",
       "      <td>Best Buy</td>\n",
       "      <td>Retail</td>\n",
       "      <td>43,452</td>\n",
       "      <td>-6.1%</td>\n",
       "      <td>85,000</td>\n",
       "      <td>Richfield, Minnesota</td>\n",
       "    </tr>\n",
       "  </tbody>\n",
       "</table>\n",
       "<p>100 rows × 7 columns</p>\n",
       "</div>"
      ],
      "text/plain": [
       "   Rank                  Name                    Industry  \\\n",
       "0     1               Walmart                      Retail   \n",
       "1     2                Amazon  Retail and cloud computing   \n",
       "2     3                 Apple        Electronics industry   \n",
       "3     4    UnitedHealth Group                  Healthcare   \n",
       "4     5    Berkshire Hathaway                Conglomerate   \n",
       "..  ...                   ...                         ...   \n",
       "95   96                  TIAA                  Financials   \n",
       "96   97                   CHS     Agriculture cooperative   \n",
       "97   98  Bristol-Myers Squibb     Pharmaceutical industry   \n",
       "98   99  Dow Chemical Company           Chemical industry   \n",
       "99  100              Best Buy                      Retail   \n",
       "\n",
       "   Revenue (USD millions) Revenue growth  Employees  \\\n",
       "0                 648,125           6.0%  2,100,000   \n",
       "1                 574,785          11.9%  1,525,000   \n",
       "2                 383,482          -2.8%    161,000   \n",
       "3                 371,622          14.6%    440,000   \n",
       "4                 364,482          20.7%    396,500   \n",
       "..                    ...            ...        ...   \n",
       "95                 45,735          11.8%     16,023   \n",
       "96                 45,590          -4.6%     10,609   \n",
       "97                 45,006          -2.5%     34,100   \n",
       "98                 44,622         -21.6%     35,900   \n",
       "99                 43,452          -6.1%     85,000   \n",
       "\n",
       "                      Headquarters  \n",
       "0            Bentonville, Arkansas  \n",
       "1              Seattle, Washington  \n",
       "2            Cupertino, California  \n",
       "3            Minnetonka, Minnesota  \n",
       "4                  Omaha, Nebraska  \n",
       "..                             ...  \n",
       "95         New York City, New York  \n",
       "96  Inver Grove Heights, Minnesota  \n",
       "97         New York City, New York  \n",
       "98               Midland, Michigan  \n",
       "99            Richfield, Minnesota  \n",
       "\n",
       "[100 rows x 7 columns]"
      ]
     },
     "execution_count": 25,
     "metadata": {},
     "output_type": "execute_result"
    }
   ],
   "source": [
    "world_df2 = pd.DataFrame(companies, columns=world_titles)\n",
    "world_df2"
   ]
  },
  {
   "cell_type": "code",
   "execution_count": 27,
   "id": "03e30f2f",
   "metadata": {},
   "outputs": [],
   "source": [
    "# Convert to csv\n",
    "world_df.to_csv('Ressources/Companies_Rank.csv', index=False)"
   ]
  },
  {
   "cell_type": "code",
   "execution_count": null,
   "id": "b739cbbe",
   "metadata": {},
   "outputs": [],
   "source": []
  }
 ],
 "metadata": {
  "kernelspec": {
   "display_name": "base",
   "language": "python",
   "name": "python3"
  },
  "language_info": {
   "codemirror_mode": {
    "name": "ipython",
    "version": 3
   },
   "file_extension": ".py",
   "mimetype": "text/x-python",
   "name": "python",
   "nbconvert_exporter": "python",
   "pygments_lexer": "ipython3",
   "version": "3.12.2"
  }
 },
 "nbformat": 4,
 "nbformat_minor": 5
}
