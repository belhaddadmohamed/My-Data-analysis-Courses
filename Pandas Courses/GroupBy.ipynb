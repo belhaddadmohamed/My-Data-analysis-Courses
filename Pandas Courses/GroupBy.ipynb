{
 "cells": [
  {
   "cell_type": "code",
   "execution_count": 1,
   "id": "e28437c8",
   "metadata": {},
   "outputs": [],
   "source": [
    "import pandas as pd"
   ]
  },
  {
   "cell_type": "code",
   "execution_count": 2,
   "id": "1e6cc954",
   "metadata": {},
   "outputs": [
    {
     "data": {
      "application/vnd.microsoft.datawrangler.viewer.v0+json": {
       "columns": [
        {
         "name": "index",
         "rawType": "int64",
         "type": "integer"
        },
        {
         "name": "Flavor",
         "rawType": "object",
         "type": "string"
        },
        {
         "name": "Base Flavor",
         "rawType": "object",
         "type": "string"
        },
        {
         "name": "Liked",
         "rawType": "object",
         "type": "string"
        },
        {
         "name": "Flavor Rating",
         "rawType": "float64",
         "type": "float"
        },
        {
         "name": "Texture Rating",
         "rawType": "float64",
         "type": "float"
        },
        {
         "name": "Total Rating",
         "rawType": "float64",
         "type": "float"
        }
       ],
       "ref": "a70027f5-9445-403d-b546-2eb6eab6ecda",
       "rows": [
        [
         "0",
         "Mint Chocolate Chip",
         "Vanilla",
         "Yes",
         "10.0",
         "8.0",
         "18.0"
        ],
        [
         "1",
         "Chocolate",
         "Chocolate",
         "Yes",
         "8.8",
         "7.6",
         "16.6"
        ],
        [
         "2",
         "Vanilla",
         "Vanilla",
         "No",
         "4.7",
         "5.0",
         "9.7"
        ],
        [
         "3",
         "Cookie Dough",
         "Vanilla",
         "Yes",
         "6.9",
         "6.5",
         "13.4"
        ],
        [
         "4",
         "Rocky Road",
         "Chocolate",
         "Yes",
         "8.2",
         "7.0",
         "15.2"
        ],
        [
         "5",
         "Pistachio",
         "Vanilla",
         "No",
         "2.3",
         "3.4",
         "5.7"
        ],
        [
         "6",
         "Cake Batter",
         "Vanilla",
         "Yes",
         "6.5",
         "6.0",
         "12.5"
        ],
        [
         "7",
         "Neapolitan",
         "Vanilla",
         "No",
         "3.8",
         "5.0",
         "8.8"
        ],
        [
         "8",
         "Chocolte Fudge Brownie",
         "Chocolate",
         "Yes",
         "8.2",
         "7.1",
         "15.3"
        ]
       ],
       "shape": {
        "columns": 6,
        "rows": 9
       }
      },
      "text/html": [
       "<div>\n",
       "<style scoped>\n",
       "    .dataframe tbody tr th:only-of-type {\n",
       "        vertical-align: middle;\n",
       "    }\n",
       "\n",
       "    .dataframe tbody tr th {\n",
       "        vertical-align: top;\n",
       "    }\n",
       "\n",
       "    .dataframe thead th {\n",
       "        text-align: right;\n",
       "    }\n",
       "</style>\n",
       "<table border=\"1\" class=\"dataframe\">\n",
       "  <thead>\n",
       "    <tr style=\"text-align: right;\">\n",
       "      <th></th>\n",
       "      <th>Flavor</th>\n",
       "      <th>Base Flavor</th>\n",
       "      <th>Liked</th>\n",
       "      <th>Flavor Rating</th>\n",
       "      <th>Texture Rating</th>\n",
       "      <th>Total Rating</th>\n",
       "    </tr>\n",
       "  </thead>\n",
       "  <tbody>\n",
       "    <tr>\n",
       "      <th>0</th>\n",
       "      <td>Mint Chocolate Chip</td>\n",
       "      <td>Vanilla</td>\n",
       "      <td>Yes</td>\n",
       "      <td>10.0</td>\n",
       "      <td>8.0</td>\n",
       "      <td>18.0</td>\n",
       "    </tr>\n",
       "    <tr>\n",
       "      <th>1</th>\n",
       "      <td>Chocolate</td>\n",
       "      <td>Chocolate</td>\n",
       "      <td>Yes</td>\n",
       "      <td>8.8</td>\n",
       "      <td>7.6</td>\n",
       "      <td>16.6</td>\n",
       "    </tr>\n",
       "    <tr>\n",
       "      <th>2</th>\n",
       "      <td>Vanilla</td>\n",
       "      <td>Vanilla</td>\n",
       "      <td>No</td>\n",
       "      <td>4.7</td>\n",
       "      <td>5.0</td>\n",
       "      <td>9.7</td>\n",
       "    </tr>\n",
       "    <tr>\n",
       "      <th>3</th>\n",
       "      <td>Cookie Dough</td>\n",
       "      <td>Vanilla</td>\n",
       "      <td>Yes</td>\n",
       "      <td>6.9</td>\n",
       "      <td>6.5</td>\n",
       "      <td>13.4</td>\n",
       "    </tr>\n",
       "    <tr>\n",
       "      <th>4</th>\n",
       "      <td>Rocky Road</td>\n",
       "      <td>Chocolate</td>\n",
       "      <td>Yes</td>\n",
       "      <td>8.2</td>\n",
       "      <td>7.0</td>\n",
       "      <td>15.2</td>\n",
       "    </tr>\n",
       "    <tr>\n",
       "      <th>5</th>\n",
       "      <td>Pistachio</td>\n",
       "      <td>Vanilla</td>\n",
       "      <td>No</td>\n",
       "      <td>2.3</td>\n",
       "      <td>3.4</td>\n",
       "      <td>5.7</td>\n",
       "    </tr>\n",
       "    <tr>\n",
       "      <th>6</th>\n",
       "      <td>Cake Batter</td>\n",
       "      <td>Vanilla</td>\n",
       "      <td>Yes</td>\n",
       "      <td>6.5</td>\n",
       "      <td>6.0</td>\n",
       "      <td>12.5</td>\n",
       "    </tr>\n",
       "    <tr>\n",
       "      <th>7</th>\n",
       "      <td>Neapolitan</td>\n",
       "      <td>Vanilla</td>\n",
       "      <td>No</td>\n",
       "      <td>3.8</td>\n",
       "      <td>5.0</td>\n",
       "      <td>8.8</td>\n",
       "    </tr>\n",
       "    <tr>\n",
       "      <th>8</th>\n",
       "      <td>Chocolte Fudge Brownie</td>\n",
       "      <td>Chocolate</td>\n",
       "      <td>Yes</td>\n",
       "      <td>8.2</td>\n",
       "      <td>7.1</td>\n",
       "      <td>15.3</td>\n",
       "    </tr>\n",
       "  </tbody>\n",
       "</table>\n",
       "</div>"
      ],
      "text/plain": [
       "                   Flavor Base Flavor Liked  Flavor Rating  Texture Rating  \\\n",
       "0     Mint Chocolate Chip     Vanilla   Yes           10.0             8.0   \n",
       "1               Chocolate   Chocolate   Yes            8.8             7.6   \n",
       "2                 Vanilla     Vanilla    No            4.7             5.0   \n",
       "3            Cookie Dough     Vanilla   Yes            6.9             6.5   \n",
       "4              Rocky Road   Chocolate   Yes            8.2             7.0   \n",
       "5               Pistachio     Vanilla    No            2.3             3.4   \n",
       "6             Cake Batter     Vanilla   Yes            6.5             6.0   \n",
       "7              Neapolitan     Vanilla    No            3.8             5.0   \n",
       "8  Chocolte Fudge Brownie   Chocolate   Yes            8.2             7.1   \n",
       "\n",
       "   Total Rating  \n",
       "0          18.0  \n",
       "1          16.6  \n",
       "2           9.7  \n",
       "3          13.4  \n",
       "4          15.2  \n",
       "5           5.7  \n",
       "6          12.5  \n",
       "7           8.8  \n",
       "8          15.3  "
      ]
     },
     "execution_count": 2,
     "metadata": {},
     "output_type": "execute_result"
    }
   ],
   "source": [
    "world_pd = pd.read_csv(r'Data\\Flavors.csv')\n",
    "world_pd"
   ]
  },
  {
   "cell_type": "markdown",
   "id": "09908593",
   "metadata": {},
   "source": [
    "### Group Flavor By Base Flavor:  "
   ]
  },
  {
   "cell_type": "markdown",
   "id": "0bfa754b",
   "metadata": {},
   "source": [
    "<p style='color:red'>You need to specify the (numeric_only=True) for the numeric columns</p>"
   ]
  },
  {
   "cell_type": "code",
   "execution_count": 3,
   "id": "1037949b",
   "metadata": {},
   "outputs": [
    {
     "data": {
      "application/vnd.microsoft.datawrangler.viewer.v0+json": {
       "columns": [
        {
         "name": "Base Flavor",
         "rawType": "object",
         "type": "string"
        },
        {
         "name": "Flavor Rating",
         "rawType": "float64",
         "type": "float"
        },
        {
         "name": "Texture Rating",
         "rawType": "float64",
         "type": "float"
        },
        {
         "name": "Total Rating",
         "rawType": "float64",
         "type": "float"
        }
       ],
       "ref": "a3f1c683-019f-4a18-9e8c-531134b21a81",
       "rows": [
        [
         "Chocolate",
         "8.4",
         "7.233333333333333",
         "15.700000000000001"
        ],
        [
         "Vanilla",
         "5.7",
         "5.6499999999999995",
         "11.35"
        ]
       ],
       "shape": {
        "columns": 3,
        "rows": 2
       }
      },
      "text/html": [
       "<div>\n",
       "<style scoped>\n",
       "    .dataframe tbody tr th:only-of-type {\n",
       "        vertical-align: middle;\n",
       "    }\n",
       "\n",
       "    .dataframe tbody tr th {\n",
       "        vertical-align: top;\n",
       "    }\n",
       "\n",
       "    .dataframe thead th {\n",
       "        text-align: right;\n",
       "    }\n",
       "</style>\n",
       "<table border=\"1\" class=\"dataframe\">\n",
       "  <thead>\n",
       "    <tr style=\"text-align: right;\">\n",
       "      <th></th>\n",
       "      <th>Flavor Rating</th>\n",
       "      <th>Texture Rating</th>\n",
       "      <th>Total Rating</th>\n",
       "    </tr>\n",
       "    <tr>\n",
       "      <th>Base Flavor</th>\n",
       "      <th></th>\n",
       "      <th></th>\n",
       "      <th></th>\n",
       "    </tr>\n",
       "  </thead>\n",
       "  <tbody>\n",
       "    <tr>\n",
       "      <th>Chocolate</th>\n",
       "      <td>8.4</td>\n",
       "      <td>7.233333</td>\n",
       "      <td>15.70</td>\n",
       "    </tr>\n",
       "    <tr>\n",
       "      <th>Vanilla</th>\n",
       "      <td>5.7</td>\n",
       "      <td>5.650000</td>\n",
       "      <td>11.35</td>\n",
       "    </tr>\n",
       "  </tbody>\n",
       "</table>\n",
       "</div>"
      ],
      "text/plain": [
       "             Flavor Rating  Texture Rating  Total Rating\n",
       "Base Flavor                                             \n",
       "Chocolate              8.4        7.233333         15.70\n",
       "Vanilla                5.7        5.650000         11.35"
      ]
     },
     "execution_count": 3,
     "metadata": {},
     "output_type": "execute_result"
    }
   ],
   "source": [
    "world_pd.groupby('Base Flavor').mean(numeric_only=True)"
   ]
  },
  {
   "cell_type": "code",
   "execution_count": 4,
   "id": "40f110a4",
   "metadata": {},
   "outputs": [
    {
     "data": {
      "application/vnd.microsoft.datawrangler.viewer.v0+json": {
       "columns": [
        {
         "name": "Base Flavor",
         "rawType": "object",
         "type": "string"
        },
        {
         "name": "Flavor",
         "rawType": "object",
         "type": "string"
        },
        {
         "name": "Liked",
         "rawType": "object",
         "type": "string"
        },
        {
         "name": "Flavor Rating",
         "rawType": "float64",
         "type": "float"
        },
        {
         "name": "Texture Rating",
         "rawType": "float64",
         "type": "float"
        },
        {
         "name": "Total Rating",
         "rawType": "float64",
         "type": "float"
        }
       ],
       "ref": "cb028522-9ae1-4627-9d4c-eaf559245643",
       "rows": [
        [
         "Chocolate",
         "Chocolate",
         "Yes",
         "8.2",
         "7.0",
         "15.2"
        ],
        [
         "Vanilla",
         "Cake Batter",
         "No",
         "2.3",
         "3.4",
         "5.7"
        ]
       ],
       "shape": {
        "columns": 5,
        "rows": 2
       }
      },
      "text/html": [
       "<div>\n",
       "<style scoped>\n",
       "    .dataframe tbody tr th:only-of-type {\n",
       "        vertical-align: middle;\n",
       "    }\n",
       "\n",
       "    .dataframe tbody tr th {\n",
       "        vertical-align: top;\n",
       "    }\n",
       "\n",
       "    .dataframe thead th {\n",
       "        text-align: right;\n",
       "    }\n",
       "</style>\n",
       "<table border=\"1\" class=\"dataframe\">\n",
       "  <thead>\n",
       "    <tr style=\"text-align: right;\">\n",
       "      <th></th>\n",
       "      <th>Flavor</th>\n",
       "      <th>Liked</th>\n",
       "      <th>Flavor Rating</th>\n",
       "      <th>Texture Rating</th>\n",
       "      <th>Total Rating</th>\n",
       "    </tr>\n",
       "    <tr>\n",
       "      <th>Base Flavor</th>\n",
       "      <th></th>\n",
       "      <th></th>\n",
       "      <th></th>\n",
       "      <th></th>\n",
       "      <th></th>\n",
       "    </tr>\n",
       "  </thead>\n",
       "  <tbody>\n",
       "    <tr>\n",
       "      <th>Chocolate</th>\n",
       "      <td>Chocolate</td>\n",
       "      <td>Yes</td>\n",
       "      <td>8.2</td>\n",
       "      <td>7.0</td>\n",
       "      <td>15.2</td>\n",
       "    </tr>\n",
       "    <tr>\n",
       "      <th>Vanilla</th>\n",
       "      <td>Cake Batter</td>\n",
       "      <td>No</td>\n",
       "      <td>2.3</td>\n",
       "      <td>3.4</td>\n",
       "      <td>5.7</td>\n",
       "    </tr>\n",
       "  </tbody>\n",
       "</table>\n",
       "</div>"
      ],
      "text/plain": [
       "                  Flavor Liked  Flavor Rating  Texture Rating  Total Rating\n",
       "Base Flavor                                                                \n",
       "Chocolate      Chocolate   Yes            8.2             7.0          15.2\n",
       "Vanilla      Cake Batter    No            2.3             3.4           5.7"
      ]
     },
     "execution_count": 4,
     "metadata": {},
     "output_type": "execute_result"
    }
   ],
   "source": [
    "# For the Alphabetic it takes the order of the first letter\n",
    "world_pd.groupby('Base Flavor').min()     "
   ]
  },
  {
   "cell_type": "code",
   "execution_count": 5,
   "id": "5c28cb6c",
   "metadata": {},
   "outputs": [
    {
     "data": {
      "application/vnd.microsoft.datawrangler.viewer.v0+json": {
       "columns": [
        {
         "name": "Base Flavor",
         "rawType": "object",
         "type": "string"
        },
        {
         "name": "Flavor Rating",
         "rawType": "float64",
         "type": "float"
        },
        {
         "name": "Texture Rating",
         "rawType": "float64",
         "type": "float"
        }
       ],
       "ref": "0567d28c-9f11-4677-9d9e-bfd4197d1442",
       "rows": [
        [
         "Chocolate",
         "25.2",
         "21.7"
        ],
        [
         "Vanilla",
         "34.2",
         "33.9"
        ]
       ],
       "shape": {
        "columns": 2,
        "rows": 2
       }
      },
      "text/html": [
       "<div>\n",
       "<style scoped>\n",
       "    .dataframe tbody tr th:only-of-type {\n",
       "        vertical-align: middle;\n",
       "    }\n",
       "\n",
       "    .dataframe tbody tr th {\n",
       "        vertical-align: top;\n",
       "    }\n",
       "\n",
       "    .dataframe thead th {\n",
       "        text-align: right;\n",
       "    }\n",
       "</style>\n",
       "<table border=\"1\" class=\"dataframe\">\n",
       "  <thead>\n",
       "    <tr style=\"text-align: right;\">\n",
       "      <th></th>\n",
       "      <th>Flavor Rating</th>\n",
       "      <th>Texture Rating</th>\n",
       "    </tr>\n",
       "    <tr>\n",
       "      <th>Base Flavor</th>\n",
       "      <th></th>\n",
       "      <th></th>\n",
       "    </tr>\n",
       "  </thead>\n",
       "  <tbody>\n",
       "    <tr>\n",
       "      <th>Chocolate</th>\n",
       "      <td>25.2</td>\n",
       "      <td>21.7</td>\n",
       "    </tr>\n",
       "    <tr>\n",
       "      <th>Vanilla</th>\n",
       "      <td>34.2</td>\n",
       "      <td>33.9</td>\n",
       "    </tr>\n",
       "  </tbody>\n",
       "</table>\n",
       "</div>"
      ],
      "text/plain": [
       "             Flavor Rating  Texture Rating\n",
       "Base Flavor                               \n",
       "Chocolate             25.2            21.7\n",
       "Vanilla               34.2            33.9"
      ]
     },
     "execution_count": 5,
     "metadata": {},
     "output_type": "execute_result"
    }
   ],
   "source": [
    "world_pd.groupby('Base Flavor')[['Flavor Rating', 'Texture Rating']].sum()"
   ]
  },
  {
   "cell_type": "code",
   "execution_count": 6,
   "id": "6fa47bc8",
   "metadata": {},
   "outputs": [
    {
     "data": {
      "application/vnd.microsoft.datawrangler.viewer.v0+json": {
       "columns": [
        {
         "name": "Base Flavor",
         "rawType": "object",
         "type": "string"
        },
        {
         "name": "Flavor",
         "rawType": "int64",
         "type": "integer"
        }
       ],
       "ref": "2306b9d0-72ae-4ddf-b5f9-5034299f3054",
       "rows": [
        [
         "Chocolate",
         "3"
        ],
        [
         "Vanilla",
         "6"
        ]
       ],
       "shape": {
        "columns": 1,
        "rows": 2
       }
      },
      "text/plain": [
       "Base Flavor\n",
       "Chocolate    3\n",
       "Vanilla      6\n",
       "Name: Flavor, dtype: int64"
      ]
     },
     "execution_count": 6,
     "metadata": {},
     "output_type": "execute_result"
    }
   ],
   "source": [
    "world_pd.groupby('Base Flavor')['Flavor'].count()"
   ]
  },
  {
   "cell_type": "code",
   "execution_count": 7,
   "id": "58f4fb78",
   "metadata": {},
   "outputs": [
    {
     "data": {
      "application/vnd.microsoft.datawrangler.viewer.v0+json": {
       "columns": [
        {
         "name": "Liked",
         "rawType": "object",
         "type": "string"
        },
        {
         "name": "Flavor",
         "rawType": "int64",
         "type": "integer"
        }
       ],
       "ref": "122bceb9-986a-4478-b4b4-5cc371891282",
       "rows": [
        [
         "No",
         "3"
        ],
        [
         "Yes",
         "6"
        ]
       ],
       "shape": {
        "columns": 1,
        "rows": 2
       }
      },
      "text/plain": [
       "Liked\n",
       "No     3\n",
       "Yes    6\n",
       "Name: Flavor, dtype: int64"
      ]
     },
     "execution_count": 7,
     "metadata": {},
     "output_type": "execute_result"
    }
   ],
   "source": [
    "world_pd.groupby('Liked')['Flavor'].count()"
   ]
  },
  {
   "cell_type": "code",
   "execution_count": null,
   "id": "c508e821",
   "metadata": {},
   "outputs": [],
   "source": []
  },
  {
   "cell_type": "markdown",
   "id": "613ac6b0",
   "metadata": {},
   "source": [
    "### Aggregate Function"
   ]
  },
  {
   "cell_type": "code",
   "execution_count": 8,
   "id": "7932f2fa",
   "metadata": {},
   "outputs": [
    {
     "data": {
      "application/vnd.microsoft.datawrangler.viewer.v0+json": {
       "columns": [
        {
         "name": "Base Flavor",
         "rawType": "object",
         "type": "string"
        },
        {
         "name": "('Flavor Rating', 'mean')",
         "rawType": "float64",
         "type": "float"
        },
        {
         "name": "('Flavor Rating', 'max')",
         "rawType": "float64",
         "type": "float"
        },
        {
         "name": "('Flavor Rating', 'min')",
         "rawType": "float64",
         "type": "float"
        },
        {
         "name": "('Liked', 'count')",
         "rawType": "int64",
         "type": "integer"
        }
       ],
       "ref": "b0086b9f-a884-4d0f-91b3-edce4bbb3920",
       "rows": [
        [
         "Chocolate",
         "8.4",
         "8.8",
         "8.2",
         "3"
        ],
        [
         "Vanilla",
         "5.7",
         "10.0",
         "2.3",
         "6"
        ]
       ],
       "shape": {
        "columns": 4,
        "rows": 2
       }
      },
      "text/html": [
       "<div>\n",
       "<style scoped>\n",
       "    .dataframe tbody tr th:only-of-type {\n",
       "        vertical-align: middle;\n",
       "    }\n",
       "\n",
       "    .dataframe tbody tr th {\n",
       "        vertical-align: top;\n",
       "    }\n",
       "\n",
       "    .dataframe thead tr th {\n",
       "        text-align: left;\n",
       "    }\n",
       "\n",
       "    .dataframe thead tr:last-of-type th {\n",
       "        text-align: right;\n",
       "    }\n",
       "</style>\n",
       "<table border=\"1\" class=\"dataframe\">\n",
       "  <thead>\n",
       "    <tr>\n",
       "      <th></th>\n",
       "      <th colspan=\"3\" halign=\"left\">Flavor Rating</th>\n",
       "      <th>Liked</th>\n",
       "    </tr>\n",
       "    <tr>\n",
       "      <th></th>\n",
       "      <th>mean</th>\n",
       "      <th>max</th>\n",
       "      <th>min</th>\n",
       "      <th>count</th>\n",
       "    </tr>\n",
       "    <tr>\n",
       "      <th>Base Flavor</th>\n",
       "      <th></th>\n",
       "      <th></th>\n",
       "      <th></th>\n",
       "      <th></th>\n",
       "    </tr>\n",
       "  </thead>\n",
       "  <tbody>\n",
       "    <tr>\n",
       "      <th>Chocolate</th>\n",
       "      <td>8.4</td>\n",
       "      <td>8.8</td>\n",
       "      <td>8.2</td>\n",
       "      <td>3</td>\n",
       "    </tr>\n",
       "    <tr>\n",
       "      <th>Vanilla</th>\n",
       "      <td>5.7</td>\n",
       "      <td>10.0</td>\n",
       "      <td>2.3</td>\n",
       "      <td>6</td>\n",
       "    </tr>\n",
       "  </tbody>\n",
       "</table>\n",
       "</div>"
      ],
      "text/plain": [
       "            Flavor Rating            Liked\n",
       "                     mean   max  min count\n",
       "Base Flavor                               \n",
       "Chocolate             8.4   8.8  8.2     3\n",
       "Vanilla               5.7  10.0  2.3     6"
      ]
     },
     "execution_count": 8,
     "metadata": {},
     "output_type": "execute_result"
    }
   ],
   "source": [
    "world_pd.groupby('Base Flavor').aggregate({\"Flavor Rating\": ['mean', 'max', 'min'], \"Liked\": \"count\"})"
   ]
  },
  {
   "cell_type": "markdown",
   "id": "7c1743c5",
   "metadata": {},
   "source": []
  },
  {
   "cell_type": "markdown",
   "id": "3e6c505a",
   "metadata": {},
   "source": [
    "### Group by Multiple Columns"
   ]
  },
  {
   "cell_type": "code",
   "execution_count": 9,
   "id": "f123d376",
   "metadata": {},
   "outputs": [
    {
     "data": {
      "application/vnd.microsoft.datawrangler.viewer.v0+json": {
       "columns": [
        {
         "name": "('Base Flavor', 'Liked')",
         "rawType": "object",
         "type": "unknown"
        },
        {
         "name": "Flavor Rating",
         "rawType": "float64",
         "type": "float"
        },
        {
         "name": "Texture Rating",
         "rawType": "float64",
         "type": "float"
        },
        {
         "name": "Total Rating",
         "rawType": "float64",
         "type": "float"
        }
       ],
       "ref": "1435210f-4572-4f28-9c79-76fd320684f6",
       "rows": [
        [
         "('Chocolate', 'Yes')",
         "8.4",
         "7.233333333333333",
         "15.700000000000001"
        ],
        [
         "('Vanilla', 'No')",
         "3.6",
         "4.466666666666667",
         "8.066666666666666"
        ],
        [
         "('Vanilla', 'Yes')",
         "7.8",
         "6.833333333333333",
         "14.633333333333333"
        ]
       ],
       "shape": {
        "columns": 3,
        "rows": 3
       }
      },
      "text/html": [
       "<div>\n",
       "<style scoped>\n",
       "    .dataframe tbody tr th:only-of-type {\n",
       "        vertical-align: middle;\n",
       "    }\n",
       "\n",
       "    .dataframe tbody tr th {\n",
       "        vertical-align: top;\n",
       "    }\n",
       "\n",
       "    .dataframe thead th {\n",
       "        text-align: right;\n",
       "    }\n",
       "</style>\n",
       "<table border=\"1\" class=\"dataframe\">\n",
       "  <thead>\n",
       "    <tr style=\"text-align: right;\">\n",
       "      <th></th>\n",
       "      <th></th>\n",
       "      <th>Flavor Rating</th>\n",
       "      <th>Texture Rating</th>\n",
       "      <th>Total Rating</th>\n",
       "    </tr>\n",
       "    <tr>\n",
       "      <th>Base Flavor</th>\n",
       "      <th>Liked</th>\n",
       "      <th></th>\n",
       "      <th></th>\n",
       "      <th></th>\n",
       "    </tr>\n",
       "  </thead>\n",
       "  <tbody>\n",
       "    <tr>\n",
       "      <th>Chocolate</th>\n",
       "      <th>Yes</th>\n",
       "      <td>8.4</td>\n",
       "      <td>7.233333</td>\n",
       "      <td>15.700000</td>\n",
       "    </tr>\n",
       "    <tr>\n",
       "      <th rowspan=\"2\" valign=\"top\">Vanilla</th>\n",
       "      <th>No</th>\n",
       "      <td>3.6</td>\n",
       "      <td>4.466667</td>\n",
       "      <td>8.066667</td>\n",
       "    </tr>\n",
       "    <tr>\n",
       "      <th>Yes</th>\n",
       "      <td>7.8</td>\n",
       "      <td>6.833333</td>\n",
       "      <td>14.633333</td>\n",
       "    </tr>\n",
       "  </tbody>\n",
       "</table>\n",
       "</div>"
      ],
      "text/plain": [
       "                   Flavor Rating  Texture Rating  Total Rating\n",
       "Base Flavor Liked                                             \n",
       "Chocolate   Yes              8.4        7.233333     15.700000\n",
       "Vanilla     No               3.6        4.466667      8.066667\n",
       "            Yes              7.8        6.833333     14.633333"
      ]
     },
     "execution_count": 9,
     "metadata": {},
     "output_type": "execute_result"
    }
   ],
   "source": [
    "world_pd.groupby(['Base Flavor', 'Liked']).mean(numeric_only=True)"
   ]
  },
  {
   "cell_type": "code",
   "execution_count": 10,
   "id": "3882eb46",
   "metadata": {},
   "outputs": [
    {
     "data": {
      "application/vnd.microsoft.datawrangler.viewer.v0+json": {
       "columns": [
        {
         "name": "('Base Flavor', 'Liked')",
         "rawType": "object",
         "type": "unknown"
        },
        {
         "name": "('Flavor Rating', 'count')",
         "rawType": "int64",
         "type": "integer"
        },
        {
         "name": "('Flavor Rating', 'min')",
         "rawType": "float64",
         "type": "float"
        },
        {
         "name": "('Flavor Rating', 'max')",
         "rawType": "float64",
         "type": "float"
        }
       ],
       "ref": "cf924d78-e0af-480b-85bb-32ac58a220b0",
       "rows": [
        [
         "('Chocolate', 'Yes')",
         "3",
         "8.2",
         "8.8"
        ],
        [
         "('Vanilla', 'No')",
         "3",
         "2.3",
         "4.7"
        ],
        [
         "('Vanilla', 'Yes')",
         "3",
         "6.5",
         "10.0"
        ]
       ],
       "shape": {
        "columns": 3,
        "rows": 3
       }
      },
      "text/html": [
       "<div>\n",
       "<style scoped>\n",
       "    .dataframe tbody tr th:only-of-type {\n",
       "        vertical-align: middle;\n",
       "    }\n",
       "\n",
       "    .dataframe tbody tr th {\n",
       "        vertical-align: top;\n",
       "    }\n",
       "\n",
       "    .dataframe thead tr th {\n",
       "        text-align: left;\n",
       "    }\n",
       "\n",
       "    .dataframe thead tr:last-of-type th {\n",
       "        text-align: right;\n",
       "    }\n",
       "</style>\n",
       "<table border=\"1\" class=\"dataframe\">\n",
       "  <thead>\n",
       "    <tr>\n",
       "      <th></th>\n",
       "      <th></th>\n",
       "      <th colspan=\"3\" halign=\"left\">Flavor Rating</th>\n",
       "    </tr>\n",
       "    <tr>\n",
       "      <th></th>\n",
       "      <th></th>\n",
       "      <th>count</th>\n",
       "      <th>min</th>\n",
       "      <th>max</th>\n",
       "    </tr>\n",
       "    <tr>\n",
       "      <th>Base Flavor</th>\n",
       "      <th>Liked</th>\n",
       "      <th></th>\n",
       "      <th></th>\n",
       "      <th></th>\n",
       "    </tr>\n",
       "  </thead>\n",
       "  <tbody>\n",
       "    <tr>\n",
       "      <th>Chocolate</th>\n",
       "      <th>Yes</th>\n",
       "      <td>3</td>\n",
       "      <td>8.2</td>\n",
       "      <td>8.8</td>\n",
       "    </tr>\n",
       "    <tr>\n",
       "      <th rowspan=\"2\" valign=\"top\">Vanilla</th>\n",
       "      <th>No</th>\n",
       "      <td>3</td>\n",
       "      <td>2.3</td>\n",
       "      <td>4.7</td>\n",
       "    </tr>\n",
       "    <tr>\n",
       "      <th>Yes</th>\n",
       "      <td>3</td>\n",
       "      <td>6.5</td>\n",
       "      <td>10.0</td>\n",
       "    </tr>\n",
       "  </tbody>\n",
       "</table>\n",
       "</div>"
      ],
      "text/plain": [
       "                  Flavor Rating           \n",
       "                          count  min   max\n",
       "Base Flavor Liked                         \n",
       "Chocolate   Yes               3  8.2   8.8\n",
       "Vanilla     No                3  2.3   4.7\n",
       "            Yes               3  6.5  10.0"
      ]
     },
     "execution_count": 10,
     "metadata": {},
     "output_type": "execute_result"
    }
   ],
   "source": [
    "world_pd.groupby(['Base Flavor', 'Liked']).aggregate({'Flavor Rating': ['count', 'min', 'max']})"
   ]
  },
  {
   "cell_type": "markdown",
   "id": "3b1ba108",
   "metadata": {},
   "source": [
    "### Describe()"
   ]
  },
  {
   "cell_type": "code",
   "execution_count": 11,
   "id": "a142b663",
   "metadata": {},
   "outputs": [
    {
     "data": {
      "application/vnd.microsoft.datawrangler.viewer.v0+json": {
       "columns": [
        {
         "name": "Base Flavor",
         "rawType": "object",
         "type": "string"
        },
        {
         "name": "('Flavor Rating', 'count')",
         "rawType": "float64",
         "type": "float"
        },
        {
         "name": "('Flavor Rating', 'mean')",
         "rawType": "float64",
         "type": "float"
        },
        {
         "name": "('Flavor Rating', 'std')",
         "rawType": "float64",
         "type": "float"
        },
        {
         "name": "('Flavor Rating', 'min')",
         "rawType": "float64",
         "type": "float"
        },
        {
         "name": "('Flavor Rating', '25%')",
         "rawType": "float64",
         "type": "float"
        },
        {
         "name": "('Flavor Rating', '50%')",
         "rawType": "float64",
         "type": "float"
        },
        {
         "name": "('Flavor Rating', '75%')",
         "rawType": "float64",
         "type": "float"
        },
        {
         "name": "('Flavor Rating', 'max')",
         "rawType": "float64",
         "type": "float"
        },
        {
         "name": "('Texture Rating', 'count')",
         "rawType": "float64",
         "type": "float"
        },
        {
         "name": "('Texture Rating', 'mean')",
         "rawType": "float64",
         "type": "float"
        },
        {
         "name": "('Texture Rating', 'std')",
         "rawType": "float64",
         "type": "float"
        },
        {
         "name": "('Texture Rating', 'min')",
         "rawType": "float64",
         "type": "float"
        },
        {
         "name": "('Texture Rating', '25%')",
         "rawType": "float64",
         "type": "float"
        },
        {
         "name": "('Texture Rating', '50%')",
         "rawType": "float64",
         "type": "float"
        },
        {
         "name": "('Texture Rating', '75%')",
         "rawType": "float64",
         "type": "float"
        },
        {
         "name": "('Texture Rating', 'max')",
         "rawType": "float64",
         "type": "float"
        },
        {
         "name": "('Total Rating', 'count')",
         "rawType": "float64",
         "type": "float"
        },
        {
         "name": "('Total Rating', 'mean')",
         "rawType": "float64",
         "type": "float"
        },
        {
         "name": "('Total Rating', 'std')",
         "rawType": "float64",
         "type": "float"
        },
        {
         "name": "('Total Rating', 'min')",
         "rawType": "float64",
         "type": "float"
        },
        {
         "name": "('Total Rating', '25%')",
         "rawType": "float64",
         "type": "float"
        },
        {
         "name": "('Total Rating', '50%')",
         "rawType": "float64",
         "type": "float"
        },
        {
         "name": "('Total Rating', '75%')",
         "rawType": "float64",
         "type": "float"
        },
        {
         "name": "('Total Rating', 'max')",
         "rawType": "float64",
         "type": "float"
        }
       ],
       "ref": "7a55ae1c-c4bf-44f0-978f-dd1c148d365f",
       "rows": [
        [
         "Chocolate",
         "3.0",
         "8.4",
         "0.3464101615137763",
         "8.2",
         "8.2",
         "8.2",
         "8.5",
         "8.8",
         "3.0",
         "7.233333333333333",
         "0.3214550253664317",
         "7.0",
         "7.05",
         "7.1",
         "7.35",
         "7.6",
         "3.0",
         "15.700000000000001",
         "0.7810249675906663",
         "15.2",
         "15.25",
         "15.3",
         "15.950000000000001",
         "16.6"
        ],
        [
         "Vanilla",
         "6.0",
         "5.7",
         "2.710719461692781",
         "2.3",
         "4.025",
         "5.6",
         "6.800000000000001",
         "10.0",
         "6.0",
         "5.6499999999999995",
         "1.5668439615992398",
         "3.4",
         "5.0",
         "5.5",
         "6.375",
         "8.0",
         "6.0",
         "11.350000000000001",
         "4.263683853195496",
         "5.7",
         "9.025",
         "11.1",
         "13.175",
         "18.0"
        ]
       ],
       "shape": {
        "columns": 24,
        "rows": 2
       }
      },
      "text/html": [
       "<div>\n",
       "<style scoped>\n",
       "    .dataframe tbody tr th:only-of-type {\n",
       "        vertical-align: middle;\n",
       "    }\n",
       "\n",
       "    .dataframe tbody tr th {\n",
       "        vertical-align: top;\n",
       "    }\n",
       "\n",
       "    .dataframe thead tr th {\n",
       "        text-align: left;\n",
       "    }\n",
       "\n",
       "    .dataframe thead tr:last-of-type th {\n",
       "        text-align: right;\n",
       "    }\n",
       "</style>\n",
       "<table border=\"1\" class=\"dataframe\">\n",
       "  <thead>\n",
       "    <tr>\n",
       "      <th></th>\n",
       "      <th colspan=\"8\" halign=\"left\">Flavor Rating</th>\n",
       "      <th colspan=\"5\" halign=\"left\">Texture Rating</th>\n",
       "      <th colspan=\"8\" halign=\"left\">Total Rating</th>\n",
       "    </tr>\n",
       "    <tr>\n",
       "      <th></th>\n",
       "      <th>count</th>\n",
       "      <th>mean</th>\n",
       "      <th>std</th>\n",
       "      <th>min</th>\n",
       "      <th>25%</th>\n",
       "      <th>50%</th>\n",
       "      <th>75%</th>\n",
       "      <th>max</th>\n",
       "      <th>count</th>\n",
       "      <th>mean</th>\n",
       "      <th>...</th>\n",
       "      <th>75%</th>\n",
       "      <th>max</th>\n",
       "      <th>count</th>\n",
       "      <th>mean</th>\n",
       "      <th>std</th>\n",
       "      <th>min</th>\n",
       "      <th>25%</th>\n",
       "      <th>50%</th>\n",
       "      <th>75%</th>\n",
       "      <th>max</th>\n",
       "    </tr>\n",
       "    <tr>\n",
       "      <th>Base Flavor</th>\n",
       "      <th></th>\n",
       "      <th></th>\n",
       "      <th></th>\n",
       "      <th></th>\n",
       "      <th></th>\n",
       "      <th></th>\n",
       "      <th></th>\n",
       "      <th></th>\n",
       "      <th></th>\n",
       "      <th></th>\n",
       "      <th></th>\n",
       "      <th></th>\n",
       "      <th></th>\n",
       "      <th></th>\n",
       "      <th></th>\n",
       "      <th></th>\n",
       "      <th></th>\n",
       "      <th></th>\n",
       "      <th></th>\n",
       "      <th></th>\n",
       "      <th></th>\n",
       "    </tr>\n",
       "  </thead>\n",
       "  <tbody>\n",
       "    <tr>\n",
       "      <th>Chocolate</th>\n",
       "      <td>3.0</td>\n",
       "      <td>8.4</td>\n",
       "      <td>0.346410</td>\n",
       "      <td>8.2</td>\n",
       "      <td>8.200</td>\n",
       "      <td>8.2</td>\n",
       "      <td>8.5</td>\n",
       "      <td>8.8</td>\n",
       "      <td>3.0</td>\n",
       "      <td>7.233333</td>\n",
       "      <td>...</td>\n",
       "      <td>7.350</td>\n",
       "      <td>7.6</td>\n",
       "      <td>3.0</td>\n",
       "      <td>15.70</td>\n",
       "      <td>0.781025</td>\n",
       "      <td>15.2</td>\n",
       "      <td>15.250</td>\n",
       "      <td>15.3</td>\n",
       "      <td>15.950</td>\n",
       "      <td>16.6</td>\n",
       "    </tr>\n",
       "    <tr>\n",
       "      <th>Vanilla</th>\n",
       "      <td>6.0</td>\n",
       "      <td>5.7</td>\n",
       "      <td>2.710719</td>\n",
       "      <td>2.3</td>\n",
       "      <td>4.025</td>\n",
       "      <td>5.6</td>\n",
       "      <td>6.8</td>\n",
       "      <td>10.0</td>\n",
       "      <td>6.0</td>\n",
       "      <td>5.650000</td>\n",
       "      <td>...</td>\n",
       "      <td>6.375</td>\n",
       "      <td>8.0</td>\n",
       "      <td>6.0</td>\n",
       "      <td>11.35</td>\n",
       "      <td>4.263684</td>\n",
       "      <td>5.7</td>\n",
       "      <td>9.025</td>\n",
       "      <td>11.1</td>\n",
       "      <td>13.175</td>\n",
       "      <td>18.0</td>\n",
       "    </tr>\n",
       "  </tbody>\n",
       "</table>\n",
       "<p>2 rows × 24 columns</p>\n",
       "</div>"
      ],
      "text/plain": [
       "            Flavor Rating                                             \\\n",
       "                    count mean       std  min    25%  50%  75%   max   \n",
       "Base Flavor                                                            \n",
       "Chocolate             3.0  8.4  0.346410  8.2  8.200  8.2  8.5   8.8   \n",
       "Vanilla               6.0  5.7  2.710719  2.3  4.025  5.6  6.8  10.0   \n",
       "\n",
       "            Texture Rating            ...             Total Rating         \\\n",
       "                     count      mean  ...    75%  max        count   mean   \n",
       "Base Flavor                           ...                                   \n",
       "Chocolate              3.0  7.233333  ...  7.350  7.6          3.0  15.70   \n",
       "Vanilla                6.0  5.650000  ...  6.375  8.0          6.0  11.35   \n",
       "\n",
       "                                                         \n",
       "                  std   min     25%   50%     75%   max  \n",
       "Base Flavor                                              \n",
       "Chocolate    0.781025  15.2  15.250  15.3  15.950  16.6  \n",
       "Vanilla      4.263684   5.7   9.025  11.1  13.175  18.0  \n",
       "\n",
       "[2 rows x 24 columns]"
      ]
     },
     "execution_count": 11,
     "metadata": {},
     "output_type": "execute_result"
    }
   ],
   "source": [
    "world_pd.groupby('Base Flavor').describe()"
   ]
  },
  {
   "cell_type": "code",
   "execution_count": null,
   "id": "17f13b11",
   "metadata": {},
   "outputs": [],
   "source": []
  }
 ],
 "metadata": {
  "kernelspec": {
   "display_name": "base",
   "language": "python",
   "name": "python3"
  },
  "language_info": {
   "codemirror_mode": {
    "name": "ipython",
    "version": 3
   },
   "file_extension": ".py",
   "mimetype": "text/x-python",
   "name": "python",
   "nbconvert_exporter": "python",
   "pygments_lexer": "ipython3",
   "version": "3.12.2"
  }
 },
 "nbformat": 4,
 "nbformat_minor": 5
}
