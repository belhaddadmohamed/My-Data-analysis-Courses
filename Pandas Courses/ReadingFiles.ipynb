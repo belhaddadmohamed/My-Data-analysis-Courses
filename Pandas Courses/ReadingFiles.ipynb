{
 "cells": [
  {
   "cell_type": "code",
   "execution_count": 1,
   "id": "3d9b9c47",
   "metadata": {},
   "outputs": [],
   "source": [
    "import pandas as pd"
   ]
  },
  {
   "cell_type": "code",
   "execution_count": 2,
   "id": "c737bf3d",
   "metadata": {},
   "outputs": [],
   "source": [
    "# To display more rows\n",
    "pd.set_option('display.max.rows', 200)\n",
    "pd.set_option('display.max.columns', 80)"
   ]
  },
  {
   "cell_type": "code",
   "execution_count": 3,
   "id": "a0872633",
   "metadata": {},
   "outputs": [
    {
     "data": {
      "application/vnd.microsoft.datawrangler.viewer.v0+json": {
       "columns": [
        {
         "name": "index",
         "rawType": "int64",
         "type": "integer"
        },
        {
         "name": "Country",
         "rawType": "object",
         "type": "string"
        },
        {
         "name": "Region",
         "rawType": "object",
         "type": "string"
        }
       ],
       "ref": "122f4fe4-9fd9-4eb3-9b61-b4433ea1d489",
       "rows": [
        [
         "0",
         "Afghanistan ",
         "ASIA (EX. NEAR EAST)         "
        ],
        [
         "1",
         "Albania ",
         "EASTERN EUROPE                     "
        ],
        [
         "2",
         "Algeria ",
         "NORTHERN AFRICA                    "
        ],
        [
         "3",
         "American Samoa ",
         "OCEANIA                            "
        ],
        [
         "4",
         "Andorra ",
         "WESTERN EUROPE                     "
        ],
        [
         "5",
         "Angola ",
         "SUB-SAHARAN AFRICA                 "
        ],
        [
         "6",
         "Anguilla ",
         "LATIN AMER. & CARIB    "
        ],
        [
         "7",
         "Antigua & Barbuda ",
         "LATIN AMER. & CARIB    "
        ],
        [
         "8",
         "Argentina ",
         "LATIN AMER. & CARIB    "
        ],
        [
         "9",
         "Armenia ",
         "C.W. OF IND. STATES "
        ],
        [
         "10",
         "Aruba ",
         "LATIN AMER. & CARIB    "
        ],
        [
         "11",
         "Australia ",
         "OCEANIA                            "
        ],
        [
         "12",
         "Austria ",
         "WESTERN EUROPE                     "
        ],
        [
         "13",
         "Azerbaijan ",
         "C.W. OF IND. STATES "
        ],
        [
         "14",
         "Bahamas, The ",
         "LATIN AMER. & CARIB    "
        ],
        [
         "15",
         "Bahrain ",
         "NEAR EAST                          "
        ],
        [
         "16",
         "Bangladesh ",
         "ASIA (EX. NEAR EAST)         "
        ],
        [
         "17",
         "Barbados ",
         "LATIN AMER. & CARIB    "
        ],
        [
         "18",
         "Belarus ",
         "C.W. OF IND. STATES "
        ],
        [
         "19",
         "Belgium ",
         "WESTERN EUROPE                     "
        ],
        [
         "20",
         "Belize ",
         "LATIN AMER. & CARIB    "
        ],
        [
         "21",
         "Benin ",
         "SUB-SAHARAN AFRICA                 "
        ],
        [
         "22",
         "Bermuda ",
         "NORTHERN AMERICA                   "
        ],
        [
         "23",
         "Bhutan ",
         "ASIA (EX. NEAR EAST)         "
        ],
        [
         "24",
         "Bolivia ",
         "LATIN AMER. & CARIB    "
        ],
        [
         "25",
         "Bosnia & Herzegovina ",
         "EASTERN EUROPE                     "
        ],
        [
         "26",
         "Botswana ",
         "SUB-SAHARAN AFRICA                 "
        ],
        [
         "27",
         "Brazil ",
         "LATIN AMER. & CARIB    "
        ],
        [
         "28",
         "British Virgin Is. ",
         "LATIN AMER. & CARIB    "
        ],
        [
         "29",
         "Brunei ",
         "ASIA (EX. NEAR EAST)         "
        ],
        [
         "30",
         "Bulgaria ",
         "EASTERN EUROPE                     "
        ],
        [
         "31",
         "Burkina Faso ",
         "SUB-SAHARAN AFRICA                 "
        ],
        [
         "32",
         "Burma ",
         "ASIA (EX. NEAR EAST)         "
        ],
        [
         "33",
         "Burundi ",
         "SUB-SAHARAN AFRICA                 "
        ],
        [
         "34",
         "Cambodia ",
         "ASIA (EX. NEAR EAST)         "
        ],
        [
         "35",
         "Cameroon ",
         "SUB-SAHARAN AFRICA                 "
        ],
        [
         "36",
         "Canada ",
         "NORTHERN AMERICA                   "
        ],
        [
         "37",
         "Cape Verde ",
         "SUB-SAHARAN AFRICA                 "
        ],
        [
         "38",
         "Cayman Islands ",
         "LATIN AMER. & CARIB    "
        ],
        [
         "39",
         "Central African Rep. ",
         "SUB-SAHARAN AFRICA                 "
        ],
        [
         "40",
         "Chad ",
         "SUB-SAHARAN AFRICA                 "
        ],
        [
         "41",
         "Chile ",
         "LATIN AMER. & CARIB    "
        ],
        [
         "42",
         "China ",
         "ASIA (EX. NEAR EAST)         "
        ],
        [
         "43",
         "Colombia ",
         "LATIN AMER. & CARIB    "
        ],
        [
         "44",
         "Comoros ",
         "SUB-SAHARAN AFRICA                 "
        ],
        [
         "45",
         "Congo, Dem. Rep. ",
         "SUB-SAHARAN AFRICA                 "
        ],
        [
         "46",
         "Congo, Repub. of the ",
         "SUB-SAHARAN AFRICA                 "
        ],
        [
         "47",
         "Cook Islands ",
         "OCEANIA                            "
        ],
        [
         "48",
         "Costa Rica ",
         "LATIN AMER. & CARIB    "
        ],
        [
         "49",
         "Cote d'Ivoire ",
         "SUB-SAHARAN AFRICA                 "
        ]
       ],
       "shape": {
        "columns": 2,
        "rows": 227
       }
      },
      "text/html": [
       "<div>\n",
       "<style scoped>\n",
       "    .dataframe tbody tr th:only-of-type {\n",
       "        vertical-align: middle;\n",
       "    }\n",
       "\n",
       "    .dataframe tbody tr th {\n",
       "        vertical-align: top;\n",
       "    }\n",
       "\n",
       "    .dataframe thead th {\n",
       "        text-align: right;\n",
       "    }\n",
       "</style>\n",
       "<table border=\"1\" class=\"dataframe\">\n",
       "  <thead>\n",
       "    <tr style=\"text-align: right;\">\n",
       "      <th></th>\n",
       "      <th>Country</th>\n",
       "      <th>Region</th>\n",
       "    </tr>\n",
       "  </thead>\n",
       "  <tbody>\n",
       "    <tr>\n",
       "      <th>0</th>\n",
       "      <td>Afghanistan</td>\n",
       "      <td>ASIA (EX. NEAR EAST)</td>\n",
       "    </tr>\n",
       "    <tr>\n",
       "      <th>1</th>\n",
       "      <td>Albania</td>\n",
       "      <td>EASTERN EUROPE</td>\n",
       "    </tr>\n",
       "    <tr>\n",
       "      <th>2</th>\n",
       "      <td>Algeria</td>\n",
       "      <td>NORTHERN AFRICA</td>\n",
       "    </tr>\n",
       "    <tr>\n",
       "      <th>3</th>\n",
       "      <td>American Samoa</td>\n",
       "      <td>OCEANIA</td>\n",
       "    </tr>\n",
       "    <tr>\n",
       "      <th>4</th>\n",
       "      <td>Andorra</td>\n",
       "      <td>WESTERN EUROPE</td>\n",
       "    </tr>\n",
       "    <tr>\n",
       "      <th>...</th>\n",
       "      <td>...</td>\n",
       "      <td>...</td>\n",
       "    </tr>\n",
       "    <tr>\n",
       "      <th>222</th>\n",
       "      <td>West Bank</td>\n",
       "      <td>NEAR EAST</td>\n",
       "    </tr>\n",
       "    <tr>\n",
       "      <th>223</th>\n",
       "      <td>Western Sahara</td>\n",
       "      <td>NORTHERN AFRICA</td>\n",
       "    </tr>\n",
       "    <tr>\n",
       "      <th>224</th>\n",
       "      <td>Yemen</td>\n",
       "      <td>NEAR EAST</td>\n",
       "    </tr>\n",
       "    <tr>\n",
       "      <th>225</th>\n",
       "      <td>Zambia</td>\n",
       "      <td>SUB-SAHARAN AFRICA</td>\n",
       "    </tr>\n",
       "    <tr>\n",
       "      <th>226</th>\n",
       "      <td>Zimbabwe</td>\n",
       "      <td>SUB-SAHARAN AFRICA</td>\n",
       "    </tr>\n",
       "  </tbody>\n",
       "</table>\n",
       "<p>227 rows × 2 columns</p>\n",
       "</div>"
      ],
      "text/plain": [
       "             Country                               Region\n",
       "0       Afghanistan         ASIA (EX. NEAR EAST)         \n",
       "1           Albania   EASTERN EUROPE                     \n",
       "2           Algeria   NORTHERN AFRICA                    \n",
       "3    American Samoa   OCEANIA                            \n",
       "4           Andorra   WESTERN EUROPE                     \n",
       "..               ...                                  ...\n",
       "222       West Bank   NEAR EAST                          \n",
       "223  Western Sahara   NORTHERN AFRICA                    \n",
       "224           Yemen   NEAR EAST                          \n",
       "225          Zambia   SUB-SAHARAN AFRICA                 \n",
       "226        Zimbabwe   SUB-SAHARAN AFRICA                 \n",
       "\n",
       "[227 rows x 2 columns]"
      ]
     },
     "execution_count": 3,
     "metadata": {},
     "output_type": "execute_result"
    }
   ],
   "source": [
    "pd.read_csv('Data/countries of the world.csv')\n"
   ]
  },
  {
   "cell_type": "code",
   "execution_count": 4,
   "id": "51029871",
   "metadata": {},
   "outputs": [
    {
     "data": {
      "application/vnd.microsoft.datawrangler.viewer.v0+json": {
       "columns": [
        {
         "name": "index",
         "rawType": "int64",
         "type": "integer"
        },
        {
         "name": "Country",
         "rawType": "object",
         "type": "string"
        },
        {
         "name": "Region",
         "rawType": "object",
         "type": "string"
        }
       ],
       "ref": "0b475937-c754-4037-b18d-c7a02df369a1",
       "rows": [
        [
         "0",
         "Afghanistan ",
         "ASIA (EX. NEAR EAST)         "
        ],
        [
         "1",
         "Albania ",
         "EASTERN EUROPE                     "
        ],
        [
         "2",
         "Algeria ",
         "NORTHERN AFRICA                    "
        ],
        [
         "3",
         "American Samoa ",
         "OCEANIA                            "
        ],
        [
         "4",
         "Andorra ",
         "WESTERN EUROPE                     "
        ],
        [
         "5",
         "Angola ",
         "SUB-SAHARAN AFRICA                 "
        ],
        [
         "6",
         "Anguilla ",
         "LATIN AMER. & CARIB    "
        ],
        [
         "7",
         "Antigua & Barbuda ",
         "LATIN AMER. & CARIB    "
        ],
        [
         "8",
         "Argentina ",
         "LATIN AMER. & CARIB    "
        ],
        [
         "9",
         "Armenia ",
         "C.W. OF IND. STATES "
        ],
        [
         "10",
         "Aruba ",
         "LATIN AMER. & CARIB    "
        ],
        [
         "11",
         "Australia ",
         "OCEANIA                            "
        ],
        [
         "12",
         "Austria ",
         "WESTERN EUROPE                     "
        ],
        [
         "13",
         "Azerbaijan ",
         "C.W. OF IND. STATES "
        ],
        [
         "14",
         "Bahamas, The ",
         "LATIN AMER. & CARIB    "
        ],
        [
         "15",
         "Bahrain ",
         "NEAR EAST                          "
        ],
        [
         "16",
         "Bangladesh ",
         "ASIA (EX. NEAR EAST)         "
        ],
        [
         "17",
         "Barbados ",
         "LATIN AMER. & CARIB    "
        ],
        [
         "18",
         "Belarus ",
         "C.W. OF IND. STATES "
        ],
        [
         "19",
         "Belgium ",
         "WESTERN EUROPE                     "
        ],
        [
         "20",
         "Belize ",
         "LATIN AMER. & CARIB    "
        ],
        [
         "21",
         "Benin ",
         "SUB-SAHARAN AFRICA                 "
        ],
        [
         "22",
         "Bermuda ",
         "NORTHERN AMERICA                   "
        ],
        [
         "23",
         "Bhutan ",
         "ASIA (EX. NEAR EAST)         "
        ],
        [
         "24",
         "Bolivia ",
         "LATIN AMER. & CARIB    "
        ],
        [
         "25",
         "Bosnia & Herzegovina ",
         "EASTERN EUROPE                     "
        ],
        [
         "26",
         "Botswana ",
         "SUB-SAHARAN AFRICA                 "
        ],
        [
         "27",
         "Brazil ",
         "LATIN AMER. & CARIB    "
        ],
        [
         "28",
         "British Virgin Is. ",
         "LATIN AMER. & CARIB    "
        ],
        [
         "29",
         "Brunei ",
         "ASIA (EX. NEAR EAST)         "
        ],
        [
         "30",
         "Bulgaria ",
         "EASTERN EUROPE                     "
        ],
        [
         "31",
         "Burkina Faso ",
         "SUB-SAHARAN AFRICA                 "
        ],
        [
         "32",
         "Burma ",
         "ASIA (EX. NEAR EAST)         "
        ],
        [
         "33",
         "Burundi ",
         "SUB-SAHARAN AFRICA                 "
        ],
        [
         "34",
         "Cambodia ",
         "ASIA (EX. NEAR EAST)         "
        ],
        [
         "35",
         "Cameroon ",
         "SUB-SAHARAN AFRICA                 "
        ],
        [
         "36",
         "Canada ",
         "NORTHERN AMERICA                   "
        ],
        [
         "37",
         "Cape Verde ",
         "SUB-SAHARAN AFRICA                 "
        ],
        [
         "38",
         "Cayman Islands ",
         "LATIN AMER. & CARIB    "
        ],
        [
         "39",
         "Central African Rep. ",
         "SUB-SAHARAN AFRICA                 "
        ],
        [
         "40",
         "Chad ",
         "SUB-SAHARAN AFRICA                 "
        ],
        [
         "41",
         "Chile ",
         "LATIN AMER. & CARIB    "
        ],
        [
         "42",
         "China ",
         "ASIA (EX. NEAR EAST)         "
        ],
        [
         "43",
         "Colombia ",
         "LATIN AMER. & CARIB    "
        ],
        [
         "44",
         "Comoros ",
         "SUB-SAHARAN AFRICA                 "
        ],
        [
         "45",
         "Congo, Dem. Rep. ",
         "SUB-SAHARAN AFRICA                 "
        ],
        [
         "46",
         "Congo, Repub. of the ",
         "SUB-SAHARAN AFRICA                 "
        ],
        [
         "47",
         "Cook Islands ",
         "OCEANIA                            "
        ],
        [
         "48",
         "Costa Rica ",
         "LATIN AMER. & CARIB    "
        ],
        [
         "49",
         "Cote d'Ivoire ",
         "SUB-SAHARAN AFRICA                 "
        ]
       ],
       "shape": {
        "columns": 2,
        "rows": 227
       }
      },
      "text/html": [
       "<div>\n",
       "<style scoped>\n",
       "    .dataframe tbody tr th:only-of-type {\n",
       "        vertical-align: middle;\n",
       "    }\n",
       "\n",
       "    .dataframe tbody tr th {\n",
       "        vertical-align: top;\n",
       "    }\n",
       "\n",
       "    .dataframe thead th {\n",
       "        text-align: right;\n",
       "    }\n",
       "</style>\n",
       "<table border=\"1\" class=\"dataframe\">\n",
       "  <thead>\n",
       "    <tr style=\"text-align: right;\">\n",
       "      <th></th>\n",
       "      <th>Country</th>\n",
       "      <th>Region</th>\n",
       "    </tr>\n",
       "  </thead>\n",
       "  <tbody>\n",
       "    <tr>\n",
       "      <th>0</th>\n",
       "      <td>Afghanistan</td>\n",
       "      <td>ASIA (EX. NEAR EAST)</td>\n",
       "    </tr>\n",
       "    <tr>\n",
       "      <th>1</th>\n",
       "      <td>Albania</td>\n",
       "      <td>EASTERN EUROPE</td>\n",
       "    </tr>\n",
       "    <tr>\n",
       "      <th>2</th>\n",
       "      <td>Algeria</td>\n",
       "      <td>NORTHERN AFRICA</td>\n",
       "    </tr>\n",
       "    <tr>\n",
       "      <th>3</th>\n",
       "      <td>American Samoa</td>\n",
       "      <td>OCEANIA</td>\n",
       "    </tr>\n",
       "    <tr>\n",
       "      <th>4</th>\n",
       "      <td>Andorra</td>\n",
       "      <td>WESTERN EUROPE</td>\n",
       "    </tr>\n",
       "    <tr>\n",
       "      <th>...</th>\n",
       "      <td>...</td>\n",
       "      <td>...</td>\n",
       "    </tr>\n",
       "    <tr>\n",
       "      <th>222</th>\n",
       "      <td>West Bank</td>\n",
       "      <td>NEAR EAST</td>\n",
       "    </tr>\n",
       "    <tr>\n",
       "      <th>223</th>\n",
       "      <td>Western Sahara</td>\n",
       "      <td>NORTHERN AFRICA</td>\n",
       "    </tr>\n",
       "    <tr>\n",
       "      <th>224</th>\n",
       "      <td>Yemen</td>\n",
       "      <td>NEAR EAST</td>\n",
       "    </tr>\n",
       "    <tr>\n",
       "      <th>225</th>\n",
       "      <td>Zambia</td>\n",
       "      <td>SUB-SAHARAN AFRICA</td>\n",
       "    </tr>\n",
       "    <tr>\n",
       "      <th>226</th>\n",
       "      <td>Zimbabwe</td>\n",
       "      <td>SUB-SAHARAN AFRICA</td>\n",
       "    </tr>\n",
       "  </tbody>\n",
       "</table>\n",
       "<p>227 rows × 2 columns</p>\n",
       "</div>"
      ],
      "text/plain": [
       "             Country                               Region\n",
       "0       Afghanistan         ASIA (EX. NEAR EAST)         \n",
       "1           Albania   EASTERN EUROPE                     \n",
       "2           Algeria   NORTHERN AFRICA                    \n",
       "3    American Samoa   OCEANIA                            \n",
       "4           Andorra   WESTERN EUROPE                     \n",
       "..               ...                                  ...\n",
       "222       West Bank   NEAR EAST                          \n",
       "223  Western Sahara   NORTHERN AFRICA                    \n",
       "224           Yemen   NEAR EAST                          \n",
       "225          Zambia   SUB-SAHARAN AFRICA                 \n",
       "226        Zimbabwe   SUB-SAHARAN AFRICA                 \n",
       "\n",
       "[227 rows x 2 columns]"
      ]
     },
     "execution_count": 4,
     "metadata": {},
     "output_type": "execute_result"
    }
   ],
   "source": [
    "pd.read_table('Data/countries of the world.txt')\n"
   ]
  },
  {
   "cell_type": "code",
   "execution_count": 5,
   "id": "d4eb232f",
   "metadata": {},
   "outputs": [
    {
     "data": {
      "application/vnd.microsoft.datawrangler.viewer.v0+json": {
       "columns": [
        {
         "name": "index",
         "rawType": "int64",
         "type": "integer"
        },
        {
         "name": "12 Strong",
         "rawType": "object",
         "type": "unknown"
        },
        {
         "name": "A Fantastic Woman (Una Mujer Fantástica)",
         "rawType": "object",
         "type": "unknown"
        },
        {
         "name": "All The Money In The World",
         "rawType": "object",
         "type": "unknown"
        },
        {
         "name": "Bilal: A New Breed Of Hero",
         "rawType": "object",
         "type": "unknown"
        },
        {
         "name": "Call Me By Your Name",
         "rawType": "object",
         "type": "unknown"
        },
        {
         "name": "Darkest Hour",
         "rawType": "object",
         "type": "unknown"
        },
        {
         "name": "Den Of Thieves",
         "rawType": "object",
         "type": "unknown"
        },
        {
         "name": "Ferdinand",
         "rawType": "object",
         "type": "unknown"
        },
        {
         "name": "Fifty Shades Freed",
         "rawType": "object",
         "type": "unknown"
        },
        {
         "name": "Film Stars Don'T Die In Liverpool",
         "rawType": "object",
         "type": "unknown"
        },
        {
         "name": "Forever My Girl",
         "rawType": "object",
         "type": "unknown"
        },
        {
         "name": "Golden Exits",
         "rawType": "object",
         "type": "unknown"
        },
        {
         "name": "Hostiles",
         "rawType": "object",
         "type": "unknown"
        },
        {
         "name": "I, Tonya",
         "rawType": "object",
         "type": "unknown"
        },
        {
         "name": "Insidious: The Last Key",
         "rawType": "object",
         "type": "unknown"
        },
        {
         "name": "Jumanji: Welcome To The Jungle",
         "rawType": "object",
         "type": "unknown"
        },
        {
         "name": "Mary And The Witch'S Flower",
         "rawType": "object",
         "type": "unknown"
        },
        {
         "name": "Maze Runner: The Death Cure",
         "rawType": "object",
         "type": "unknown"
        },
        {
         "name": "Molly'S Game",
         "rawType": "object",
         "type": "unknown"
        },
        {
         "name": "Paddington 2",
         "rawType": "object",
         "type": "unknown"
        },
        {
         "name": "Padmaavat",
         "rawType": "object",
         "type": "unknown"
        },
        {
         "name": "Permission",
         "rawType": "object",
         "type": "unknown"
        },
        {
         "name": "Peter Rabbit",
         "rawType": "object",
         "type": "unknown"
        },
        {
         "name": "Phantom Thread",
         "rawType": "object",
         "type": "unknown"
        },
        {
         "name": "Pitch Perfect 3",
         "rawType": "object",
         "type": "unknown"
        },
        {
         "name": "Proud Mary",
         "rawType": "object",
         "type": "unknown"
        },
        {
         "name": "Sanpo Suru Shinryakusha",
         "rawType": "object",
         "type": "unknown"
        },
        {
         "name": "Star Wars: The Last Jedi",
         "rawType": "object",
         "type": "unknown"
        },
        {
         "name": "The 15:17 To Paris",
         "rawType": "object",
         "type": "unknown"
        },
        {
         "name": "The Commuter",
         "rawType": "object",
         "type": "unknown"
        },
        {
         "name": "The Disaster Artist",
         "rawType": "object",
         "type": "unknown"
        },
        {
         "name": "The Greatest Showman",
         "rawType": "object",
         "type": "unknown"
        },
        {
         "name": "The Insult (L'Insulte)",
         "rawType": "object",
         "type": "unknown"
        },
        {
         "name": "The Post",
         "rawType": "object",
         "type": "unknown"
        },
        {
         "name": "The Shape Of Water",
         "rawType": "object",
         "type": "unknown"
        },
        {
         "name": "Three Billboards Outside Ebbing, Missouri",
         "rawType": "object",
         "type": "unknown"
        },
        {
         "name": "Till The End Of The World",
         "rawType": "object",
         "type": "unknown"
        },
        {
         "name": "Winchester",
         "rawType": "object",
         "type": "unknown"
        }
       ],
       "ref": "980b47dc-8594-480f-8683-7043653aab3c",
       "rows": [
        [
         "0",
         "{'Genre': 'Action', 'Gross': '$453,173', 'IMDB Metascore': '54', 'Popcorn Score': 72, 'Rating': 'R', 'Tomato Score': 54}",
         "{'popcornscore': 83, 'rating': 'R', 'tomatoscore': 90}",
         "{'popcornscore': 71, 'rating': 'R', 'tomatoscore': 77}",
         "{'popcornscore': 91, 'rating': 'PG13', 'tomatoscore': 57}",
         "{'popcornscore': 87, 'rating': 'R', 'tomatoscore': 96}",
         "{'popcornscore': 84, 'rating': 'PG13', 'tomatoscore': 86}",
         "{'Genre': 'Action', 'Gross': '$491,898', 'IMDB Metascore': '49', 'Popcorn Score': 69, 'Rating': 'R', 'Tomato Score': 40}",
         "{'popcornscore': 49, 'rating': 'PG', 'tomatoscore': 71}",
         "{'Genre': 'Drama', 'Gross': 'unknown', 'IMDB Metascore': '34', 'Popcorn Score': 'unknown', 'Rating': 'unrated', 'Tomato Score': 'unkown'}",
         "{'popcornscore': 69, 'rating': 'R', 'tomatoscore': 78}",
         "{'popcornscore': 91, 'rating': 'PG', 'tomatoscore': 21}",
         "{'Genre': 'Drama', 'Gross': 'unknown', 'IMDB Metascore': '72', 'Popcorn Score': 'unknown', 'Rating': 'unrated', 'Tomato Score': 'unkown'}",
         "{'Genre': 'Adventure', 'Gross': '$548,886', 'IMDB Metascore': '65', 'Popcorn Score': 71, 'Rating': 'R', 'Tomato Score': 72}",
         "{'popcornscore': 89, 'rating': 'R', 'tomatoscore': 90}",
         "{'popcornscore': 51, 'rating': 'PG13', 'tomatoscore': 32}",
         "{'Genre': 'Action', 'Gross': '$760,867', 'IMDB Metascore': '58', 'Popcorn Score': 89, 'Rating': 'PG13', 'Tomato Score': 76}",
         "{'popcornscore': 78, 'rating': 'PG', 'tomatoscore': 84}",
         "{'Genre': 'Action', 'Gross': '$720,463', 'IMDB Metascore': '51', 'Popcorn Score': 71, 'Rating': 'PG13', 'Tomato Score': 43}",
         "{'popcornscore': 85, 'rating': 'R', 'tomatoscore': 82}",
         "{'Genre': 'Animation', 'Gross': '$184,414', 'IMDB Metascore': '88', 'Popcorn Score': 89, 'Rating': 'PG', 'Tomato Score': 100}",
         "{'popcornscore': 62, 'rating': 'NR', 'tomatoscore': 74}",
         "{'Genre': 'Comedy', 'Gross': 'unknown', 'IMDB Metascore': '53', 'Popcorn Score': 'unknown', 'Rating': 'unrated', 'Tomato Score': 'unkown'}",
         "{'Genre': 'Animation', 'Gross': 'unknown', 'IMDB Metascore': '56', 'Popcorn Score': 'unknown', 'Rating': 'unrated', 'Tomato Score': 'unkown'}",
         "{'popcornscore': 68, 'rating': 'R', 'tomatoscore': 91}",
         "{'popcornscore': 52, 'rating': 'PG13', 'tomatoscore': 31}",
         "{'popcornscore': 56, 'rating': 'R', 'tomatoscore': 26}",
         "{'Genre': 'Drama', 'Gross': 'unknown', 'IMDB Metascore': '65', 'Popcorn Score': 'unknown', 'Rating': 'unrated', 'Tomato Score': 'unkown'}",
         "{'popcornscore': 48, 'rating': 'PG13', 'tomatoscore': 91}",
         "{'Genre': 'Drama', 'Gross': 'unknown', 'IMDB Metascore': '52', 'Popcorn Score': 'unknown', 'Rating': 'unrated', 'Tomato Score': 'unkown'}",
         "{'popcornscore': 48, 'rating': 'PG13', 'tomatoscore': 58}",
         "{'popcornscore': 89, 'rating': 'R', 'tomatoscore': 91}",
         "{'Genre': 'Biography', 'Gross': '$627,248', 'IMDB Metascore': '48', 'Popcorn Score': 90, 'Rating': 'PG', 'Tomato Score': 55}",
         "{'popcornscore': 86, 'rating': 'R', 'tomatoscore': 89}",
         "{'Genre': 'Biography', 'Gross': '$463,228', 'IMDB Metascore': '83', 'Popcorn Score': 73, 'Rating': 'PG13', 'Tomato Score': 88}",
         "{'Genre': 'Adventure', 'Gross': '$448,287', 'IMDB Metascore': '86', 'Popcorn Score': 78, 'Rating': 'R', 'Tomato Score': 92}",
         "{'popcornscore': 87, 'rating': 'R', 'tomatoscore': 93}",
         "{'popcornscore': -1, 'rating': 'NR', 'tomatoscore': None}",
         "{'Genre': 'Biography', 'Gross': '$696,786', 'IMDB Metascore': '28', 'Popcorn Score': 40, 'Rating': 'PG13', 'Tomato Score': 12}"
        ]
       ],
       "shape": {
        "columns": 38,
        "rows": 1
       }
      },
      "text/html": [
       "<div>\n",
       "<style scoped>\n",
       "    .dataframe tbody tr th:only-of-type {\n",
       "        vertical-align: middle;\n",
       "    }\n",
       "\n",
       "    .dataframe tbody tr th {\n",
       "        vertical-align: top;\n",
       "    }\n",
       "\n",
       "    .dataframe thead th {\n",
       "        text-align: right;\n",
       "    }\n",
       "</style>\n",
       "<table border=\"1\" class=\"dataframe\">\n",
       "  <thead>\n",
       "    <tr style=\"text-align: right;\">\n",
       "      <th></th>\n",
       "      <th>12 Strong</th>\n",
       "      <th>A Fantastic Woman (Una Mujer Fantástica)</th>\n",
       "      <th>All The Money In The World</th>\n",
       "      <th>Bilal: A New Breed Of Hero</th>\n",
       "      <th>Call Me By Your Name</th>\n",
       "      <th>Darkest Hour</th>\n",
       "      <th>Den Of Thieves</th>\n",
       "      <th>Ferdinand</th>\n",
       "      <th>Fifty Shades Freed</th>\n",
       "      <th>Film Stars Don'T Die In Liverpool</th>\n",
       "      <th>Forever My Girl</th>\n",
       "      <th>Golden Exits</th>\n",
       "      <th>Hostiles</th>\n",
       "      <th>I, Tonya</th>\n",
       "      <th>Insidious: The Last Key</th>\n",
       "      <th>Jumanji: Welcome To The Jungle</th>\n",
       "      <th>Mary And The Witch'S Flower</th>\n",
       "      <th>Maze Runner: The Death Cure</th>\n",
       "      <th>Molly'S Game</th>\n",
       "      <th>Paddington 2</th>\n",
       "      <th>Padmaavat</th>\n",
       "      <th>Permission</th>\n",
       "      <th>Peter Rabbit</th>\n",
       "      <th>Phantom Thread</th>\n",
       "      <th>Pitch Perfect 3</th>\n",
       "      <th>Proud Mary</th>\n",
       "      <th>Sanpo Suru Shinryakusha</th>\n",
       "      <th>Star Wars: The Last Jedi</th>\n",
       "      <th>The 15:17 To Paris</th>\n",
       "      <th>The Commuter</th>\n",
       "      <th>The Disaster Artist</th>\n",
       "      <th>The Greatest Showman</th>\n",
       "      <th>The Insult (L'Insulte)</th>\n",
       "      <th>The Post</th>\n",
       "      <th>The Shape Of Water</th>\n",
       "      <th>Three Billboards Outside Ebbing, Missouri</th>\n",
       "      <th>Till The End Of The World</th>\n",
       "      <th>Winchester</th>\n",
       "    </tr>\n",
       "  </thead>\n",
       "  <tbody>\n",
       "    <tr>\n",
       "      <th>0</th>\n",
       "      <td>{'Genre': 'Action', 'Gross': '$453,173', 'IMDB...</td>\n",
       "      <td>{'popcornscore': 83, 'rating': 'R', 'tomatosco...</td>\n",
       "      <td>{'popcornscore': 71, 'rating': 'R', 'tomatosco...</td>\n",
       "      <td>{'popcornscore': 91, 'rating': 'PG13', 'tomato...</td>\n",
       "      <td>{'popcornscore': 87, 'rating': 'R', 'tomatosco...</td>\n",
       "      <td>{'popcornscore': 84, 'rating': 'PG13', 'tomato...</td>\n",
       "      <td>{'Genre': 'Action', 'Gross': '$491,898', 'IMDB...</td>\n",
       "      <td>{'popcornscore': 49, 'rating': 'PG', 'tomatosc...</td>\n",
       "      <td>{'Genre': 'Drama', 'Gross': 'unknown', 'IMDB M...</td>\n",
       "      <td>{'popcornscore': 69, 'rating': 'R', 'tomatosco...</td>\n",
       "      <td>{'popcornscore': 91, 'rating': 'PG', 'tomatosc...</td>\n",
       "      <td>{'Genre': 'Drama', 'Gross': 'unknown', 'IMDB M...</td>\n",
       "      <td>{'Genre': 'Adventure', 'Gross': '$548,886', 'I...</td>\n",
       "      <td>{'popcornscore': 89, 'rating': 'R', 'tomatosco...</td>\n",
       "      <td>{'popcornscore': 51, 'rating': 'PG13', 'tomato...</td>\n",
       "      <td>{'Genre': 'Action', 'Gross': '$760,867', 'IMDB...</td>\n",
       "      <td>{'popcornscore': 78, 'rating': 'PG', 'tomatosc...</td>\n",
       "      <td>{'Genre': 'Action', 'Gross': '$720,463', 'IMDB...</td>\n",
       "      <td>{'popcornscore': 85, 'rating': 'R', 'tomatosco...</td>\n",
       "      <td>{'Genre': 'Animation', 'Gross': '$184,414', 'I...</td>\n",
       "      <td>{'popcornscore': 62, 'rating': 'NR', 'tomatosc...</td>\n",
       "      <td>{'Genre': 'Comedy', 'Gross': 'unknown', 'IMDB ...</td>\n",
       "      <td>{'Genre': 'Animation', 'Gross': 'unknown', 'IM...</td>\n",
       "      <td>{'popcornscore': 68, 'rating': 'R', 'tomatosco...</td>\n",
       "      <td>{'popcornscore': 52, 'rating': 'PG13', 'tomato...</td>\n",
       "      <td>{'popcornscore': 56, 'rating': 'R', 'tomatosco...</td>\n",
       "      <td>{'Genre': 'Drama', 'Gross': 'unknown', 'IMDB M...</td>\n",
       "      <td>{'popcornscore': 48, 'rating': 'PG13', 'tomato...</td>\n",
       "      <td>{'Genre': 'Drama', 'Gross': 'unknown', 'IMDB M...</td>\n",
       "      <td>{'popcornscore': 48, 'rating': 'PG13', 'tomato...</td>\n",
       "      <td>{'popcornscore': 89, 'rating': 'R', 'tomatosco...</td>\n",
       "      <td>{'Genre': 'Biography', 'Gross': '$627,248', 'I...</td>\n",
       "      <td>{'popcornscore': 86, 'rating': 'R', 'tomatosco...</td>\n",
       "      <td>{'Genre': 'Biography', 'Gross': '$463,228', 'I...</td>\n",
       "      <td>{'Genre': 'Adventure', 'Gross': '$448,287', 'I...</td>\n",
       "      <td>{'popcornscore': 87, 'rating': 'R', 'tomatosco...</td>\n",
       "      <td>{'popcornscore': -1, 'rating': 'NR', 'tomatosc...</td>\n",
       "      <td>{'Genre': 'Biography', 'Gross': '$696,786', 'I...</td>\n",
       "    </tr>\n",
       "  </tbody>\n",
       "</table>\n",
       "</div>"
      ],
      "text/plain": [
       "                                           12 Strong  \\\n",
       "0  {'Genre': 'Action', 'Gross': '$453,173', 'IMDB...   \n",
       "\n",
       "            A Fantastic Woman (Una Mujer Fantástica)  \\\n",
       "0  {'popcornscore': 83, 'rating': 'R', 'tomatosco...   \n",
       "\n",
       "                          All The Money In The World  \\\n",
       "0  {'popcornscore': 71, 'rating': 'R', 'tomatosco...   \n",
       "\n",
       "                          Bilal: A New Breed Of Hero  \\\n",
       "0  {'popcornscore': 91, 'rating': 'PG13', 'tomato...   \n",
       "\n",
       "                                Call Me By Your Name  \\\n",
       "0  {'popcornscore': 87, 'rating': 'R', 'tomatosco...   \n",
       "\n",
       "                                        Darkest Hour  \\\n",
       "0  {'popcornscore': 84, 'rating': 'PG13', 'tomato...   \n",
       "\n",
       "                                      Den Of Thieves  \\\n",
       "0  {'Genre': 'Action', 'Gross': '$491,898', 'IMDB...   \n",
       "\n",
       "                                           Ferdinand  \\\n",
       "0  {'popcornscore': 49, 'rating': 'PG', 'tomatosc...   \n",
       "\n",
       "                                  Fifty Shades Freed  \\\n",
       "0  {'Genre': 'Drama', 'Gross': 'unknown', 'IMDB M...   \n",
       "\n",
       "                   Film Stars Don'T Die In Liverpool  \\\n",
       "0  {'popcornscore': 69, 'rating': 'R', 'tomatosco...   \n",
       "\n",
       "                                     Forever My Girl  \\\n",
       "0  {'popcornscore': 91, 'rating': 'PG', 'tomatosc...   \n",
       "\n",
       "                                        Golden Exits  \\\n",
       "0  {'Genre': 'Drama', 'Gross': 'unknown', 'IMDB M...   \n",
       "\n",
       "                                            Hostiles  \\\n",
       "0  {'Genre': 'Adventure', 'Gross': '$548,886', 'I...   \n",
       "\n",
       "                                            I, Tonya  \\\n",
       "0  {'popcornscore': 89, 'rating': 'R', 'tomatosco...   \n",
       "\n",
       "                             Insidious: The Last Key  \\\n",
       "0  {'popcornscore': 51, 'rating': 'PG13', 'tomato...   \n",
       "\n",
       "                      Jumanji: Welcome To The Jungle  \\\n",
       "0  {'Genre': 'Action', 'Gross': '$760,867', 'IMDB...   \n",
       "\n",
       "                         Mary And The Witch'S Flower  \\\n",
       "0  {'popcornscore': 78, 'rating': 'PG', 'tomatosc...   \n",
       "\n",
       "                         Maze Runner: The Death Cure  \\\n",
       "0  {'Genre': 'Action', 'Gross': '$720,463', 'IMDB...   \n",
       "\n",
       "                                        Molly'S Game  \\\n",
       "0  {'popcornscore': 85, 'rating': 'R', 'tomatosco...   \n",
       "\n",
       "                                        Paddington 2  \\\n",
       "0  {'Genre': 'Animation', 'Gross': '$184,414', 'I...   \n",
       "\n",
       "                                           Padmaavat  \\\n",
       "0  {'popcornscore': 62, 'rating': 'NR', 'tomatosc...   \n",
       "\n",
       "                                          Permission  \\\n",
       "0  {'Genre': 'Comedy', 'Gross': 'unknown', 'IMDB ...   \n",
       "\n",
       "                                        Peter Rabbit  \\\n",
       "0  {'Genre': 'Animation', 'Gross': 'unknown', 'IM...   \n",
       "\n",
       "                                      Phantom Thread  \\\n",
       "0  {'popcornscore': 68, 'rating': 'R', 'tomatosco...   \n",
       "\n",
       "                                     Pitch Perfect 3  \\\n",
       "0  {'popcornscore': 52, 'rating': 'PG13', 'tomato...   \n",
       "\n",
       "                                          Proud Mary  \\\n",
       "0  {'popcornscore': 56, 'rating': 'R', 'tomatosco...   \n",
       "\n",
       "                             Sanpo Suru Shinryakusha  \\\n",
       "0  {'Genre': 'Drama', 'Gross': 'unknown', 'IMDB M...   \n",
       "\n",
       "                            Star Wars: The Last Jedi  \\\n",
       "0  {'popcornscore': 48, 'rating': 'PG13', 'tomato...   \n",
       "\n",
       "                                  The 15:17 To Paris  \\\n",
       "0  {'Genre': 'Drama', 'Gross': 'unknown', 'IMDB M...   \n",
       "\n",
       "                                        The Commuter  \\\n",
       "0  {'popcornscore': 48, 'rating': 'PG13', 'tomato...   \n",
       "\n",
       "                                 The Disaster Artist  \\\n",
       "0  {'popcornscore': 89, 'rating': 'R', 'tomatosco...   \n",
       "\n",
       "                                The Greatest Showman  \\\n",
       "0  {'Genre': 'Biography', 'Gross': '$627,248', 'I...   \n",
       "\n",
       "                              The Insult (L'Insulte)  \\\n",
       "0  {'popcornscore': 86, 'rating': 'R', 'tomatosco...   \n",
       "\n",
       "                                            The Post  \\\n",
       "0  {'Genre': 'Biography', 'Gross': '$463,228', 'I...   \n",
       "\n",
       "                                  The Shape Of Water  \\\n",
       "0  {'Genre': 'Adventure', 'Gross': '$448,287', 'I...   \n",
       "\n",
       "           Three Billboards Outside Ebbing, Missouri  \\\n",
       "0  {'popcornscore': 87, 'rating': 'R', 'tomatosco...   \n",
       "\n",
       "                           Till The End Of The World  \\\n",
       "0  {'popcornscore': -1, 'rating': 'NR', 'tomatosc...   \n",
       "\n",
       "                                          Winchester  \n",
       "0  {'Genre': 'Biography', 'Gross': '$696,786', 'I...  "
      ]
     },
     "execution_count": 5,
     "metadata": {},
     "output_type": "execute_result"
    }
   ],
   "source": [
    "json_pd = pd.read_json('Data/json_sample.json')\n",
    "json_pd"
   ]
  },
  {
   "cell_type": "code",
   "execution_count": 6,
   "id": "3d85ffde",
   "metadata": {},
   "outputs": [
    {
     "data": {
      "application/vnd.microsoft.datawrangler.viewer.v0+json": {
       "columns": [
        {
         "name": "index",
         "rawType": "int64",
         "type": "integer"
        },
        {
         "name": "Rank",
         "rawType": "int64",
         "type": "integer"
        },
        {
         "name": "CCA3",
         "rawType": "object",
         "type": "string"
        },
        {
         "name": "Country",
         "rawType": "object",
         "type": "string"
        },
        {
         "name": "Capital",
         "rawType": "object",
         "type": "string"
        }
       ],
       "ref": "501a229a-706b-44ff-847c-cd3bd0f96f44",
       "rows": [
        [
         "0",
         "36",
         "AFG",
         "Afghanistan",
         "Kabul"
        ],
        [
         "1",
         "138",
         "ALB",
         "Albania",
         "Tirana"
        ],
        [
         "2",
         "34",
         "DZA",
         "Algeria",
         "Algiers"
        ],
        [
         "3",
         "213",
         "ASM",
         "American Samoa",
         "Pago Pago"
        ],
        [
         "4",
         "203",
         "AND",
         "Andorra",
         "Andorra la Vella"
        ],
        [
         "5",
         "42",
         "AGO",
         "Angola",
         "Luanda"
        ],
        [
         "6",
         "224",
         "AIA",
         "Anguilla",
         "The Valley"
        ],
        [
         "7",
         "201",
         "ATG",
         "Antigua and Barbuda",
         "Saint Johnâ€™s"
        ],
        [
         "8",
         "33",
         "ARG",
         "Argentina",
         "Buenos Aires"
        ],
        [
         "9",
         "140",
         "ARM",
         "Armenia",
         "Yerevan"
        ],
        [
         "10",
         "198",
         "ABW",
         "Aruba",
         "Oranjestad"
        ],
        [
         "11",
         "55",
         "AUS",
         "Australia",
         "Canberra"
        ],
        [
         "12",
         "99",
         "AUT",
         "Austria",
         "Vienna"
        ],
        [
         "13",
         "91",
         "AZE",
         "Azerbaijan",
         "Baku"
        ],
        [
         "14",
         "176",
         "BHS",
         "Bahamas",
         "Nassau"
        ],
        [
         "15",
         "154",
         "BHR",
         "Bahrain",
         "Manama"
        ],
        [
         "16",
         "8",
         "BGD",
         "Bangladesh",
         "Dhaka"
        ],
        [
         "17",
         "186",
         "BRB",
         "Barbados",
         "Bridgetown"
        ],
        [
         "18",
         "96",
         "BLR",
         "Belarus",
         "Minsk"
        ],
        [
         "19",
         "81",
         "BEL",
         "Belgium",
         "Brussels"
        ],
        [
         "20",
         "177",
         "BLZ",
         "Belize",
         "Belmopan"
        ],
        [
         "21",
         "77",
         "BEN",
         "Benin",
         "Porto-Novo"
        ],
        [
         "22",
         "206",
         "BMU",
         "Bermuda",
         "Hamilton"
        ],
        [
         "23",
         "165",
         "BTN",
         "Bhutan",
         "Thimphu"
        ],
        [
         "24",
         "80",
         "BOL",
         "Bolivia",
         "Sucre"
        ],
        [
         "25",
         "137",
         "BIH",
         "Bosnia and Herzegovina",
         "Sarajevo"
        ],
        [
         "26",
         "144",
         "BWA",
         "Botswana",
         "Gaborone"
        ],
        [
         "27",
         "7",
         "BRA",
         "Brazil",
         "Brasilia"
        ],
        [
         "28",
         "221",
         "VGB",
         "British Virgin Islands",
         "Road Town"
        ],
        [
         "29",
         "175",
         "BRN",
         "Brunei",
         "Bandar Seri Begawan"
        ],
        [
         "30",
         "108",
         "BGR",
         "Bulgaria",
         "Sofia"
        ],
        [
         "31",
         "58",
         "BFA",
         "Burkina Faso",
         "Ouagadougou"
        ],
        [
         "32",
         "78",
         "BDI",
         "Burundi",
         "Bujumbura"
        ],
        [
         "33",
         "73",
         "KHM",
         "Cambodia",
         "Phnom Penh"
        ],
        [
         "34",
         "53",
         "CMR",
         "Cameroon",
         "Yaounde"
        ],
        [
         "35",
         "39",
         "CAN",
         "Canada",
         "Ottawa"
        ],
        [
         "36",
         "171",
         "CPV",
         "Cape Verde",
         "Praia"
        ],
        [
         "37",
         "205",
         "CYM",
         "Cayman Islands",
         "George Town"
        ],
        [
         "38",
         "117",
         "CAF",
         "Central African Republic",
         "Bangui"
        ],
        [
         "39",
         "69",
         "TCD",
         "Chad",
         "N'Djamena"
        ],
        [
         "40",
         "65",
         "CHL",
         "Chile",
         "Santiago"
        ],
        [
         "41",
         "1",
         "CHN",
         "China",
         "Beijing"
        ],
        [
         "42",
         "28",
         "COL",
         "Colombia",
         "Bogota"
        ],
        [
         "43",
         "163",
         "COM",
         "Comoros",
         "Moroni"
        ],
        [
         "44",
         "223",
         "COK",
         "Cook Islands",
         "Avarua"
        ],
        [
         "45",
         "124",
         "CRI",
         "Costa Rica",
         "San JosÃ©"
        ],
        [
         "46",
         "130",
         "HRV",
         "Croatia",
         "Zagreb"
        ],
        [
         "47",
         "85",
         "CUB",
         "Cuba",
         "Havana"
        ],
        [
         "48",
         "189",
         "CUW",
         "Curacao",
         "Willemstad"
        ],
        [
         "49",
         "158",
         "CYP",
         "Cyprus",
         "Nicosia"
        ]
       ],
       "shape": {
        "columns": 4,
        "rows": 234
       }
      },
      "text/html": [
       "<div>\n",
       "<style scoped>\n",
       "    .dataframe tbody tr th:only-of-type {\n",
       "        vertical-align: middle;\n",
       "    }\n",
       "\n",
       "    .dataframe tbody tr th {\n",
       "        vertical-align: top;\n",
       "    }\n",
       "\n",
       "    .dataframe thead th {\n",
       "        text-align: right;\n",
       "    }\n",
       "</style>\n",
       "<table border=\"1\" class=\"dataframe\">\n",
       "  <thead>\n",
       "    <tr style=\"text-align: right;\">\n",
       "      <th></th>\n",
       "      <th>Rank</th>\n",
       "      <th>CCA3</th>\n",
       "      <th>Country</th>\n",
       "      <th>Capital</th>\n",
       "    </tr>\n",
       "  </thead>\n",
       "  <tbody>\n",
       "    <tr>\n",
       "      <th>0</th>\n",
       "      <td>36</td>\n",
       "      <td>AFG</td>\n",
       "      <td>Afghanistan</td>\n",
       "      <td>Kabul</td>\n",
       "    </tr>\n",
       "    <tr>\n",
       "      <th>1</th>\n",
       "      <td>138</td>\n",
       "      <td>ALB</td>\n",
       "      <td>Albania</td>\n",
       "      <td>Tirana</td>\n",
       "    </tr>\n",
       "    <tr>\n",
       "      <th>2</th>\n",
       "      <td>34</td>\n",
       "      <td>DZA</td>\n",
       "      <td>Algeria</td>\n",
       "      <td>Algiers</td>\n",
       "    </tr>\n",
       "    <tr>\n",
       "      <th>3</th>\n",
       "      <td>213</td>\n",
       "      <td>ASM</td>\n",
       "      <td>American Samoa</td>\n",
       "      <td>Pago Pago</td>\n",
       "    </tr>\n",
       "    <tr>\n",
       "      <th>4</th>\n",
       "      <td>203</td>\n",
       "      <td>AND</td>\n",
       "      <td>Andorra</td>\n",
       "      <td>Andorra la Vella</td>\n",
       "    </tr>\n",
       "    <tr>\n",
       "      <th>...</th>\n",
       "      <td>...</td>\n",
       "      <td>...</td>\n",
       "      <td>...</td>\n",
       "      <td>...</td>\n",
       "    </tr>\n",
       "    <tr>\n",
       "      <th>229</th>\n",
       "      <td>226</td>\n",
       "      <td>WLF</td>\n",
       "      <td>Wallis and Futuna</td>\n",
       "      <td>Mata-Utu</td>\n",
       "    </tr>\n",
       "    <tr>\n",
       "      <th>230</th>\n",
       "      <td>172</td>\n",
       "      <td>ESH</td>\n",
       "      <td>Western Sahara</td>\n",
       "      <td>El AaiÃºn</td>\n",
       "    </tr>\n",
       "    <tr>\n",
       "      <th>231</th>\n",
       "      <td>46</td>\n",
       "      <td>YEM</td>\n",
       "      <td>Yemen</td>\n",
       "      <td>Sanaa</td>\n",
       "    </tr>\n",
       "    <tr>\n",
       "      <th>232</th>\n",
       "      <td>63</td>\n",
       "      <td>ZMB</td>\n",
       "      <td>Zambia</td>\n",
       "      <td>Lusaka</td>\n",
       "    </tr>\n",
       "    <tr>\n",
       "      <th>233</th>\n",
       "      <td>74</td>\n",
       "      <td>ZWE</td>\n",
       "      <td>Zimbabwe</td>\n",
       "      <td>Harare</td>\n",
       "    </tr>\n",
       "  </tbody>\n",
       "</table>\n",
       "<p>234 rows × 4 columns</p>\n",
       "</div>"
      ],
      "text/plain": [
       "     Rank CCA3            Country           Capital\n",
       "0      36  AFG        Afghanistan             Kabul\n",
       "1     138  ALB            Albania            Tirana\n",
       "2      34  DZA            Algeria           Algiers\n",
       "3     213  ASM     American Samoa         Pago Pago\n",
       "4     203  AND            Andorra  Andorra la Vella\n",
       "..    ...  ...                ...               ...\n",
       "229   226  WLF  Wallis and Futuna          Mata-Utu\n",
       "230   172  ESH     Western Sahara         El AaiÃºn\n",
       "231    46  YEM              Yemen             Sanaa\n",
       "232    63  ZMB             Zambia            Lusaka\n",
       "233    74  ZWE           Zimbabwe            Harare\n",
       "\n",
       "[234 rows x 4 columns]"
      ]
     },
     "execution_count": 6,
     "metadata": {},
     "output_type": "execute_result"
    }
   ],
   "source": [
    "excel_pd = pd.read_excel('Data/world_population_excel_workbook.xlsx', sheet_name='Sheet1')\n",
    "excel_pd"
   ]
  },
  {
   "cell_type": "code",
   "execution_count": 7,
   "id": "79a5705a",
   "metadata": {},
   "outputs": [
    {
     "name": "stdout",
     "output_type": "stream",
     "text": [
      "<class 'pandas.core.frame.DataFrame'>\n",
      "RangeIndex: 234 entries, 0 to 233\n",
      "Data columns (total 4 columns):\n",
      " #   Column   Non-Null Count  Dtype \n",
      "---  ------   --------------  ----- \n",
      " 0   Rank     234 non-null    int64 \n",
      " 1   CCA3     234 non-null    object\n",
      " 2   Country  234 non-null    object\n",
      " 3   Capital  234 non-null    object\n",
      "dtypes: int64(1), object(3)\n",
      "memory usage: 7.4+ KB\n"
     ]
    }
   ],
   "source": [
    "excel_pd.info()"
   ]
  },
  {
   "cell_type": "code",
   "execution_count": 8,
   "id": "19c6f06b",
   "metadata": {},
   "outputs": [
    {
     "data": {
      "application/vnd.microsoft.datawrangler.viewer.v0+json": {
       "columns": [
        {
         "name": "index",
         "rawType": "object",
         "type": "string"
        },
        {
         "name": "Rank",
         "rawType": "float64",
         "type": "float"
        }
       ],
       "ref": "04e889a8-16f8-410d-ba2b-7cb7165aad70",
       "rows": [
        [
         "count",
         "234.0"
        ],
        [
         "mean",
         "117.5"
        ],
        [
         "std",
         "67.6941651843052"
        ],
        [
         "min",
         "1.0"
        ],
        [
         "25%",
         "59.25"
        ],
        [
         "50%",
         "117.5"
        ],
        [
         "75%",
         "175.75"
        ],
        [
         "max",
         "234.0"
        ]
       ],
       "shape": {
        "columns": 1,
        "rows": 8
       }
      },
      "text/html": [
       "<div>\n",
       "<style scoped>\n",
       "    .dataframe tbody tr th:only-of-type {\n",
       "        vertical-align: middle;\n",
       "    }\n",
       "\n",
       "    .dataframe tbody tr th {\n",
       "        vertical-align: top;\n",
       "    }\n",
       "\n",
       "    .dataframe thead th {\n",
       "        text-align: right;\n",
       "    }\n",
       "</style>\n",
       "<table border=\"1\" class=\"dataframe\">\n",
       "  <thead>\n",
       "    <tr style=\"text-align: right;\">\n",
       "      <th></th>\n",
       "      <th>Rank</th>\n",
       "    </tr>\n",
       "  </thead>\n",
       "  <tbody>\n",
       "    <tr>\n",
       "      <th>count</th>\n",
       "      <td>234.000000</td>\n",
       "    </tr>\n",
       "    <tr>\n",
       "      <th>mean</th>\n",
       "      <td>117.500000</td>\n",
       "    </tr>\n",
       "    <tr>\n",
       "      <th>std</th>\n",
       "      <td>67.694165</td>\n",
       "    </tr>\n",
       "    <tr>\n",
       "      <th>min</th>\n",
       "      <td>1.000000</td>\n",
       "    </tr>\n",
       "    <tr>\n",
       "      <th>25%</th>\n",
       "      <td>59.250000</td>\n",
       "    </tr>\n",
       "    <tr>\n",
       "      <th>50%</th>\n",
       "      <td>117.500000</td>\n",
       "    </tr>\n",
       "    <tr>\n",
       "      <th>75%</th>\n",
       "      <td>175.750000</td>\n",
       "    </tr>\n",
       "    <tr>\n",
       "      <th>max</th>\n",
       "      <td>234.000000</td>\n",
       "    </tr>\n",
       "  </tbody>\n",
       "</table>\n",
       "</div>"
      ],
      "text/plain": [
       "             Rank\n",
       "count  234.000000\n",
       "mean   117.500000\n",
       "std     67.694165\n",
       "min      1.000000\n",
       "25%     59.250000\n",
       "50%    117.500000\n",
       "75%    175.750000\n",
       "max    234.000000"
      ]
     },
     "execution_count": 8,
     "metadata": {},
     "output_type": "execute_result"
    }
   ],
   "source": [
    "excel_pd.describe()"
   ]
  },
  {
   "cell_type": "code",
   "execution_count": 9,
   "id": "a0e31a0c",
   "metadata": {},
   "outputs": [
    {
     "data": {
      "text/plain": [
       "(234, 4)"
      ]
     },
     "execution_count": 9,
     "metadata": {},
     "output_type": "execute_result"
    }
   ],
   "source": [
    "excel_pd.shape"
   ]
  },
  {
   "cell_type": "code",
   "execution_count": 10,
   "id": "bc07e6ec",
   "metadata": {},
   "outputs": [
    {
     "data": {
      "application/vnd.microsoft.datawrangler.viewer.v0+json": {
       "columns": [
        {
         "name": "index",
         "rawType": "object",
         "type": "string"
        },
        {
         "name": "5",
         "rawType": "object",
         "type": "unknown"
        }
       ],
       "ref": "f20aaead-3f25-488d-bac2-a6408451d899",
       "rows": [
        [
         "Rank",
         "42"
        ],
        [
         "CCA3",
         "AGO"
        ],
        [
         "Country",
         "Angola"
        ],
        [
         "Capital",
         "Luanda"
        ]
       ],
       "shape": {
        "columns": 1,
        "rows": 4
       }
      },
      "text/plain": [
       "Rank           42\n",
       "CCA3          AGO\n",
       "Country    Angola\n",
       "Capital    Luanda\n",
       "Name: 5, dtype: object"
      ]
     },
     "execution_count": 10,
     "metadata": {},
     "output_type": "execute_result"
    }
   ],
   "source": [
    "excel_pd.iloc[5]"
   ]
  },
  {
   "cell_type": "code",
   "execution_count": 11,
   "id": "b64481c6",
   "metadata": {},
   "outputs": [
    {
     "data": {
      "application/vnd.microsoft.datawrangler.viewer.v0+json": {
       "columns": [
        {
         "name": "index",
         "rawType": "int64",
         "type": "integer"
        },
        {
         "name": "Rank",
         "rawType": "int64",
         "type": "integer"
        },
        {
         "name": "CCA3",
         "rawType": "object",
         "type": "string"
        },
        {
         "name": "Country",
         "rawType": "object",
         "type": "string"
        }
       ],
       "ref": "375b502e-d141-48d4-b615-aaf96efb0744",
       "rows": [
        [
         "0",
         "36",
         "AFG",
         "Afghanistan"
        ],
        [
         "1",
         "138",
         "ALB",
         "Albania"
        ],
        [
         "2",
         "34",
         "DZA",
         "Algeria"
        ],
        [
         "3",
         "213",
         "ASM",
         "American Samoa"
        ],
        [
         "4",
         "203",
         "AND",
         "Andorra"
        ],
        [
         "5",
         "42",
         "AGO",
         "Angola"
        ],
        [
         "6",
         "224",
         "AIA",
         "Anguilla"
        ],
        [
         "7",
         "201",
         "ATG",
         "Antigua and Barbuda"
        ],
        [
         "8",
         "33",
         "ARG",
         "Argentina"
        ],
        [
         "9",
         "140",
         "ARM",
         "Armenia"
        ],
        [
         "10",
         "198",
         "ABW",
         "Aruba"
        ],
        [
         "11",
         "55",
         "AUS",
         "Australia"
        ],
        [
         "12",
         "99",
         "AUT",
         "Austria"
        ],
        [
         "13",
         "91",
         "AZE",
         "Azerbaijan"
        ],
        [
         "14",
         "176",
         "BHS",
         "Bahamas"
        ],
        [
         "15",
         "154",
         "BHR",
         "Bahrain"
        ],
        [
         "16",
         "8",
         "BGD",
         "Bangladesh"
        ],
        [
         "17",
         "186",
         "BRB",
         "Barbados"
        ],
        [
         "18",
         "96",
         "BLR",
         "Belarus"
        ],
        [
         "19",
         "81",
         "BEL",
         "Belgium"
        ],
        [
         "20",
         "177",
         "BLZ",
         "Belize"
        ],
        [
         "21",
         "77",
         "BEN",
         "Benin"
        ],
        [
         "22",
         "206",
         "BMU",
         "Bermuda"
        ],
        [
         "23",
         "165",
         "BTN",
         "Bhutan"
        ],
        [
         "24",
         "80",
         "BOL",
         "Bolivia"
        ],
        [
         "25",
         "137",
         "BIH",
         "Bosnia and Herzegovina"
        ],
        [
         "26",
         "144",
         "BWA",
         "Botswana"
        ],
        [
         "27",
         "7",
         "BRA",
         "Brazil"
        ],
        [
         "28",
         "221",
         "VGB",
         "British Virgin Islands"
        ],
        [
         "29",
         "175",
         "BRN",
         "Brunei"
        ],
        [
         "30",
         "108",
         "BGR",
         "Bulgaria"
        ],
        [
         "31",
         "58",
         "BFA",
         "Burkina Faso"
        ],
        [
         "32",
         "78",
         "BDI",
         "Burundi"
        ],
        [
         "33",
         "73",
         "KHM",
         "Cambodia"
        ],
        [
         "34",
         "53",
         "CMR",
         "Cameroon"
        ],
        [
         "35",
         "39",
         "CAN",
         "Canada"
        ],
        [
         "36",
         "171",
         "CPV",
         "Cape Verde"
        ],
        [
         "37",
         "205",
         "CYM",
         "Cayman Islands"
        ],
        [
         "38",
         "117",
         "CAF",
         "Central African Republic"
        ],
        [
         "39",
         "69",
         "TCD",
         "Chad"
        ],
        [
         "40",
         "65",
         "CHL",
         "Chile"
        ],
        [
         "41",
         "1",
         "CHN",
         "China"
        ],
        [
         "42",
         "28",
         "COL",
         "Colombia"
        ],
        [
         "43",
         "163",
         "COM",
         "Comoros"
        ],
        [
         "44",
         "223",
         "COK",
         "Cook Islands"
        ],
        [
         "45",
         "124",
         "CRI",
         "Costa Rica"
        ],
        [
         "46",
         "130",
         "HRV",
         "Croatia"
        ],
        [
         "47",
         "85",
         "CUB",
         "Cuba"
        ],
        [
         "48",
         "189",
         "CUW",
         "Curacao"
        ],
        [
         "49",
         "158",
         "CYP",
         "Cyprus"
        ]
       ],
       "shape": {
        "columns": 3,
        "rows": 234
       }
      },
      "text/html": [
       "<div>\n",
       "<style scoped>\n",
       "    .dataframe tbody tr th:only-of-type {\n",
       "        vertical-align: middle;\n",
       "    }\n",
       "\n",
       "    .dataframe tbody tr th {\n",
       "        vertical-align: top;\n",
       "    }\n",
       "\n",
       "    .dataframe thead th {\n",
       "        text-align: right;\n",
       "    }\n",
       "</style>\n",
       "<table border=\"1\" class=\"dataframe\">\n",
       "  <thead>\n",
       "    <tr style=\"text-align: right;\">\n",
       "      <th></th>\n",
       "      <th>Rank</th>\n",
       "      <th>CCA3</th>\n",
       "      <th>Country</th>\n",
       "    </tr>\n",
       "  </thead>\n",
       "  <tbody>\n",
       "    <tr>\n",
       "      <th>0</th>\n",
       "      <td>36</td>\n",
       "      <td>AFG</td>\n",
       "      <td>Afghanistan</td>\n",
       "    </tr>\n",
       "    <tr>\n",
       "      <th>1</th>\n",
       "      <td>138</td>\n",
       "      <td>ALB</td>\n",
       "      <td>Albania</td>\n",
       "    </tr>\n",
       "    <tr>\n",
       "      <th>2</th>\n",
       "      <td>34</td>\n",
       "      <td>DZA</td>\n",
       "      <td>Algeria</td>\n",
       "    </tr>\n",
       "    <tr>\n",
       "      <th>3</th>\n",
       "      <td>213</td>\n",
       "      <td>ASM</td>\n",
       "      <td>American Samoa</td>\n",
       "    </tr>\n",
       "    <tr>\n",
       "      <th>4</th>\n",
       "      <td>203</td>\n",
       "      <td>AND</td>\n",
       "      <td>Andorra</td>\n",
       "    </tr>\n",
       "    <tr>\n",
       "      <th>...</th>\n",
       "      <td>...</td>\n",
       "      <td>...</td>\n",
       "      <td>...</td>\n",
       "    </tr>\n",
       "    <tr>\n",
       "      <th>229</th>\n",
       "      <td>226</td>\n",
       "      <td>WLF</td>\n",
       "      <td>Wallis and Futuna</td>\n",
       "    </tr>\n",
       "    <tr>\n",
       "      <th>230</th>\n",
       "      <td>172</td>\n",
       "      <td>ESH</td>\n",
       "      <td>Western Sahara</td>\n",
       "    </tr>\n",
       "    <tr>\n",
       "      <th>231</th>\n",
       "      <td>46</td>\n",
       "      <td>YEM</td>\n",
       "      <td>Yemen</td>\n",
       "    </tr>\n",
       "    <tr>\n",
       "      <th>232</th>\n",
       "      <td>63</td>\n",
       "      <td>ZMB</td>\n",
       "      <td>Zambia</td>\n",
       "    </tr>\n",
       "    <tr>\n",
       "      <th>233</th>\n",
       "      <td>74</td>\n",
       "      <td>ZWE</td>\n",
       "      <td>Zimbabwe</td>\n",
       "    </tr>\n",
       "  </tbody>\n",
       "</table>\n",
       "<p>234 rows × 3 columns</p>\n",
       "</div>"
      ],
      "text/plain": [
       "     Rank CCA3            Country\n",
       "0      36  AFG        Afghanistan\n",
       "1     138  ALB            Albania\n",
       "2      34  DZA            Algeria\n",
       "3     213  ASM     American Samoa\n",
       "4     203  AND            Andorra\n",
       "..    ...  ...                ...\n",
       "229   226  WLF  Wallis and Futuna\n",
       "230   172  ESH     Western Sahara\n",
       "231    46  YEM              Yemen\n",
       "232    63  ZMB             Zambia\n",
       "233    74  ZWE           Zimbabwe\n",
       "\n",
       "[234 rows x 3 columns]"
      ]
     },
     "execution_count": 11,
     "metadata": {},
     "output_type": "execute_result"
    }
   ],
   "source": [
    "excel_pd.loc[:, \"Rank\":\"Country\"]"
   ]
  },
  {
   "cell_type": "code",
   "execution_count": 12,
   "id": "3d2b3d06",
   "metadata": {},
   "outputs": [
    {
     "data": {
      "application/vnd.microsoft.datawrangler.viewer.v0+json": {
       "columns": [
        {
         "name": "index",
         "rawType": "int64",
         "type": "integer"
        },
        {
         "name": "Rank",
         "rawType": "int64",
         "type": "integer"
        },
        {
         "name": "Country",
         "rawType": "object",
         "type": "string"
        }
       ],
       "ref": "2568ee03-8e7f-493f-849d-e6118cfc2649",
       "rows": [
        [
         "0",
         "36",
         "Afghanistan"
        ],
        [
         "1",
         "138",
         "Albania"
        ],
        [
         "2",
         "34",
         "Algeria"
        ],
        [
         "3",
         "213",
         "American Samoa"
        ]
       ],
       "shape": {
        "columns": 2,
        "rows": 4
       }
      },
      "text/html": [
       "<div>\n",
       "<style scoped>\n",
       "    .dataframe tbody tr th:only-of-type {\n",
       "        vertical-align: middle;\n",
       "    }\n",
       "\n",
       "    .dataframe tbody tr th {\n",
       "        vertical-align: top;\n",
       "    }\n",
       "\n",
       "    .dataframe thead th {\n",
       "        text-align: right;\n",
       "    }\n",
       "</style>\n",
       "<table border=\"1\" class=\"dataframe\">\n",
       "  <thead>\n",
       "    <tr style=\"text-align: right;\">\n",
       "      <th></th>\n",
       "      <th>Rank</th>\n",
       "      <th>Country</th>\n",
       "    </tr>\n",
       "  </thead>\n",
       "  <tbody>\n",
       "    <tr>\n",
       "      <th>0</th>\n",
       "      <td>36</td>\n",
       "      <td>Afghanistan</td>\n",
       "    </tr>\n",
       "    <tr>\n",
       "      <th>1</th>\n",
       "      <td>138</td>\n",
       "      <td>Albania</td>\n",
       "    </tr>\n",
       "    <tr>\n",
       "      <th>2</th>\n",
       "      <td>34</td>\n",
       "      <td>Algeria</td>\n",
       "    </tr>\n",
       "    <tr>\n",
       "      <th>3</th>\n",
       "      <td>213</td>\n",
       "      <td>American Samoa</td>\n",
       "    </tr>\n",
       "  </tbody>\n",
       "</table>\n",
       "</div>"
      ],
      "text/plain": [
       "   Rank         Country\n",
       "0    36     Afghanistan\n",
       "1   138         Albania\n",
       "2    34         Algeria\n",
       "3   213  American Samoa"
      ]
     },
     "execution_count": 12,
     "metadata": {},
     "output_type": "execute_result"
    }
   ],
   "source": [
    "excel_pd.loc[:3, [\"Rank\", \"Country\"]]\n"
   ]
  },
  {
   "cell_type": "code",
   "execution_count": 13,
   "id": "821ae4ec",
   "metadata": {},
   "outputs": [
    {
     "data": {
      "text/plain": [
       "'Anguilla'"
      ]
     },
     "execution_count": 13,
     "metadata": {},
     "output_type": "execute_result"
    }
   ],
   "source": [
    "excel_pd.at[6, \"Country\"]"
   ]
  },
  {
   "cell_type": "code",
   "execution_count": 14,
   "id": "2cee2e7a",
   "metadata": {},
   "outputs": [
    {
     "data": {
      "text/plain": [
       "'Albania'"
      ]
     },
     "execution_count": 14,
     "metadata": {},
     "output_type": "execute_result"
    }
   ],
   "source": [
    "excel_pd.iat[1, 2]"
   ]
  },
  {
   "cell_type": "code",
   "execution_count": 17,
   "id": "4a47e71d",
   "metadata": {},
   "outputs": [
    {
     "data": {
      "application/vnd.microsoft.datawrangler.viewer.v0+json": {
       "columns": [
        {
         "name": "index",
         "rawType": "int64",
         "type": "integer"
        },
        {
         "name": "Rank",
         "rawType": "int64",
         "type": "integer"
        },
        {
         "name": "Country",
         "rawType": "object",
         "type": "string"
        }
       ],
       "ref": "6b78ae0e-d7be-4069-a3ec-5e777ce22393",
       "rows": [
        [
         "16",
         "8",
         "Bangladesh"
        ],
        [
         "27",
         "7",
         "Brazil"
        ],
        [
         "149",
         "6",
         "Nigeria"
        ],
        [
         "156",
         "5",
         "Pakistan"
        ]
       ],
       "shape": {
        "columns": 2,
        "rows": 4
       }
      },
      "text/html": [
       "<div>\n",
       "<style scoped>\n",
       "    .dataframe tbody tr th:only-of-type {\n",
       "        vertical-align: middle;\n",
       "    }\n",
       "\n",
       "    .dataframe tbody tr th {\n",
       "        vertical-align: top;\n",
       "    }\n",
       "\n",
       "    .dataframe thead th {\n",
       "        text-align: right;\n",
       "    }\n",
       "</style>\n",
       "<table border=\"1\" class=\"dataframe\">\n",
       "  <thead>\n",
       "    <tr style=\"text-align: right;\">\n",
       "      <th></th>\n",
       "      <th>Rank</th>\n",
       "      <th>Country</th>\n",
       "    </tr>\n",
       "  </thead>\n",
       "  <tbody>\n",
       "    <tr>\n",
       "      <th>16</th>\n",
       "      <td>8</td>\n",
       "      <td>Bangladesh</td>\n",
       "    </tr>\n",
       "    <tr>\n",
       "      <th>27</th>\n",
       "      <td>7</td>\n",
       "      <td>Brazil</td>\n",
       "    </tr>\n",
       "    <tr>\n",
       "      <th>149</th>\n",
       "      <td>6</td>\n",
       "      <td>Nigeria</td>\n",
       "    </tr>\n",
       "    <tr>\n",
       "      <th>156</th>\n",
       "      <td>5</td>\n",
       "      <td>Pakistan</td>\n",
       "    </tr>\n",
       "  </tbody>\n",
       "</table>\n",
       "</div>"
      ],
      "text/plain": [
       "     Rank     Country\n",
       "16      8  Bangladesh\n",
       "27      7      Brazil\n",
       "149     6     Nigeria\n",
       "156     5    Pakistan"
      ]
     },
     "execution_count": 17,
     "metadata": {},
     "output_type": "execute_result"
    }
   ],
   "source": [
    "excel_pd.loc[((4 < excel_pd['Rank']) & (excel_pd['Rank'] < 9)), [\"Rank\", \"Country\"]]"
   ]
  },
  {
   "cell_type": "code",
   "execution_count": null,
   "id": "0c0067f0",
   "metadata": {},
   "outputs": [],
   "source": []
  }
 ],
 "metadata": {
  "kernelspec": {
   "display_name": "base",
   "language": "python",
   "name": "python3"
  },
  "language_info": {
   "codemirror_mode": {
    "name": "ipython",
    "version": 3
   },
   "file_extension": ".py",
   "mimetype": "text/x-python",
   "name": "python",
   "nbconvert_exporter": "python",
   "pygments_lexer": "ipython3",
   "version": "3.12.2"
  }
 },
 "nbformat": 4,
 "nbformat_minor": 5
}
