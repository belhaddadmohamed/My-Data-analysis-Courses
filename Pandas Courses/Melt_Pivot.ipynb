{
 "cells": [
  {
   "cell_type": "markdown",
   "id": "11cd1ef4",
   "metadata": {},
   "source": [
    "## 1️⃣ Melt():    = [UnPivot]\n",
    "### pandas.melt() is used to transform a wide DataFrame into a long/tidy format.\n",
    "### 📌 Parameters\n",
    "* id_vars → columns to keep fixed (identifier columns).\n",
    "* value_vars → columns to unpivot (melt).\n",
    "* var_name → name for the new column that will hold the previous column names.\n",
    "* value_name → name for the new column that will hold the values.\n",
    "\n",
    "### 📌 Use case:\n",
    "* Converting data for plotting (Seaborn, Matplotlib).\n",
    "* Preparing data for machine learning (tidy data principle)."
   ]
  },
  {
   "cell_type": "code",
   "execution_count": 5,
   "id": "a83eac1d",
   "metadata": {},
   "outputs": [],
   "source": [
    "import pandas as pd"
   ]
  },
  {
   "cell_type": "code",
   "execution_count": 6,
   "id": "16c9b23b",
   "metadata": {},
   "outputs": [
    {
     "data": {
      "application/vnd.microsoft.datawrangler.viewer.v0+json": {
       "columns": [
        {
         "name": "index",
         "rawType": "int64",
         "type": "integer"
        },
        {
         "name": "Name",
         "rawType": "object",
         "type": "string"
        },
        {
         "name": "Math",
         "rawType": "int64",
         "type": "integer"
        },
        {
         "name": "Science",
         "rawType": "int64",
         "type": "integer"
        }
       ],
       "ref": "a9cdb9a4-f1d1-4d02-8b7c-6c21493e4e84",
       "rows": [
        [
         "0",
         "Alice",
         "85",
         "92"
        ],
        [
         "1",
         "Bob",
         "90",
         "88"
        ]
       ],
       "shape": {
        "columns": 3,
        "rows": 2
       }
      },
      "text/html": [
       "<div>\n",
       "<style scoped>\n",
       "    .dataframe tbody tr th:only-of-type {\n",
       "        vertical-align: middle;\n",
       "    }\n",
       "\n",
       "    .dataframe tbody tr th {\n",
       "        vertical-align: top;\n",
       "    }\n",
       "\n",
       "    .dataframe thead th {\n",
       "        text-align: right;\n",
       "    }\n",
       "</style>\n",
       "<table border=\"1\" class=\"dataframe\">\n",
       "  <thead>\n",
       "    <tr style=\"text-align: right;\">\n",
       "      <th></th>\n",
       "      <th>Name</th>\n",
       "      <th>Math</th>\n",
       "      <th>Science</th>\n",
       "    </tr>\n",
       "  </thead>\n",
       "  <tbody>\n",
       "    <tr>\n",
       "      <th>0</th>\n",
       "      <td>Alice</td>\n",
       "      <td>85</td>\n",
       "      <td>92</td>\n",
       "    </tr>\n",
       "    <tr>\n",
       "      <th>1</th>\n",
       "      <td>Bob</td>\n",
       "      <td>90</td>\n",
       "      <td>88</td>\n",
       "    </tr>\n",
       "  </tbody>\n",
       "</table>\n",
       "</div>"
      ],
      "text/plain": [
       "    Name  Math  Science\n",
       "0  Alice    85       92\n",
       "1    Bob    90       88"
      ]
     },
     "execution_count": 6,
     "metadata": {},
     "output_type": "execute_result"
    }
   ],
   "source": [
    "df = pd.DataFrame({\n",
    "    \"Name\": [\"Alice\", \"Bob\"],\n",
    "    \"Math\": [85, 90],\n",
    "    \"Science\": [92, 88]\n",
    "})\n",
    "\n",
    "df"
   ]
  },
  {
   "cell_type": "code",
   "execution_count": 7,
   "id": "3960a503",
   "metadata": {},
   "outputs": [
    {
     "data": {
      "application/vnd.microsoft.datawrangler.viewer.v0+json": {
       "columns": [
        {
         "name": "index",
         "rawType": "int64",
         "type": "integer"
        },
        {
         "name": "Name",
         "rawType": "object",
         "type": "string"
        },
        {
         "name": "Subject",
         "rawType": "object",
         "type": "string"
        },
        {
         "name": "Score",
         "rawType": "int64",
         "type": "integer"
        }
       ],
       "ref": "837365c2-1df9-4818-bf99-bc139cc133e2",
       "rows": [
        [
         "0",
         "Alice",
         "Math",
         "85"
        ],
        [
         "1",
         "Bob",
         "Math",
         "90"
        ],
        [
         "2",
         "Alice",
         "Science",
         "92"
        ],
        [
         "3",
         "Bob",
         "Science",
         "88"
        ]
       ],
       "shape": {
        "columns": 3,
        "rows": 4
       }
      },
      "text/html": [
       "<div>\n",
       "<style scoped>\n",
       "    .dataframe tbody tr th:only-of-type {\n",
       "        vertical-align: middle;\n",
       "    }\n",
       "\n",
       "    .dataframe tbody tr th {\n",
       "        vertical-align: top;\n",
       "    }\n",
       "\n",
       "    .dataframe thead th {\n",
       "        text-align: right;\n",
       "    }\n",
       "</style>\n",
       "<table border=\"1\" class=\"dataframe\">\n",
       "  <thead>\n",
       "    <tr style=\"text-align: right;\">\n",
       "      <th></th>\n",
       "      <th>Name</th>\n",
       "      <th>Subject</th>\n",
       "      <th>Score</th>\n",
       "    </tr>\n",
       "  </thead>\n",
       "  <tbody>\n",
       "    <tr>\n",
       "      <th>0</th>\n",
       "      <td>Alice</td>\n",
       "      <td>Math</td>\n",
       "      <td>85</td>\n",
       "    </tr>\n",
       "    <tr>\n",
       "      <th>1</th>\n",
       "      <td>Bob</td>\n",
       "      <td>Math</td>\n",
       "      <td>90</td>\n",
       "    </tr>\n",
       "    <tr>\n",
       "      <th>2</th>\n",
       "      <td>Alice</td>\n",
       "      <td>Science</td>\n",
       "      <td>92</td>\n",
       "    </tr>\n",
       "    <tr>\n",
       "      <th>3</th>\n",
       "      <td>Bob</td>\n",
       "      <td>Science</td>\n",
       "      <td>88</td>\n",
       "    </tr>\n",
       "  </tbody>\n",
       "</table>\n",
       "</div>"
      ],
      "text/plain": [
       "    Name  Subject  Score\n",
       "0  Alice     Math     85\n",
       "1    Bob     Math     90\n",
       "2  Alice  Science     92\n",
       "3    Bob  Science     88"
      ]
     },
     "execution_count": 7,
     "metadata": {},
     "output_type": "execute_result"
    }
   ],
   "source": [
    "pd.melt(df, id_vars=['Name'], value_vars=['Math', 'Science'], var_name='Subject', value_name='Score')"
   ]
  },
  {
   "cell_type": "markdown",
   "id": "f254404c",
   "metadata": {},
   "source": [
    "#### Example2: "
   ]
  },
  {
   "cell_type": "code",
   "execution_count": 8,
   "id": "74d36204",
   "metadata": {},
   "outputs": [
    {
     "data": {
      "application/vnd.microsoft.datawrangler.viewer.v0+json": {
       "columns": [
        {
         "name": "index",
         "rawType": "int64",
         "type": "integer"
        },
        {
         "name": "Student",
         "rawType": "object",
         "type": "string"
        },
        {
         "name": "Math",
         "rawType": "int64",
         "type": "integer"
        },
        {
         "name": "Physics",
         "rawType": "int64",
         "type": "integer"
        },
        {
         "name": "Chemistry",
         "rawType": "int64",
         "type": "integer"
        }
       ],
       "ref": "b689328d-e690-4ed8-9d4d-889e8c971f18",
       "rows": [
        [
         "0",
         "Ali",
         "90",
         "88",
         "95"
        ],
        [
         "1",
         "Sara",
         "85",
         "92",
         "89"
        ],
        [
         "2",
         "Youssef",
         "78",
         "80",
         "84"
        ]
       ],
       "shape": {
        "columns": 4,
        "rows": 3
       }
      },
      "text/html": [
       "<div>\n",
       "<style scoped>\n",
       "    .dataframe tbody tr th:only-of-type {\n",
       "        vertical-align: middle;\n",
       "    }\n",
       "\n",
       "    .dataframe tbody tr th {\n",
       "        vertical-align: top;\n",
       "    }\n",
       "\n",
       "    .dataframe thead th {\n",
       "        text-align: right;\n",
       "    }\n",
       "</style>\n",
       "<table border=\"1\" class=\"dataframe\">\n",
       "  <thead>\n",
       "    <tr style=\"text-align: right;\">\n",
       "      <th></th>\n",
       "      <th>Student</th>\n",
       "      <th>Math</th>\n",
       "      <th>Physics</th>\n",
       "      <th>Chemistry</th>\n",
       "    </tr>\n",
       "  </thead>\n",
       "  <tbody>\n",
       "    <tr>\n",
       "      <th>0</th>\n",
       "      <td>Ali</td>\n",
       "      <td>90</td>\n",
       "      <td>88</td>\n",
       "      <td>95</td>\n",
       "    </tr>\n",
       "    <tr>\n",
       "      <th>1</th>\n",
       "      <td>Sara</td>\n",
       "      <td>85</td>\n",
       "      <td>92</td>\n",
       "      <td>89</td>\n",
       "    </tr>\n",
       "    <tr>\n",
       "      <th>2</th>\n",
       "      <td>Youssef</td>\n",
       "      <td>78</td>\n",
       "      <td>80</td>\n",
       "      <td>84</td>\n",
       "    </tr>\n",
       "  </tbody>\n",
       "</table>\n",
       "</div>"
      ],
      "text/plain": [
       "   Student  Math  Physics  Chemistry\n",
       "0      Ali    90       88         95\n",
       "1     Sara    85       92         89\n",
       "2  Youssef    78       80         84"
      ]
     },
     "execution_count": 8,
     "metadata": {},
     "output_type": "execute_result"
    }
   ],
   "source": [
    "df2 = pd.DataFrame({\n",
    "    \"Student\": [\"Ali\", \"Sara\", \"Youssef\"],\n",
    "    \"Math\": [90, 85, 78],\n",
    "    \"Physics\": [88, 92, 80],\n",
    "    \"Chemistry\": [95, 89, 84]\n",
    "})\n",
    "df2"
   ]
  },
  {
   "cell_type": "code",
   "execution_count": 9,
   "id": "94561ea4",
   "metadata": {},
   "outputs": [],
   "source": [
    "df2 = pd.melt(df2, id_vars=['Student'], value_vars=['Math', 'Physics', 'Chemistry'], var_name='Subject', value_name='Score')"
   ]
  },
  {
   "cell_type": "code",
   "execution_count": null,
   "id": "45fd21d6",
   "metadata": {},
   "outputs": [],
   "source": []
  },
  {
   "cell_type": "markdown",
   "id": "f1e1eb53",
   "metadata": {},
   "source": [
    "## 2️⃣ Pivot() / Pivot_table():\n",
    "#### pivot() reshapes your data from long format → wide format, the opposite of melt().\n",
    "DataFrame.pivot(index=None, columns=None, values=None)\n",
    "* index → column(s) to use as row labels.\n",
    "* columns → column to use to make new columns.\n",
    "* values → column(s) to fill the values of the table."
   ]
  },
  {
   "cell_type": "code",
   "execution_count": 10,
   "id": "8729ebe4",
   "metadata": {},
   "outputs": [
    {
     "data": {
      "application/vnd.microsoft.datawrangler.viewer.v0+json": {
       "columns": [
        {
         "name": "index",
         "rawType": "int64",
         "type": "integer"
        },
        {
         "name": "Student",
         "rawType": "object",
         "type": "string"
        },
        {
         "name": "Subject",
         "rawType": "object",
         "type": "string"
        },
        {
         "name": "Score",
         "rawType": "int64",
         "type": "integer"
        }
       ],
       "ref": "39e28ea5-f89e-46e9-9507-818f59e21544",
       "rows": [
        [
         "0",
         "Ali",
         "Math",
         "90"
        ],
        [
         "1",
         "Sara",
         "Math",
         "85"
        ],
        [
         "2",
         "Youssef",
         "Math",
         "78"
        ],
        [
         "3",
         "Ali",
         "Physics",
         "88"
        ],
        [
         "4",
         "Sara",
         "Physics",
         "92"
        ],
        [
         "5",
         "Youssef",
         "Physics",
         "80"
        ],
        [
         "6",
         "Ali",
         "Chemistry",
         "95"
        ],
        [
         "7",
         "Sara",
         "Chemistry",
         "89"
        ],
        [
         "8",
         "Youssef",
         "Chemistry",
         "84"
        ]
       ],
       "shape": {
        "columns": 3,
        "rows": 9
       }
      },
      "text/html": [
       "<div>\n",
       "<style scoped>\n",
       "    .dataframe tbody tr th:only-of-type {\n",
       "        vertical-align: middle;\n",
       "    }\n",
       "\n",
       "    .dataframe tbody tr th {\n",
       "        vertical-align: top;\n",
       "    }\n",
       "\n",
       "    .dataframe thead th {\n",
       "        text-align: right;\n",
       "    }\n",
       "</style>\n",
       "<table border=\"1\" class=\"dataframe\">\n",
       "  <thead>\n",
       "    <tr style=\"text-align: right;\">\n",
       "      <th></th>\n",
       "      <th>Student</th>\n",
       "      <th>Subject</th>\n",
       "      <th>Score</th>\n",
       "    </tr>\n",
       "  </thead>\n",
       "  <tbody>\n",
       "    <tr>\n",
       "      <th>0</th>\n",
       "      <td>Ali</td>\n",
       "      <td>Math</td>\n",
       "      <td>90</td>\n",
       "    </tr>\n",
       "    <tr>\n",
       "      <th>1</th>\n",
       "      <td>Sara</td>\n",
       "      <td>Math</td>\n",
       "      <td>85</td>\n",
       "    </tr>\n",
       "    <tr>\n",
       "      <th>2</th>\n",
       "      <td>Youssef</td>\n",
       "      <td>Math</td>\n",
       "      <td>78</td>\n",
       "    </tr>\n",
       "    <tr>\n",
       "      <th>3</th>\n",
       "      <td>Ali</td>\n",
       "      <td>Physics</td>\n",
       "      <td>88</td>\n",
       "    </tr>\n",
       "    <tr>\n",
       "      <th>4</th>\n",
       "      <td>Sara</td>\n",
       "      <td>Physics</td>\n",
       "      <td>92</td>\n",
       "    </tr>\n",
       "    <tr>\n",
       "      <th>5</th>\n",
       "      <td>Youssef</td>\n",
       "      <td>Physics</td>\n",
       "      <td>80</td>\n",
       "    </tr>\n",
       "    <tr>\n",
       "      <th>6</th>\n",
       "      <td>Ali</td>\n",
       "      <td>Chemistry</td>\n",
       "      <td>95</td>\n",
       "    </tr>\n",
       "    <tr>\n",
       "      <th>7</th>\n",
       "      <td>Sara</td>\n",
       "      <td>Chemistry</td>\n",
       "      <td>89</td>\n",
       "    </tr>\n",
       "    <tr>\n",
       "      <th>8</th>\n",
       "      <td>Youssef</td>\n",
       "      <td>Chemistry</td>\n",
       "      <td>84</td>\n",
       "    </tr>\n",
       "  </tbody>\n",
       "</table>\n",
       "</div>"
      ],
      "text/plain": [
       "   Student    Subject  Score\n",
       "0      Ali       Math     90\n",
       "1     Sara       Math     85\n",
       "2  Youssef       Math     78\n",
       "3      Ali    Physics     88\n",
       "4     Sara    Physics     92\n",
       "5  Youssef    Physics     80\n",
       "6      Ali  Chemistry     95\n",
       "7     Sara  Chemistry     89\n",
       "8  Youssef  Chemistry     84"
      ]
     },
     "execution_count": 10,
     "metadata": {},
     "output_type": "execute_result"
    }
   ],
   "source": [
    "df2"
   ]
  },
  {
   "cell_type": "code",
   "execution_count": 11,
   "id": "8c004787",
   "metadata": {},
   "outputs": [
    {
     "data": {
      "application/vnd.microsoft.datawrangler.viewer.v0+json": {
       "columns": [
        {
         "name": "Student",
         "rawType": "object",
         "type": "string"
        },
        {
         "name": "Chemistry",
         "rawType": "int64",
         "type": "integer"
        },
        {
         "name": "Math",
         "rawType": "int64",
         "type": "integer"
        },
        {
         "name": "Physics",
         "rawType": "int64",
         "type": "integer"
        }
       ],
       "ref": "6da72850-c530-417d-8dfa-781ad40e331d",
       "rows": [
        [
         "Ali",
         "95",
         "90",
         "88"
        ],
        [
         "Sara",
         "89",
         "85",
         "92"
        ],
        [
         "Youssef",
         "84",
         "78",
         "80"
        ]
       ],
       "shape": {
        "columns": 3,
        "rows": 3
       }
      },
      "text/html": [
       "<div>\n",
       "<style scoped>\n",
       "    .dataframe tbody tr th:only-of-type {\n",
       "        vertical-align: middle;\n",
       "    }\n",
       "\n",
       "    .dataframe tbody tr th {\n",
       "        vertical-align: top;\n",
       "    }\n",
       "\n",
       "    .dataframe thead th {\n",
       "        text-align: right;\n",
       "    }\n",
       "</style>\n",
       "<table border=\"1\" class=\"dataframe\">\n",
       "  <thead>\n",
       "    <tr style=\"text-align: right;\">\n",
       "      <th>Subject</th>\n",
       "      <th>Chemistry</th>\n",
       "      <th>Math</th>\n",
       "      <th>Physics</th>\n",
       "    </tr>\n",
       "    <tr>\n",
       "      <th>Student</th>\n",
       "      <th></th>\n",
       "      <th></th>\n",
       "      <th></th>\n",
       "    </tr>\n",
       "  </thead>\n",
       "  <tbody>\n",
       "    <tr>\n",
       "      <th>Ali</th>\n",
       "      <td>95</td>\n",
       "      <td>90</td>\n",
       "      <td>88</td>\n",
       "    </tr>\n",
       "    <tr>\n",
       "      <th>Sara</th>\n",
       "      <td>89</td>\n",
       "      <td>85</td>\n",
       "      <td>92</td>\n",
       "    </tr>\n",
       "    <tr>\n",
       "      <th>Youssef</th>\n",
       "      <td>84</td>\n",
       "      <td>78</td>\n",
       "      <td>80</td>\n",
       "    </tr>\n",
       "  </tbody>\n",
       "</table>\n",
       "</div>"
      ],
      "text/plain": [
       "Subject  Chemistry  Math  Physics\n",
       "Student                          \n",
       "Ali             95    90       88\n",
       "Sara            89    85       92\n",
       "Youssef         84    78       80"
      ]
     },
     "execution_count": 11,
     "metadata": {},
     "output_type": "execute_result"
    }
   ],
   "source": [
    "df2.pivot(index=\"Student\", columns=\"Subject\", values=\"Score\")"
   ]
  },
  {
   "cell_type": "markdown",
   "id": "c19c165d",
   "metadata": {},
   "source": [
    "## ⚠️ Important\n",
    "* If there are duplicate values for the same (index, column), pivot() will raise an error.\n",
    "* In that case, use pivot_table() with an aggregation function (like mean)."
   ]
  },
  {
   "cell_type": "markdown",
   "id": "4fefdd81",
   "metadata": {},
   "source": [
    "## 🔹 What is pivot_table()?\n",
    "* It’s like pivot(), but more powerful because it allows aggregation when you have duplicate values.\n",
    "* pivot() ❌ fails if (index, column) pair is not unique.\n",
    "* pivot_table() ✅ handles duplicates by applying an aggregation function (default = mean)."
   ]
  },
  {
   "cell_type": "code",
   "execution_count": 12,
   "id": "614c53dd",
   "metadata": {},
   "outputs": [
    {
     "data": {
      "application/vnd.microsoft.datawrangler.viewer.v0+json": {
       "columns": [
        {
         "name": "index",
         "rawType": "int64",
         "type": "integer"
        },
        {
         "name": "Student",
         "rawType": "object",
         "type": "string"
        },
        {
         "name": "Subject",
         "rawType": "object",
         "type": "string"
        },
        {
         "name": "Score",
         "rawType": "int64",
         "type": "integer"
        }
       ],
       "ref": "6ff6fc88-4747-4d02-8ed1-0666a8b66b39",
       "rows": [
        [
         "0",
         "Ali",
         "Math",
         "90"
        ],
        [
         "1",
         "Ali",
         "Math",
         "85"
        ],
        [
         "2",
         "Sara",
         "Math",
         "85"
        ],
        [
         "3",
         "Sara",
         "Physics",
         "92"
        ],
        [
         "4",
         "Youssef",
         "Math",
         "78"
        ],
        [
         "5",
         "Youssef",
         "Physics",
         "80"
        ],
        [
         "6",
         "Ali",
         "Physics",
         "88"
        ]
       ],
       "shape": {
        "columns": 3,
        "rows": 7
       }
      },
      "text/html": [
       "<div>\n",
       "<style scoped>\n",
       "    .dataframe tbody tr th:only-of-type {\n",
       "        vertical-align: middle;\n",
       "    }\n",
       "\n",
       "    .dataframe tbody tr th {\n",
       "        vertical-align: top;\n",
       "    }\n",
       "\n",
       "    .dataframe thead th {\n",
       "        text-align: right;\n",
       "    }\n",
       "</style>\n",
       "<table border=\"1\" class=\"dataframe\">\n",
       "  <thead>\n",
       "    <tr style=\"text-align: right;\">\n",
       "      <th></th>\n",
       "      <th>Student</th>\n",
       "      <th>Subject</th>\n",
       "      <th>Score</th>\n",
       "    </tr>\n",
       "  </thead>\n",
       "  <tbody>\n",
       "    <tr>\n",
       "      <th>0</th>\n",
       "      <td>Ali</td>\n",
       "      <td>Math</td>\n",
       "      <td>90</td>\n",
       "    </tr>\n",
       "    <tr>\n",
       "      <th>1</th>\n",
       "      <td>Ali</td>\n",
       "      <td>Math</td>\n",
       "      <td>85</td>\n",
       "    </tr>\n",
       "    <tr>\n",
       "      <th>2</th>\n",
       "      <td>Sara</td>\n",
       "      <td>Math</td>\n",
       "      <td>85</td>\n",
       "    </tr>\n",
       "    <tr>\n",
       "      <th>3</th>\n",
       "      <td>Sara</td>\n",
       "      <td>Physics</td>\n",
       "      <td>92</td>\n",
       "    </tr>\n",
       "    <tr>\n",
       "      <th>4</th>\n",
       "      <td>Youssef</td>\n",
       "      <td>Math</td>\n",
       "      <td>78</td>\n",
       "    </tr>\n",
       "    <tr>\n",
       "      <th>5</th>\n",
       "      <td>Youssef</td>\n",
       "      <td>Physics</td>\n",
       "      <td>80</td>\n",
       "    </tr>\n",
       "    <tr>\n",
       "      <th>6</th>\n",
       "      <td>Ali</td>\n",
       "      <td>Physics</td>\n",
       "      <td>88</td>\n",
       "    </tr>\n",
       "  </tbody>\n",
       "</table>\n",
       "</div>"
      ],
      "text/plain": [
       "   Student  Subject  Score\n",
       "0      Ali     Math     90\n",
       "1      Ali     Math     85\n",
       "2     Sara     Math     85\n",
       "3     Sara  Physics     92\n",
       "4  Youssef     Math     78\n",
       "5  Youssef  Physics     80\n",
       "6      Ali  Physics     88"
      ]
     },
     "execution_count": 12,
     "metadata": {},
     "output_type": "execute_result"
    }
   ],
   "source": [
    "# 👉 Notice Ali has two Math scores (90, 85) → pivot() would raise an error.\n",
    "df3 = pd.DataFrame({\n",
    "    \"Student\": [\"Ali\", \"Ali\", \"Sara\", \"Sara\", \"Youssef\", \"Youssef\", \"Ali\"],\n",
    "    \"Subject\": [\"Math\", \"Math\", \"Math\", \"Physics\", \"Math\", \"Physics\", \"Physics\"],\n",
    "    \"Score\": [90, 85, 85, 92, 78, 80, 88]\n",
    "})\n",
    "df3"
   ]
  },
  {
   "cell_type": "code",
   "execution_count": 13,
   "id": "a581e2b6",
   "metadata": {},
   "outputs": [
    {
     "data": {
      "application/vnd.microsoft.datawrangler.viewer.v0+json": {
       "columns": [
        {
         "name": "Student",
         "rawType": "object",
         "type": "string"
        },
        {
         "name": "Math",
         "rawType": "int64",
         "type": "integer"
        },
        {
         "name": "Physics",
         "rawType": "int64",
         "type": "integer"
        }
       ],
       "ref": "33340329-e3ae-403f-a82f-ce40b9a918c3",
       "rows": [
        [
         "Ali",
         "90",
         "88"
        ],
        [
         "Sara",
         "85",
         "92"
        ],
        [
         "Youssef",
         "78",
         "80"
        ]
       ],
       "shape": {
        "columns": 2,
        "rows": 3
       }
      },
      "text/html": [
       "<div>\n",
       "<style scoped>\n",
       "    .dataframe tbody tr th:only-of-type {\n",
       "        vertical-align: middle;\n",
       "    }\n",
       "\n",
       "    .dataframe tbody tr th {\n",
       "        vertical-align: top;\n",
       "    }\n",
       "\n",
       "    .dataframe thead th {\n",
       "        text-align: right;\n",
       "    }\n",
       "</style>\n",
       "<table border=\"1\" class=\"dataframe\">\n",
       "  <thead>\n",
       "    <tr style=\"text-align: right;\">\n",
       "      <th>Subject</th>\n",
       "      <th>Math</th>\n",
       "      <th>Physics</th>\n",
       "    </tr>\n",
       "    <tr>\n",
       "      <th>Student</th>\n",
       "      <th></th>\n",
       "      <th></th>\n",
       "    </tr>\n",
       "  </thead>\n",
       "  <tbody>\n",
       "    <tr>\n",
       "      <th>Ali</th>\n",
       "      <td>90</td>\n",
       "      <td>88</td>\n",
       "    </tr>\n",
       "    <tr>\n",
       "      <th>Sara</th>\n",
       "      <td>85</td>\n",
       "      <td>92</td>\n",
       "    </tr>\n",
       "    <tr>\n",
       "      <th>Youssef</th>\n",
       "      <td>78</td>\n",
       "      <td>80</td>\n",
       "    </tr>\n",
       "  </tbody>\n",
       "</table>\n",
       "</div>"
      ],
      "text/plain": [
       "Subject  Math  Physics\n",
       "Student               \n",
       "Ali        90       88\n",
       "Sara       85       92\n",
       "Youssef    78       80"
      ]
     },
     "execution_count": 13,
     "metadata": {},
     "output_type": "execute_result"
    }
   ],
   "source": [
    "df3.pivot_table(index='Student', columns='Subject', values='Score', aggfunc='max')"
   ]
  },
  {
   "cell_type": "code",
   "execution_count": null,
   "id": "c5d761d7",
   "metadata": {},
   "outputs": [],
   "source": []
  }
 ],
 "metadata": {
  "kernelspec": {
   "display_name": "base",
   "language": "python",
   "name": "python3"
  },
  "language_info": {
   "codemirror_mode": {
    "name": "ipython",
    "version": 3
   },
   "file_extension": ".py",
   "mimetype": "text/x-python",
   "name": "python",
   "nbconvert_exporter": "python",
   "pygments_lexer": "ipython3",
   "version": "3.12.2"
  }
 },
 "nbformat": 4,
 "nbformat_minor": 5
}
